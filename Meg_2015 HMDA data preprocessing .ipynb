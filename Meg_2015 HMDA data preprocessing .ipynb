{
 "cells": [
  {
   "cell_type": "code",
   "execution_count": 39,
   "metadata": {},
   "outputs": [],
   "source": [
    "import pandas as pd \n",
    "import numpy as np"
   ]
  },
  {
   "cell_type": "code",
   "execution_count": 51,
   "metadata": {},
   "outputs": [
    {
     "name": "stderr",
     "output_type": "stream",
     "text": [
      "/Users/meganpolak/anaconda3/lib/python3.6/site-packages/IPython/core/interactiveshell.py:2785: DtypeWarning: Columns (1,10,12,13,38,39,40,41,42,43) have mixed types. Specify dtype option on import or set low_memory=False.\n",
      "  interactivity=interactivity, compiler=compiler, result=result)\n"
     ]
    }
   ],
   "source": [
    "df = pd.read_csv('/Users/meganpolak/Downloads/2015HMDALAR-National.csv', names=('Year','Respondent_ID','Agency_Code','Loan_Type','Property_Type','Loan_Purpose','Occupancy','Loan_Amount','Preapproval','Action_Type','MSA-MD','State_Code','County_Code','Census_Tract_Number','Applicant_Ethnicity','Co_Applicant_Ethnicity','Applicant_Race_1','Applicant_Race_2','Applicant_Race_3','Applicant_Race_4','Applicant_Race_5','Co_Applicant_Race_1','Co_Applicant_Race_2','Co_Applicant_Race_3','Co_Applicant_Race_4','Co_Applicant_Race_5','Applicant_Sex','Co_Applicant_Sex','Applicant_Income','Purchaser_Type ','Denial_Reason_1','Denial_Reason_2','Denial_Reason_3','Rate_Spread','HOEPA_Status','Lien_Status','Edit_Status','Sequence_Number','Population','Minority_Population_%','FFIEC_Median_Family_Income','Tract_to_MSA/MD_Income_%','Number_of_Owner-occupied_units','Number_of_1-to_4-Family_units','Application_Date_Indicator'),header=None)"
   ]
  },
  {
   "cell_type": "code",
   "execution_count": 52,
   "metadata": {},
   "outputs": [
    {
     "data": {
      "text/plain": [
       "Index(['Year', 'Respondent_ID', 'Agency_Code', 'Loan_Type', 'Property_Type',\n",
       "       'Loan_Purpose', 'Occupancy', 'Loan_Amount', 'Preapproval',\n",
       "       'Action_Type', 'MSA-MD', 'State_Code', 'County_Code',\n",
       "       'Census_Tract_Number', 'Applicant_Ethnicity', 'Co_Applicant_Ethnicity',\n",
       "       'Applicant_Race_1', 'Applicant_Race_2', 'Applicant_Race_3',\n",
       "       'Applicant_Race_4', 'Applicant_Race_5', 'Co_Applicant_Race_1',\n",
       "       'Co_Applicant_Race_2', 'Co_Applicant_Race_3', 'Co_Applicant_Race_4',\n",
       "       'Co_Applicant_Race_5', 'Applicant_Sex', 'Co_Applicant_Sex',\n",
       "       'Applicant_Income', 'Purchaser_Type ', 'Denial_Reason_1',\n",
       "       'Denial_Reason_2', 'Denial_Reason_3', 'Rate_Spread', 'HOEPA_Status',\n",
       "       'Lien_Status', 'Edit_Status', 'Sequence_Number', 'Population',\n",
       "       'Minority_Population_%', 'FFIEC_Median_Family_Income',\n",
       "       'Tract_to_MSA/MD_Income_%', 'Number_of_Owner-occupied_units',\n",
       "       'Number_of_1-to_4-Family_units', 'Application_Date_Indicator'],\n",
       "      dtype='object')"
      ]
     },
     "execution_count": 52,
     "metadata": {},
     "output_type": "execute_result"
    }
   ],
   "source": [
    "df.columns"
   ]
  },
  {
   "cell_type": "code",
   "execution_count": 53,
   "metadata": {},
   "outputs": [],
   "source": [
    "df=df.drop(['Respondent_ID','Agency_Code','Census_Tract_Number','Rate_Spread','Applicant_Ethnicity','Number_of_Owner-occupied_units', 'Number_of_1-to_4-Family_units','Population','Edit_Status','Co_Applicant_Ethnicity','Applicant_Race_1','Applicant_Race_2','Applicant_Race_3','Applicant_Race_4','FFIEC_Median_Family_Income','HOEPA_Status','Applicant_Race_5','Co_Applicant_Race_1','Sequence_Number','Co_Applicant_Race_2','Co_Applicant_Race_3','Co_Applicant_Race_4','Co_Applicant_Race_5','Applicant_Sex','Co_Applicant_Sex','Application_Date_Indicator','MSA-MD','Minority_Population_%','Tract_to_MSA/MD_Income_%'],axis=1)\n"
   ]
  },
  {
   "cell_type": "code",
   "execution_count": 54,
   "metadata": {},
   "outputs": [
    {
     "data": {
      "text/plain": [
       "Index(['Year', 'Loan_Type', 'Property_Type', 'Loan_Purpose', 'Occupancy',\n",
       "       'Loan_Amount', 'Preapproval', 'Action_Type', 'State_Code',\n",
       "       'County_Code', 'Applicant_Income', 'Purchaser_Type ', 'Denial_Reason_1',\n",
       "       'Denial_Reason_2', 'Denial_Reason_3', 'Lien_Status'],\n",
       "      dtype='object')"
      ]
     },
     "execution_count": 54,
     "metadata": {},
     "output_type": "execute_result"
    }
   ],
   "source": [
    "df.columns"
   ]
  },
  {
   "cell_type": "code",
   "execution_count": 55,
   "metadata": {},
   "outputs": [
    {
     "name": "stdout",
     "output_type": "stream",
     "text": [
      "<class 'pandas.core.frame.DataFrame'>\n",
      "RangeIndex: 14374184 entries, 0 to 14374183\n",
      "Data columns (total 16 columns):\n",
      "Year                int64\n",
      "Loan_Type           int64\n",
      "Property_Type       int64\n",
      "Loan_Purpose        int64\n",
      "Occupancy           int64\n",
      "Loan_Amount         int64\n",
      "Preapproval         int64\n",
      "Action_Type         int64\n",
      "State_Code          float64\n",
      "County_Code         object\n",
      "Applicant_Income    object\n",
      "Purchaser_Type      int64\n",
      "Denial_Reason_1     object\n",
      "Denial_Reason_2     object\n",
      "Denial_Reason_3     object\n",
      "Lien_Status         int64\n",
      "dtypes: float64(1), int64(10), object(5)\n",
      "memory usage: 1.7+ GB\n"
     ]
    }
   ],
   "source": [
    "df.info()"
   ]
  },
  {
   "cell_type": "code",
   "execution_count": 56,
   "metadata": {},
   "outputs": [],
   "source": [
    "#covert object to float \n",
    "cols = df.select_dtypes(exclude=['float','int']).columns\n",
    "df[cols] = df[cols].apply(pd.to_numeric, downcast='float', errors='coerce')\n"
   ]
  },
  {
   "cell_type": "code",
   "execution_count": 57,
   "metadata": {},
   "outputs": [
    {
     "data": {
      "text/plain": [
       "Year                       0\n",
       "Loan_Type                  0\n",
       "Property_Type              0\n",
       "Loan_Purpose               0\n",
       "Occupancy                  0\n",
       "Loan_Amount                0\n",
       "Preapproval                0\n",
       "Action_Type                0\n",
       "State_Code            266009\n",
       "County_Code           298520\n",
       "Applicant_Income     2413667\n",
       "Purchaser_Type             0\n",
       "Denial_Reason_1     12814442\n",
       "Denial_Reason_2     14036363\n",
       "Denial_Reason_3     14308781\n",
       "Lien_Status                0\n",
       "dtype: int64"
      ]
     },
     "execution_count": 57,
     "metadata": {},
     "output_type": "execute_result"
    }
   ],
   "source": [
    "df.isnull().sum()"
   ]
  },
  {
   "cell_type": "code",
   "execution_count": 58,
   "metadata": {},
   "outputs": [],
   "source": [
    "# replace missing values with mean \n",
    "df['Applicant_Income'].fillna(df['Applicant_Income'].mean(), inplace = True)"
   ]
  },
  {
   "cell_type": "code",
   "execution_count": 59,
   "metadata": {},
   "outputs": [
    {
     "data": {
      "text/html": [
       "<div>\n",
       "<style scoped>\n",
       "    .dataframe tbody tr th:only-of-type {\n",
       "        vertical-align: middle;\n",
       "    }\n",
       "\n",
       "    .dataframe tbody tr th {\n",
       "        vertical-align: top;\n",
       "    }\n",
       "\n",
       "    .dataframe thead th {\n",
       "        text-align: right;\n",
       "    }\n",
       "</style>\n",
       "<table border=\"1\" class=\"dataframe\">\n",
       "  <thead>\n",
       "    <tr style=\"text-align: right;\">\n",
       "      <th></th>\n",
       "      <th>Year</th>\n",
       "      <th>Loan_Type</th>\n",
       "      <th>Property_Type</th>\n",
       "      <th>Loan_Purpose</th>\n",
       "      <th>Occupancy</th>\n",
       "      <th>Loan_Amount</th>\n",
       "      <th>Preapproval</th>\n",
       "      <th>Action_Type</th>\n",
       "      <th>State_Code</th>\n",
       "      <th>County_Code</th>\n",
       "      <th>Applicant_Income</th>\n",
       "      <th>Purchaser_Type</th>\n",
       "      <th>Denial_Reason_1</th>\n",
       "      <th>Denial_Reason_2</th>\n",
       "      <th>Denial_Reason_3</th>\n",
       "      <th>Lien_Status</th>\n",
       "    </tr>\n",
       "  </thead>\n",
       "  <tbody>\n",
       "    <tr>\n",
       "      <th>0</th>\n",
       "      <td>2015</td>\n",
       "      <td>1</td>\n",
       "      <td>1</td>\n",
       "      <td>2</td>\n",
       "      <td>1</td>\n",
       "      <td>10</td>\n",
       "      <td>3</td>\n",
       "      <td>4</td>\n",
       "      <td>2.0</td>\n",
       "      <td>20.0</td>\n",
       "      <td>76.0</td>\n",
       "      <td>0</td>\n",
       "      <td>NaN</td>\n",
       "      <td>NaN</td>\n",
       "      <td>NaN</td>\n",
       "      <td>2</td>\n",
       "    </tr>\n",
       "    <tr>\n",
       "      <th>1</th>\n",
       "      <td>2015</td>\n",
       "      <td>3</td>\n",
       "      <td>1</td>\n",
       "      <td>3</td>\n",
       "      <td>1</td>\n",
       "      <td>198</td>\n",
       "      <td>3</td>\n",
       "      <td>4</td>\n",
       "      <td>2.0</td>\n",
       "      <td>170.0</td>\n",
       "      <td>185.0</td>\n",
       "      <td>0</td>\n",
       "      <td>NaN</td>\n",
       "      <td>NaN</td>\n",
       "      <td>NaN</td>\n",
       "      <td>1</td>\n",
       "    </tr>\n",
       "    <tr>\n",
       "      <th>2</th>\n",
       "      <td>2015</td>\n",
       "      <td>1</td>\n",
       "      <td>1</td>\n",
       "      <td>3</td>\n",
       "      <td>1</td>\n",
       "      <td>222</td>\n",
       "      <td>3</td>\n",
       "      <td>3</td>\n",
       "      <td>2.0</td>\n",
       "      <td>170.0</td>\n",
       "      <td>115.0</td>\n",
       "      <td>0</td>\n",
       "      <td>NaN</td>\n",
       "      <td>NaN</td>\n",
       "      <td>NaN</td>\n",
       "      <td>1</td>\n",
       "    </tr>\n",
       "    <tr>\n",
       "      <th>3</th>\n",
       "      <td>2015</td>\n",
       "      <td>1</td>\n",
       "      <td>1</td>\n",
       "      <td>3</td>\n",
       "      <td>2</td>\n",
       "      <td>188</td>\n",
       "      <td>3</td>\n",
       "      <td>3</td>\n",
       "      <td>2.0</td>\n",
       "      <td>170.0</td>\n",
       "      <td>115.0</td>\n",
       "      <td>0</td>\n",
       "      <td>NaN</td>\n",
       "      <td>NaN</td>\n",
       "      <td>NaN</td>\n",
       "      <td>1</td>\n",
       "    </tr>\n",
       "    <tr>\n",
       "      <th>4</th>\n",
       "      <td>2015</td>\n",
       "      <td>1</td>\n",
       "      <td>1</td>\n",
       "      <td>3</td>\n",
       "      <td>2</td>\n",
       "      <td>216</td>\n",
       "      <td>3</td>\n",
       "      <td>1</td>\n",
       "      <td>2.0</td>\n",
       "      <td>20.0</td>\n",
       "      <td>230.0</td>\n",
       "      <td>7</td>\n",
       "      <td>NaN</td>\n",
       "      <td>NaN</td>\n",
       "      <td>NaN</td>\n",
       "      <td>1</td>\n",
       "    </tr>\n",
       "  </tbody>\n",
       "</table>\n",
       "</div>"
      ],
      "text/plain": [
       "   Year  Loan_Type  Property_Type  Loan_Purpose  Occupancy  Loan_Amount  \\\n",
       "0  2015          1              1             2          1           10   \n",
       "1  2015          3              1             3          1          198   \n",
       "2  2015          1              1             3          1          222   \n",
       "3  2015          1              1             3          2          188   \n",
       "4  2015          1              1             3          2          216   \n",
       "\n",
       "   Preapproval  Action_Type  State_Code  County_Code  Applicant_Income  \\\n",
       "0            3            4         2.0         20.0              76.0   \n",
       "1            3            4         2.0        170.0             185.0   \n",
       "2            3            3         2.0        170.0             115.0   \n",
       "3            3            3         2.0        170.0             115.0   \n",
       "4            3            1         2.0         20.0             230.0   \n",
       "\n",
       "   Purchaser_Type   Denial_Reason_1  Denial_Reason_2  Denial_Reason_3  \\\n",
       "0                0              NaN              NaN              NaN   \n",
       "1                0              NaN              NaN              NaN   \n",
       "2                0              NaN              NaN              NaN   \n",
       "3                0              NaN              NaN              NaN   \n",
       "4                7              NaN              NaN              NaN   \n",
       "\n",
       "   Lien_Status  \n",
       "0            2  \n",
       "1            1  \n",
       "2            1  \n",
       "3            1  \n",
       "4            1  "
      ]
     },
     "execution_count": 59,
     "metadata": {},
     "output_type": "execute_result"
    }
   ],
   "source": [
    "df.head()"
   ]
  },
  {
   "cell_type": "code",
   "execution_count": 60,
   "metadata": {},
   "outputs": [
    {
     "data": {
      "text/plain": [
       "Year                       0\n",
       "Loan_Type                  0\n",
       "Property_Type              0\n",
       "Loan_Purpose               0\n",
       "Occupancy                  0\n",
       "Loan_Amount                0\n",
       "Preapproval                0\n",
       "Action_Type                0\n",
       "State_Code            266009\n",
       "County_Code           298520\n",
       "Applicant_Income           0\n",
       "Purchaser_Type             0\n",
       "Denial_Reason_1     12814442\n",
       "Denial_Reason_2     14036363\n",
       "Denial_Reason_3     14308781\n",
       "Lien_Status                0\n",
       "dtype: int64"
      ]
     },
     "execution_count": 60,
     "metadata": {},
     "output_type": "execute_result"
    }
   ],
   "source": [
    "df.isnull().sum()"
   ]
  },
  {
   "cell_type": "code",
   "execution_count": 34,
   "metadata": {},
   "outputs": [],
   "source": [
    "# create a class column action type apprved 1&2 else denied \n",
    "def conditions(s):\n",
    "    if (s['Action_Type'] <= 2 or ['Action_Type'] == 6):\n",
    "        return 1\n",
    "    else:\n",
    "         return 0"
   ]
  },
  {
   "cell_type": "code",
   "execution_count": 35,
   "metadata": {},
   "outputs": [],
   "source": [
    "df['Class'] = df.apply(conditions, axis=1)"
   ]
  },
  {
   "cell_type": "code",
   "execution_count": 36,
   "metadata": {},
   "outputs": [],
   "source": [
    "df['approved/denyed'] = np.where(df['Class']==0, 'denied', 'approved')"
   ]
  },
  {
   "cell_type": "code",
   "execution_count": 37,
   "metadata": {},
   "outputs": [
    {
     "data": {
      "text/html": [
       "<div>\n",
       "<style scoped>\n",
       "    .dataframe tbody tr th:only-of-type {\n",
       "        vertical-align: middle;\n",
       "    }\n",
       "\n",
       "    .dataframe tbody tr th {\n",
       "        vertical-align: top;\n",
       "    }\n",
       "\n",
       "    .dataframe thead th {\n",
       "        text-align: right;\n",
       "    }\n",
       "</style>\n",
       "<table border=\"1\" class=\"dataframe\">\n",
       "  <thead>\n",
       "    <tr style=\"text-align: right;\">\n",
       "      <th></th>\n",
       "      <th>Year</th>\n",
       "      <th>Loan_Type</th>\n",
       "      <th>Property_Type</th>\n",
       "      <th>Loan_Purpose</th>\n",
       "      <th>Occupancy</th>\n",
       "      <th>Loan_Amount</th>\n",
       "      <th>Preapproval</th>\n",
       "      <th>Action_Type</th>\n",
       "      <th>State_Code</th>\n",
       "      <th>County_Code</th>\n",
       "      <th>Applicant_Income</th>\n",
       "      <th>Purchaser_Type</th>\n",
       "      <th>Denial_Reason_1</th>\n",
       "      <th>Denial_Reason_2</th>\n",
       "      <th>Denial_Reason_3</th>\n",
       "      <th>Lien_Status</th>\n",
       "      <th>Class</th>\n",
       "      <th>approved/denyed</th>\n",
       "    </tr>\n",
       "  </thead>\n",
       "  <tbody>\n",
       "    <tr>\n",
       "      <th>0</th>\n",
       "      <td>2015</td>\n",
       "      <td>1</td>\n",
       "      <td>1</td>\n",
       "      <td>2</td>\n",
       "      <td>1</td>\n",
       "      <td>10</td>\n",
       "      <td>3</td>\n",
       "      <td>4</td>\n",
       "      <td>2.0</td>\n",
       "      <td>20.0</td>\n",
       "      <td>76.0</td>\n",
       "      <td>0</td>\n",
       "      <td>NaN</td>\n",
       "      <td>NaN</td>\n",
       "      <td>NaN</td>\n",
       "      <td>2</td>\n",
       "      <td>0</td>\n",
       "      <td>denied</td>\n",
       "    </tr>\n",
       "    <tr>\n",
       "      <th>1</th>\n",
       "      <td>2015</td>\n",
       "      <td>3</td>\n",
       "      <td>1</td>\n",
       "      <td>3</td>\n",
       "      <td>1</td>\n",
       "      <td>198</td>\n",
       "      <td>3</td>\n",
       "      <td>4</td>\n",
       "      <td>2.0</td>\n",
       "      <td>170.0</td>\n",
       "      <td>185.0</td>\n",
       "      <td>0</td>\n",
       "      <td>NaN</td>\n",
       "      <td>NaN</td>\n",
       "      <td>NaN</td>\n",
       "      <td>1</td>\n",
       "      <td>0</td>\n",
       "      <td>denied</td>\n",
       "    </tr>\n",
       "    <tr>\n",
       "      <th>2</th>\n",
       "      <td>2015</td>\n",
       "      <td>1</td>\n",
       "      <td>1</td>\n",
       "      <td>3</td>\n",
       "      <td>1</td>\n",
       "      <td>222</td>\n",
       "      <td>3</td>\n",
       "      <td>3</td>\n",
       "      <td>2.0</td>\n",
       "      <td>170.0</td>\n",
       "      <td>115.0</td>\n",
       "      <td>0</td>\n",
       "      <td>NaN</td>\n",
       "      <td>NaN</td>\n",
       "      <td>NaN</td>\n",
       "      <td>1</td>\n",
       "      <td>0</td>\n",
       "      <td>denied</td>\n",
       "    </tr>\n",
       "    <tr>\n",
       "      <th>3</th>\n",
       "      <td>2015</td>\n",
       "      <td>1</td>\n",
       "      <td>1</td>\n",
       "      <td>3</td>\n",
       "      <td>2</td>\n",
       "      <td>188</td>\n",
       "      <td>3</td>\n",
       "      <td>3</td>\n",
       "      <td>2.0</td>\n",
       "      <td>170.0</td>\n",
       "      <td>115.0</td>\n",
       "      <td>0</td>\n",
       "      <td>NaN</td>\n",
       "      <td>NaN</td>\n",
       "      <td>NaN</td>\n",
       "      <td>1</td>\n",
       "      <td>0</td>\n",
       "      <td>denied</td>\n",
       "    </tr>\n",
       "    <tr>\n",
       "      <th>4</th>\n",
       "      <td>2015</td>\n",
       "      <td>1</td>\n",
       "      <td>1</td>\n",
       "      <td>3</td>\n",
       "      <td>2</td>\n",
       "      <td>216</td>\n",
       "      <td>3</td>\n",
       "      <td>1</td>\n",
       "      <td>2.0</td>\n",
       "      <td>20.0</td>\n",
       "      <td>230.0</td>\n",
       "      <td>7</td>\n",
       "      <td>NaN</td>\n",
       "      <td>NaN</td>\n",
       "      <td>NaN</td>\n",
       "      <td>1</td>\n",
       "      <td>1</td>\n",
       "      <td>approved</td>\n",
       "    </tr>\n",
       "  </tbody>\n",
       "</table>\n",
       "</div>"
      ],
      "text/plain": [
       "   Year  Loan_Type  Property_Type  Loan_Purpose  Occupancy  Loan_Amount  \\\n",
       "0  2015          1              1             2          1           10   \n",
       "1  2015          3              1             3          1          198   \n",
       "2  2015          1              1             3          1          222   \n",
       "3  2015          1              1             3          2          188   \n",
       "4  2015          1              1             3          2          216   \n",
       "\n",
       "   Preapproval  Action_Type  State_Code  County_Code  Applicant_Income  \\\n",
       "0            3            4         2.0         20.0              76.0   \n",
       "1            3            4         2.0        170.0             185.0   \n",
       "2            3            3         2.0        170.0             115.0   \n",
       "3            3            3         2.0        170.0             115.0   \n",
       "4            3            1         2.0         20.0             230.0   \n",
       "\n",
       "   Purchaser_Type   Denial_Reason_1  Denial_Reason_2  Denial_Reason_3  \\\n",
       "0                0              NaN              NaN              NaN   \n",
       "1                0              NaN              NaN              NaN   \n",
       "2                0              NaN              NaN              NaN   \n",
       "3                0              NaN              NaN              NaN   \n",
       "4                7              NaN              NaN              NaN   \n",
       "\n",
       "   Lien_Status  Class approved/denyed  \n",
       "0            2      0          denied  \n",
       "1            1      0          denied  \n",
       "2            1      0          denied  \n",
       "3            1      0          denied  \n",
       "4            1      1        approved  "
      ]
     },
     "execution_count": 37,
     "metadata": {},
     "output_type": "execute_result"
    }
   ],
   "source": [
    "df.head()"
   ]
  },
  {
   "cell_type": "code",
   "execution_count": 38,
   "metadata": {},
   "outputs": [],
   "source": [
    "df.to_csv('/Users/meganpolak/Documents/2015_HMDA_data.csv')"
   ]
  },
  {
   "cell_type": "code",
   "execution_count": null,
   "metadata": {},
   "outputs": [],
   "source": []
  }
 ],
 "metadata": {
  "kernelspec": {
   "display_name": "Python 3",
   "language": "python",
   "name": "python3"
  },
  "language_info": {
   "codemirror_mode": {
    "name": "ipython",
    "version": 3
   },
   "file_extension": ".py",
   "mimetype": "text/x-python",
   "name": "python",
   "nbconvert_exporter": "python",
   "pygments_lexer": "ipython3",
   "version": "3.6.5"
  }
 },
 "nbformat": 4,
 "nbformat_minor": 2
}
