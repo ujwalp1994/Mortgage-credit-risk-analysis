{
 "cells": [
  {
   "cell_type": "code",
   "execution_count": 1,
   "metadata": {},
   "outputs": [],
   "source": [
    "import pandas as pd\n",
    "import numpy as np"
   ]
  },
  {
   "cell_type": "code",
   "execution_count": 44,
   "metadata": {},
   "outputs": [],
   "source": [
    "data = pd.read_csv(\"/Users/meganpolak/Downloads/State_Combined_Df 3.csv\")"
   ]
  },
  {
   "cell_type": "code",
   "execution_count": 62,
   "metadata": {},
   "outputs": [
    {
     "data": {
      "text/html": [
       "<div>\n",
       "<style scoped>\n",
       "    .dataframe tbody tr th:only-of-type {\n",
       "        vertical-align: middle;\n",
       "    }\n",
       "\n",
       "    .dataframe tbody tr th {\n",
       "        vertical-align: top;\n",
       "    }\n",
       "\n",
       "    .dataframe thead th {\n",
       "        text-align: right;\n",
       "    }\n",
       "</style>\n",
       "<table border=\"1\" class=\"dataframe\">\n",
       "  <thead>\n",
       "    <tr style=\"text-align: right;\">\n",
       "      <th></th>\n",
       "      <th>Year</th>\n",
       "      <th>FIPSStateCode</th>\n",
       "      <th>FIPSCountyCode</th>\n",
       "      <th>Income</th>\n",
       "      <th>IncRat</th>\n",
       "      <th>UPB</th>\n",
       "      <th>LTV</th>\n",
       "      <th>MortDate</th>\n",
       "      <th>Purpose</th>\n",
       "      <th>Product</th>\n",
       "      <th>Term</th>\n",
       "      <th>AmorTerm</th>\n",
       "      <th>NumBor</th>\n",
       "      <th>Occup</th>\n",
       "      <th>Rate</th>\n",
       "      <th>Amount</th>\n",
       "      <th>Front</th>\n",
       "      <th>Back</th>\n",
       "      <th>BoCreditScor</th>\n",
       "    </tr>\n",
       "  </thead>\n",
       "  <tbody>\n",
       "    <tr>\n",
       "      <th>0</th>\n",
       "      <td>2017</td>\n",
       "      <td>72</td>\n",
       "      <td>15</td>\n",
       "      <td>60588</td>\n",
       "      <td>3.2928</td>\n",
       "      <td>71967</td>\n",
       "      <td>0.89</td>\n",
       "      <td>2016</td>\n",
       "      <td>2</td>\n",
       "      <td>1</td>\n",
       "      <td>180</td>\n",
       "      <td>180</td>\n",
       "      <td>2</td>\n",
       "      <td>1</td>\n",
       "      <td>0.0288</td>\n",
       "      <td>75000</td>\n",
       "      <td>0.1118</td>\n",
       "      <td>0.2265</td>\n",
       "      <td>5</td>\n",
       "    </tr>\n",
       "    <tr>\n",
       "      <th>1</th>\n",
       "      <td>2017</td>\n",
       "      <td>66</td>\n",
       "      <td>10</td>\n",
       "      <td>210264</td>\n",
       "      <td>4.0513</td>\n",
       "      <td>514837</td>\n",
       "      <td>0.94</td>\n",
       "      <td>2016</td>\n",
       "      <td>2</td>\n",
       "      <td>1</td>\n",
       "      <td>360</td>\n",
       "      <td>360</td>\n",
       "      <td>2</td>\n",
       "      <td>1</td>\n",
       "      <td>0.0325</td>\n",
       "      <td>520000</td>\n",
       "      <td>0.1446</td>\n",
       "      <td>0.2370</td>\n",
       "      <td>5</td>\n",
       "    </tr>\n",
       "    <tr>\n",
       "      <th>2</th>\n",
       "      <td>2017</td>\n",
       "      <td>66</td>\n",
       "      <td>10</td>\n",
       "      <td>114744</td>\n",
       "      <td>2.2109</td>\n",
       "      <td>425563</td>\n",
       "      <td>1.04</td>\n",
       "      <td>2016</td>\n",
       "      <td>1</td>\n",
       "      <td>1</td>\n",
       "      <td>360</td>\n",
       "      <td>360</td>\n",
       "      <td>2</td>\n",
       "      <td>1</td>\n",
       "      <td>0.0325</td>\n",
       "      <td>429831</td>\n",
       "      <td>0.2312</td>\n",
       "      <td>0.3152</td>\n",
       "      <td>5</td>\n",
       "    </tr>\n",
       "    <tr>\n",
       "      <th>3</th>\n",
       "      <td>2017</td>\n",
       "      <td>48</td>\n",
       "      <td>439</td>\n",
       "      <td>164988</td>\n",
       "      <td>2.3403</td>\n",
       "      <td>251800</td>\n",
       "      <td>0.75</td>\n",
       "      <td>2016</td>\n",
       "      <td>2</td>\n",
       "      <td>1</td>\n",
       "      <td>360</td>\n",
       "      <td>360</td>\n",
       "      <td>2</td>\n",
       "      <td>1</td>\n",
       "      <td>0.0338</td>\n",
       "      <td>251800</td>\n",
       "      <td>0.1657</td>\n",
       "      <td>0.3430</td>\n",
       "      <td>4</td>\n",
       "    </tr>\n",
       "    <tr>\n",
       "      <th>4</th>\n",
       "      <td>2017</td>\n",
       "      <td>6</td>\n",
       "      <td>99</td>\n",
       "      <td>56160</td>\n",
       "      <td>1.0537</td>\n",
       "      <td>290613</td>\n",
       "      <td>0.85</td>\n",
       "      <td>2016</td>\n",
       "      <td>2</td>\n",
       "      <td>1</td>\n",
       "      <td>360</td>\n",
       "      <td>360</td>\n",
       "      <td>2</td>\n",
       "      <td>1</td>\n",
       "      <td>0.0325</td>\n",
       "      <td>290613</td>\n",
       "      <td>0.4062</td>\n",
       "      <td>0.4224</td>\n",
       "      <td>3</td>\n",
       "    </tr>\n",
       "  </tbody>\n",
       "</table>\n",
       "</div>"
      ],
      "text/plain": [
       "   Year  FIPSStateCode  FIPSCountyCode  Income  IncRat     UPB   LTV  \\\n",
       "0  2017             72              15   60588  3.2928   71967  0.89   \n",
       "1  2017             66              10  210264  4.0513  514837  0.94   \n",
       "2  2017             66              10  114744  2.2109  425563  1.04   \n",
       "3  2017             48             439  164988  2.3403  251800  0.75   \n",
       "4  2017              6              99   56160  1.0537  290613  0.85   \n",
       "\n",
       "   MortDate  Purpose  Product  Term  AmorTerm  NumBor  Occup    Rate  Amount  \\\n",
       "0      2016        2        1   180       180       2      1  0.0288   75000   \n",
       "1      2016        2        1   360       360       2      1  0.0325  520000   \n",
       "2      2016        1        1   360       360       2      1  0.0325  429831   \n",
       "3      2016        2        1   360       360       2      1  0.0338  251800   \n",
       "4      2016        2        1   360       360       2      1  0.0325  290613   \n",
       "\n",
       "    Front    Back  BoCreditScor  \n",
       "0  0.1118  0.2265             5  \n",
       "1  0.1446  0.2370             5  \n",
       "2  0.2312  0.3152             5  \n",
       "3  0.1657  0.3430             4  \n",
       "4  0.4062  0.4224             3  "
      ]
     },
     "execution_count": 62,
     "metadata": {},
     "output_type": "execute_result"
    }
   ],
   "source": [
    "data.head()"
   ]
  },
  {
   "cell_type": "code",
   "execution_count": 46,
   "metadata": {},
   "outputs": [],
   "source": [
    "data.head()\n",
    "data=data.drop('StateName',axis=1)\n",
    "data=data.drop('Unnamed: 0',axis=1)"
   ]
  },
  {
   "cell_type": "code",
   "execution_count": 47,
   "metadata": {},
   "outputs": [
    {
     "name": "stdout",
     "output_type": "stream",
     "text": [
      "<class 'pandas.core.frame.DataFrame'>\n",
      "RangeIndex: 390865 entries, 0 to 390864\n",
      "Data columns (total 19 columns):\n",
      "Year              390865 non-null int64\n",
      "FIPSStateCode     390865 non-null int64\n",
      "FIPSCountyCode    390865 non-null int64\n",
      "Income            390865 non-null int64\n",
      "IncRat            390865 non-null float64\n",
      "UPB               390865 non-null int64\n",
      "LTV               390865 non-null float64\n",
      "MortDate          390865 non-null int64\n",
      "Purpose           390865 non-null int64\n",
      "Product           390865 non-null int64\n",
      "Term              390865 non-null int64\n",
      "AmorTerm          390865 non-null int64\n",
      "NumBor            390865 non-null int64\n",
      "Occup             390865 non-null int64\n",
      "Rate              390865 non-null float64\n",
      "Amount            390865 non-null int64\n",
      "Front             390865 non-null float64\n",
      "Back              390865 non-null float64\n",
      "BoCreditScor      390865 non-null int64\n",
      "dtypes: float64(5), int64(14)\n",
      "memory usage: 56.7 MB\n",
      "None\n"
     ]
    }
   ],
   "source": [
    "print(data.info())"
   ]
  },
  {
   "cell_type": "code",
   "execution_count": 50,
   "metadata": {},
   "outputs": [],
   "source": [
    "#segregate the data into separate variables so that the features and the labels are separated for faster computation\n",
    "array = data.values\n",
    "X = array[:,0:18]\n",
    "Y = array[:,18]"
   ]
  },
  {
   "cell_type": "code",
   "execution_count": 51,
   "metadata": {},
   "outputs": [],
   "source": [
    "# Import the necessary libraries \n",
    "from sklearn.feature_selection import SelectKBest\n",
    "from sklearn.feature_selection import chi2"
   ]
  },
  {
   "cell_type": "code",
   "execution_count": 54,
   "metadata": {},
   "outputs": [
    {
     "name": "stdout",
     "output_type": "stream",
     "text": [
      "[4.492e+00 2.569e+02 1.287e+04 3.662e+08 4.846e+03 2.967e+08 1.089e+03\n",
      " 4.553e+00 1.031e+03 3.577e-27 1.706e+05 1.706e+05 1.284e+03 1.587e+01\n",
      " 8.026e+00 2.971e+08 6.894e+04 1.100e+05]\n",
      "[[6.059e+04 7.197e+04 1.800e+02 1.800e+02 7.500e+04]\n",
      " [2.103e+05 5.148e+05 3.600e+02 3.600e+02 5.200e+05]\n",
      " [1.147e+05 4.256e+05 3.600e+02 3.600e+02 4.298e+05]\n",
      " [1.650e+05 2.518e+05 3.600e+02 3.600e+02 2.518e+05]\n",
      " [5.616e+04 2.906e+05 3.600e+02 3.600e+02 2.906e+05]]\n"
     ]
    }
   ],
   "source": [
    "# implemnet Chi-Squared statistical test for non-negative features\n",
    "#to select 4 of the best features from the dataset\n",
    "\n",
    "# Feature extraction\n",
    "test = SelectKBest(score_func=chi2, k=5)\n",
    "fit = test.fit(X, Y)\n",
    "\n",
    "# Summarize scores\n",
    "np.set_printoptions(precision=3)\n",
    "print(fit.scores_)\n",
    "\n",
    "features = fit.transform(X)\n",
    "# Summarize selected features\n",
    "print(features[0:5,:])\n",
    "\n",
    "#Interpretation:\n",
    "#You can see the scores for each attribute and the 4 attributes chosen \n",
    "#(those with the highest scores): year, MortDate,IncRat,Amount,Back,\n",
    "#. This scores will help you further in determining the best features for training your model.\n",
    "#P.S.: The first row denotes the names of the features. For preprocessing of the dataset, the names have been numerically encoded."
   ]
  },
  {
   "cell_type": "code",
   "execution_count": 53,
   "metadata": {},
   "outputs": [
    {
     "data": {
      "text/plain": [
       "Index(['Year', 'FIPSStateCode', 'FIPSCountyCode', 'Income', 'IncRat', 'UPB',\n",
       "       'LTV', 'MortDate', 'Purpose', 'Product', 'Term', 'AmorTerm', 'NumBor',\n",
       "       'Occup', 'Rate', 'Amount', 'Front', 'Back', 'BoCreditScor'],\n",
       "      dtype='object')"
      ]
     },
     "execution_count": 53,
     "metadata": {},
     "output_type": "execute_result"
    }
   ],
   "source": [
    "data.columns"
   ]
  },
  {
   "cell_type": "code",
   "execution_count": 55,
   "metadata": {},
   "outputs": [],
   "source": [
    "#implement Recursive Feature Elimination which is a type of wrapper feature selection method.\n",
    "#In this case logistic regression to select top 5 features \n",
    "\n",
    "# Import your necessary dependencies\n",
    "from sklearn.feature_selection import RFE\n",
    "from sklearn.linear_model import LogisticRegression"
   ]
  },
  {
   "cell_type": "code",
   "execution_count": 56,
   "metadata": {},
   "outputs": [
    {
     "name": "stdout",
     "output_type": "stream",
     "text": [
      "Num Features: 5\n",
      "Selected Features: [False False False False  True False  True False  True False False False\n",
      " False False False False  True  True]\n",
      "Feature Ranking: [ 4  5  8  9  1 10  1  3  1 14  6  7  2 12 13 11  1  1]\n"
     ]
    }
   ],
   "source": [
    "# Feature extraction we select 5 \n",
    "model = LogisticRegression()\n",
    "rfe = RFE(model, 5)\n",
    "fit = rfe.fit(X, Y)\n",
    "print(\"Num Features: %s\" % (fit.n_features_))\n",
    "print(\"Selected Features: %s\" % (fit.support_))\n",
    "print(\"Feature Ranking: %s\" % (fit.ranking_))"
   ]
  },
  {
   "cell_type": "code",
   "execution_count": 57,
   "metadata": {},
   "outputs": [
    {
     "data": {
      "text/plain": [
       "Index(['Year', 'FIPSStateCode', 'FIPSCountyCode', 'Income', 'IncRat', 'UPB',\n",
       "       'LTV', 'MortDate', 'Purpose', 'Product', 'Term', 'AmorTerm', 'NumBor',\n",
       "       'Occup', 'Rate', 'Amount', 'Front', 'Back', 'BoCreditScor'],\n",
       "      dtype='object')"
      ]
     },
     "execution_count": 57,
     "metadata": {},
     "output_type": "execute_result"
    }
   ],
   "source": [
    "# top 5 features :'IncRat','LTV','Purpose', 'Back', 'BoCreditScor'\n",
    "\n",
    "data.columns"
   ]
  },
  {
   "cell_type": "code",
   "execution_count": 58,
   "metadata": {},
   "outputs": [],
   "source": [
    "#Next use Ridge regression which is basically a regularization technique \n",
    "#and an embedded feature selection techniques as well.\n",
    "\n",
    "from sklearn.linear_model import Ridge"
   ]
  },
  {
   "cell_type": "code",
   "execution_count": 59,
   "metadata": {},
   "outputs": [
    {
     "name": "stderr",
     "output_type": "stream",
     "text": [
      "/Users/meganpolak/anaconda3/lib/python3.6/site-packages/sklearn/linear_model/ridge.py:112: LinAlgWarning: scipy.linalg.solve\n",
      "Ill-conditioned matrix detected. Result is not guaranteed to be accurate.\n",
      "Reciprocal condition number8.438565e-17\n",
      "  overwrite_a=True).T\n"
     ]
    },
    {
     "data": {
      "text/plain": [
       "Ridge(alpha=1.0, copy_X=True, fit_intercept=True, max_iter=None,\n",
       "   normalize=False, random_state=None, solver='auto', tol=0.001)"
      ]
     },
     "execution_count": 59,
     "metadata": {},
     "output_type": "execute_result"
    }
   ],
   "source": [
    "#use Ridge regression to determine the coefficient R2.\n",
    "ridge = Ridge(alpha=1.0)\n",
    "ridge.fit(X,Y)"
   ]
  },
  {
   "cell_type": "code",
   "execution_count": 65,
   "metadata": {},
   "outputs": [],
   "source": [
    "# A helper method for printing the coefficients.Spot all the coefficient terms appended with \n",
    "#the feature variables. \n",
    "#It will again help to choose the most essential features.\n",
    "\n",
    "def pretty_print_coefs(coefs, names = None, sort = False):\n",
    "    if names == None:\n",
    "        names = [\"X%s\" % x for x in range(len(coefs))]\n",
    "    lst = zip(coefs, names)\n",
    "    if sort:\n",
    "        lst = sorted(lst,  key = lambda x:-np.abs(x[0]))\n",
    "    return \" + \".join(\"%s * %s\" % (round(coef, 4), name)\n",
    "                                   for coef, name in lst)"
   ]
  },
  {
   "cell_type": "code",
   "execution_count": 66,
   "metadata": {},
   "outputs": [
    {
     "name": "stdout",
     "output_type": "stream",
     "text": [
      "Ridge model: 0.0028 * X0 + 0.0012 * X1 + -0.0001 * X2 + -0.0 * X3 + 0.0194 * X4 + -0.0 * X5 + -1.1392 * X6 + -0.0226 * X7 + -0.0402 * X8 + 0.0 * X9 + 0.05 * X10 + -0.05 * X11 + 0.1501 * X12 + 0.1536 * X13 + -19.4685 * X14 + 0.0 * X15 + 0.0 * X16 + -0.0001 * X17\n"
     ]
    }
   ],
   "source": [
    "#pass Ridge model's coefficient terms also known as L2-Regularization.\n",
    "#For correlated features, it means that they tend to get similar coefficients.\n",
    "#Feature having negative coefficients don't contribute that much. \n",
    "\n",
    "print (\"Ridge model:\", pretty_print_coefs(ridge.coef_))"
   ]
  },
  {
   "cell_type": "code",
   "execution_count": null,
   "metadata": {},
   "outputs": [],
   "source": []
  }
 ],
 "metadata": {
  "kernelspec": {
   "display_name": "Python 3",
   "language": "python",
   "name": "python3"
  },
  "language_info": {
   "codemirror_mode": {
    "name": "ipython",
    "version": 3
   },
   "file_extension": ".py",
   "mimetype": "text/x-python",
   "name": "python",
   "nbconvert_exporter": "python",
   "pygments_lexer": "ipython3",
   "version": "3.6.5"
  }
 },
 "nbformat": 4,
 "nbformat_minor": 2
}
