{
 "cells": [
  {
   "cell_type": "markdown",
   "metadata": {},
   "source": [
    "### Importing Library"
   ]
  },
  {
   "cell_type": "code",
   "execution_count": 71,
   "metadata": {
    "collapsed": true
   },
   "outputs": [],
   "source": [
    "import pandas as pd\n",
    "import numpy as np\n",
    "import matplotlib.pyplot as plt\n",
    "import seaborn as sns\n",
    "from IPython.core.display import display, HTML\n",
    "from sklearn.metrics import accuracy_score\n",
    "from sklearn.metrics import confusion_matrix\n",
    "from sklearn.preprocessing import MinMaxScaler\n",
    "from sklearn.cross_validation import train_test_split\n",
    "\n",
    "%matplotlib inline"
   ]
  },
  {
   "cell_type": "markdown",
   "metadata": {},
   "source": [
    "### Loading 2014, 2015, 2016"
   ]
  },
  {
   "cell_type": "code",
   "execution_count": 3,
   "metadata": {
    "collapsed": true
   },
   "outputs": [],
   "source": [
    "df_2014 = pd.read_csv(\"2014_Declined.csv\")\n",
    "df_2015 = pd.read_csv(\"2015_Declined.csv\")\n",
    "df_2016 = pd.read_csv(\"2016_Declined.csv\")\n",
    "df_2017 = pd.read_csv(\"Decline_2017_Wells.csv\")"
   ]
  },
  {
   "cell_type": "code",
   "execution_count": 4,
   "metadata": {
    "collapsed": true
   },
   "outputs": [],
   "source": [
    "final = df_2014"
   ]
  },
  {
   "cell_type": "markdown",
   "metadata": {},
   "source": [
    "### Considering Action Type = 1, 2, 3, 6, 7\n",
    "#### Approved : Action Type 1,2,6\n",
    "#### Declined : Action Type : 3, 7"
   ]
  },
  {
   "cell_type": "code",
   "execution_count": 5,
   "metadata": {
    "collapsed": true
   },
   "outputs": [],
   "source": [
    "df = df_2017\n",
    "df_2017 = df = df[(df[\"Action_Type\"] == 1) | (df[\"Action_Type\"] == 2) | (df[\"Action_Type\"] == 3)| (df[\"Action_Type\"] == 6)|(df[\"Action_Type\"] == 7)]\n",
    "\n"
   ]
  },
  {
   "cell_type": "code",
   "execution_count": 6,
   "metadata": {
    "collapsed": true
   },
   "outputs": [],
   "source": [
    "final = final.append(df_2015)\n",
    "final = final.append(df_2016)\n",
    "final = final.append(df_2017)"
   ]
  },
  {
   "cell_type": "code",
   "execution_count": 7,
   "metadata": {},
   "outputs": [
    {
     "data": {
      "text/plain": [
       "(368855, 28)"
      ]
     },
     "execution_count": 7,
     "metadata": {},
     "output_type": "execute_result"
    }
   ],
   "source": [
    "final.shape"
   ]
  },
  {
   "cell_type": "code",
   "execution_count": 8,
   "metadata": {},
   "outputs": [
    {
     "data": {
      "text/plain": [
       "Index(['Action_Type', 'Agency_Code', 'AmorTer', 'AmorTerm', 'Amount',\n",
       "       'Application_Date_Indicator', 'BoCreditScor', 'County_Code',\n",
       "       'Denial_Reason_1', 'GDP', 'IncRat', 'Income', 'LTV', 'Loan_Purpose',\n",
       "       'Loan_Type', 'Occupancy', 'PMT', 'Property_Location', 'Property_Type',\n",
       "       'Purchaser_Type ', 'Rate', 'Real_State_Growth_%', 'Respondent_ID',\n",
       "       'State_Code', 'USPS_Code', 'Unemployemnt', 'Unnamed: 0', 'Year'],\n",
       "      dtype='object')"
      ]
     },
     "execution_count": 8,
     "metadata": {},
     "output_type": "execute_result"
    }
   ],
   "source": [
    "final.columns"
   ]
  },
  {
   "cell_type": "markdown",
   "metadata": {},
   "source": [
    "### All data is appended in Final Dataframe"
   ]
  },
  {
   "cell_type": "code",
   "execution_count": 9,
   "metadata": {
    "collapsed": true
   },
   "outputs": [],
   "source": [
    "interested = ['Agency_Code', 'Loan_Type','Property_Type', 'Loan_Purpose', 'Occupancy', 'Amount', 'Action_Type','State_Code', 'County_Code', 'Income', 'Purchaser_Type ','Property_Location', 'USPS_Code', 'GDP', 'Real_State_Growth_%', 'Rate','PMT', 'IncRat', 'Unemployemnt', 'AmorTerm', 'BoCreditScor', 'LTV', 'Year']\n",
    "data = final[interested]\n"
   ]
  },
  {
   "cell_type": "markdown",
   "metadata": {},
   "source": [
    "### Categorical data is hot one encoding\n",
    "### Continous data is Normalising "
   ]
  },
  {
   "cell_type": "code",
   "execution_count": 10,
   "metadata": {
    "collapsed": true
   },
   "outputs": [],
   "source": [
    "cat = ['Agency_Code', 'Loan_Type', 'Property_Type', 'Loan_Purpose','Occupancy','USPS_Code' , 'County_Code','BoCreditScor', 'LTV' ]\n",
    "\n",
    "no_cat = ['Amount', 'Income', 'GDP', 'Real_State_Growth_%', 'Rate', 'PMT', 'IncRat', 'Unemployemnt']"
   ]
  },
  {
   "cell_type": "code",
   "execution_count": 11,
   "metadata": {
    "collapsed": true
   },
   "outputs": [],
   "source": [
    "pre = pd.get_dummies(data, columns=cat, drop_first=True)"
   ]
  },
  {
   "cell_type": "code",
   "execution_count": 12,
   "metadata": {},
   "outputs": [
    {
     "data": {
      "text/plain": [
       "(368855, 390)"
      ]
     },
     "execution_count": 12,
     "metadata": {},
     "output_type": "execute_result"
    }
   ],
   "source": [
    "pre.shape"
   ]
  },
  {
   "cell_type": "code",
   "execution_count": 13,
   "metadata": {},
   "outputs": [
    {
     "data": {
      "text/html": [
       "<div>\n",
       "<style scoped>\n",
       "    .dataframe tbody tr th:only-of-type {\n",
       "        vertical-align: middle;\n",
       "    }\n",
       "\n",
       "    .dataframe tbody tr th {\n",
       "        vertical-align: top;\n",
       "    }\n",
       "\n",
       "    .dataframe thead th {\n",
       "        text-align: right;\n",
       "    }\n",
       "</style>\n",
       "<table border=\"1\" class=\"dataframe\">\n",
       "  <thead>\n",
       "    <tr style=\"text-align: right;\">\n",
       "      <th></th>\n",
       "      <th>Amount</th>\n",
       "      <th>Action_Type</th>\n",
       "      <th>State_Code</th>\n",
       "      <th>Income</th>\n",
       "      <th>Purchaser_Type</th>\n",
       "      <th>Property_Location</th>\n",
       "      <th>GDP</th>\n",
       "      <th>Real_State_Growth_%</th>\n",
       "      <th>Rate</th>\n",
       "      <th>PMT</th>\n",
       "      <th>...</th>\n",
       "      <th>County_Code_770</th>\n",
       "      <th>County_Code_775</th>\n",
       "      <th>County_Code_790</th>\n",
       "      <th>County_Code_800</th>\n",
       "      <th>County_Code_810</th>\n",
       "      <th>County_Code_820</th>\n",
       "      <th>County_Code_830</th>\n",
       "      <th>County_Code_840</th>\n",
       "      <th>BoCreditScor_4</th>\n",
       "      <th>LTV_1.0</th>\n",
       "    </tr>\n",
       "  </thead>\n",
       "  <tbody>\n",
       "    <tr>\n",
       "      <th>0</th>\n",
       "      <td>0.00051</td>\n",
       "      <td>3</td>\n",
       "      <td>39</td>\n",
       "      <td>0.008502</td>\n",
       "      <td>0</td>\n",
       "      <td>Ohio</td>\n",
       "      <td>0.209551</td>\n",
       "      <td>0.666667</td>\n",
       "      <td>1.0</td>\n",
       "      <td>0.000544</td>\n",
       "      <td>...</td>\n",
       "      <td>0</td>\n",
       "      <td>0</td>\n",
       "      <td>0</td>\n",
       "      <td>0</td>\n",
       "      <td>0</td>\n",
       "      <td>0</td>\n",
       "      <td>0</td>\n",
       "      <td>0</td>\n",
       "      <td>1</td>\n",
       "      <td>0</td>\n",
       "    </tr>\n",
       "    <tr>\n",
       "      <th>1</th>\n",
       "      <td>0.00454</td>\n",
       "      <td>2</td>\n",
       "      <td>48</td>\n",
       "      <td>0.052110</td>\n",
       "      <td>0</td>\n",
       "      <td>Texas</td>\n",
       "      <td>0.590777</td>\n",
       "      <td>0.739130</td>\n",
       "      <td>1.0</td>\n",
       "      <td>0.004834</td>\n",
       "      <td>...</td>\n",
       "      <td>0</td>\n",
       "      <td>0</td>\n",
       "      <td>0</td>\n",
       "      <td>0</td>\n",
       "      <td>0</td>\n",
       "      <td>0</td>\n",
       "      <td>0</td>\n",
       "      <td>0</td>\n",
       "      <td>1</td>\n",
       "      <td>0</td>\n",
       "    </tr>\n",
       "    <tr>\n",
       "      <th>2</th>\n",
       "      <td>0.00289</td>\n",
       "      <td>1</td>\n",
       "      <td>4</td>\n",
       "      <td>0.010602</td>\n",
       "      <td>6</td>\n",
       "      <td>Arizona</td>\n",
       "      <td>0.093722</td>\n",
       "      <td>0.601449</td>\n",
       "      <td>1.0</td>\n",
       "      <td>0.003077</td>\n",
       "      <td>...</td>\n",
       "      <td>0</td>\n",
       "      <td>0</td>\n",
       "      <td>0</td>\n",
       "      <td>0</td>\n",
       "      <td>0</td>\n",
       "      <td>0</td>\n",
       "      <td>0</td>\n",
       "      <td>0</td>\n",
       "      <td>1</td>\n",
       "      <td>0</td>\n",
       "    </tr>\n",
       "    <tr>\n",
       "      <th>3</th>\n",
       "      <td>0.00113</td>\n",
       "      <td>6</td>\n",
       "      <td>16</td>\n",
       "      <td>0.008502</td>\n",
       "      <td>3</td>\n",
       "      <td>Idaho</td>\n",
       "      <td>0.012638</td>\n",
       "      <td>0.644928</td>\n",
       "      <td>1.0</td>\n",
       "      <td>0.001204</td>\n",
       "      <td>...</td>\n",
       "      <td>0</td>\n",
       "      <td>0</td>\n",
       "      <td>0</td>\n",
       "      <td>0</td>\n",
       "      <td>0</td>\n",
       "      <td>0</td>\n",
       "      <td>0</td>\n",
       "      <td>0</td>\n",
       "      <td>1</td>\n",
       "      <td>0</td>\n",
       "    </tr>\n",
       "    <tr>\n",
       "      <th>4</th>\n",
       "      <td>0.00047</td>\n",
       "      <td>3</td>\n",
       "      <td>39</td>\n",
       "      <td>0.005501</td>\n",
       "      <td>0</td>\n",
       "      <td>Ohio</td>\n",
       "      <td>0.209551</td>\n",
       "      <td>0.666667</td>\n",
       "      <td>1.0</td>\n",
       "      <td>0.000501</td>\n",
       "      <td>...</td>\n",
       "      <td>0</td>\n",
       "      <td>0</td>\n",
       "      <td>0</td>\n",
       "      <td>0</td>\n",
       "      <td>0</td>\n",
       "      <td>0</td>\n",
       "      <td>0</td>\n",
       "      <td>0</td>\n",
       "      <td>0</td>\n",
       "      <td>0</td>\n",
       "    </tr>\n",
       "  </tbody>\n",
       "</table>\n",
       "<p>5 rows × 390 columns</p>\n",
       "</div>"
      ],
      "text/plain": [
       "    Amount  Action_Type  State_Code    Income  Purchaser_Type   \\\n",
       "0  0.00051            3          39  0.008502                0   \n",
       "1  0.00454            2          48  0.052110                0   \n",
       "2  0.00289            1           4  0.010602                6   \n",
       "3  0.00113            6          16  0.008502                3   \n",
       "4  0.00047            3          39  0.005501                0   \n",
       "\n",
       "  Property_Location       GDP  Real_State_Growth_%  Rate       PMT   ...     \\\n",
       "0              Ohio  0.209551             0.666667   1.0  0.000544   ...      \n",
       "1             Texas  0.590777             0.739130   1.0  0.004834   ...      \n",
       "2           Arizona  0.093722             0.601449   1.0  0.003077   ...      \n",
       "3             Idaho  0.012638             0.644928   1.0  0.001204   ...      \n",
       "4              Ohio  0.209551             0.666667   1.0  0.000501   ...      \n",
       "\n",
       "   County_Code_770  County_Code_775  County_Code_790  County_Code_800  \\\n",
       "0                0                0                0                0   \n",
       "1                0                0                0                0   \n",
       "2                0                0                0                0   \n",
       "3                0                0                0                0   \n",
       "4                0                0                0                0   \n",
       "\n",
       "   County_Code_810  County_Code_820  County_Code_830  County_Code_840  \\\n",
       "0                0                0                0                0   \n",
       "1                0                0                0                0   \n",
       "2                0                0                0                0   \n",
       "3                0                0                0                0   \n",
       "4                0                0                0                0   \n",
       "\n",
       "   BoCreditScor_4  LTV_1.0  \n",
       "0               1        0  \n",
       "1               1        0  \n",
       "2               1        0  \n",
       "3               1        0  \n",
       "4               0        0  \n",
       "\n",
       "[5 rows x 390 columns]"
      ]
     },
     "metadata": {},
     "output_type": "display_data"
    }
   ],
   "source": [
    "from sklearn.preprocessing import MinMaxScaler\n",
    "scaler = MinMaxScaler()\n",
    "scale = pd.DataFrame(data = pre)\n",
    "scale[no_cat] = scaler.fit_transform(pre[no_cat])\n",
    "\n",
    "# Show an example of a record with scaling applied\n",
    "display(scale.head())"
   ]
  },
  {
   "cell_type": "code",
   "execution_count": 14,
   "metadata": {
    "collapsed": true
   },
   "outputs": [],
   "source": [
    "final = scale"
   ]
  },
  {
   "cell_type": "code",
   "execution_count": 15,
   "metadata": {},
   "outputs": [
    {
     "data": {
      "text/plain": [
       "3    157887\n",
       "1    115358\n",
       "6     48000\n",
       "2     47508\n",
       "7       102\n",
       "Name: Action_Type, dtype: int64"
      ]
     },
     "execution_count": 15,
     "metadata": {},
     "output_type": "execute_result"
    }
   ],
   "source": [
    "scale[\"Action_Type\"].value_counts()"
   ]
  },
  {
   "cell_type": "code",
   "execution_count": 16,
   "metadata": {
    "collapsed": true
   },
   "outputs": [],
   "source": [
    "y = []\n",
    "a = 0\n",
    "d = 0\n",
    "for i in final[\"Action_Type\"]:\n",
    "    if i ==1 or i ==2 or i ==6:\n",
    "        a +=1\n",
    "        y.append(1)\n",
    "        \n",
    "    elif i ==3 or i==7:\n",
    "        d +=1\n",
    "        y.append(0)"
   ]
  },
  {
   "cell_type": "code",
   "execution_count": 17,
   "metadata": {
    "collapsed": true
   },
   "outputs": [],
   "source": [
    "del final[\"Action_Type\"]"
   ]
  },
  {
   "cell_type": "code",
   "execution_count": 18,
   "metadata": {
    "collapsed": true
   },
   "outputs": [],
   "source": [
    "del final['Property_Location']"
   ]
  },
  {
   "cell_type": "code",
   "execution_count": 19,
   "metadata": {},
   "outputs": [
    {
     "data": {
      "text/plain": [
       "(368855, 388)"
      ]
     },
     "execution_count": 19,
     "metadata": {},
     "output_type": "execute_result"
    }
   ],
   "source": [
    "final.shape"
   ]
  },
  {
   "cell_type": "markdown",
   "metadata": {},
   "source": [
    "# Analysis Number : 1\n",
    "\n",
    "### Train Data  = 2014, 2015, 2016 (288000 Sample)\n",
    "### Test Data = 2017 (80855 Sample)"
   ]
  },
  {
   "cell_type": "code",
   "execution_count": 20,
   "metadata": {
    "collapsed": true
   },
   "outputs": [],
   "source": [
    "x_train = final[(final[\"Year\"] == 2014) | (final[\"Year\"] == 2015) | (final[\"Year\"] == 2016)]"
   ]
  },
  {
   "cell_type": "code",
   "execution_count": 21,
   "metadata": {
    "collapsed": true
   },
   "outputs": [],
   "source": [
    "del x_train['Year']"
   ]
  },
  {
   "cell_type": "code",
   "execution_count": 22,
   "metadata": {},
   "outputs": [
    {
     "data": {
      "text/plain": [
       "(288000, 387)"
      ]
     },
     "execution_count": 22,
     "metadata": {},
     "output_type": "execute_result"
    }
   ],
   "source": [
    "x_train.shape"
   ]
  },
  {
   "cell_type": "code",
   "execution_count": 23,
   "metadata": {
    "collapsed": true
   },
   "outputs": [],
   "source": [
    "x_test =  final[(final[\"Year\"] == 2017)]"
   ]
  },
  {
   "cell_type": "code",
   "execution_count": 24,
   "metadata": {
    "collapsed": true
   },
   "outputs": [],
   "source": [
    "del x_test['Year']"
   ]
  },
  {
   "cell_type": "code",
   "execution_count": 25,
   "metadata": {},
   "outputs": [
    {
     "data": {
      "text/plain": [
       "(80855, 387)"
      ]
     },
     "execution_count": 25,
     "metadata": {},
     "output_type": "execute_result"
    }
   ],
   "source": [
    "x_test.shape"
   ]
  },
  {
   "cell_type": "code",
   "execution_count": 26,
   "metadata": {},
   "outputs": [
    {
     "data": {
      "text/plain": [
       "288000"
      ]
     },
     "execution_count": 26,
     "metadata": {},
     "output_type": "execute_result"
    }
   ],
   "source": [
    "train_rows = x_train.shape[0]\n",
    "train_rows"
   ]
  },
  {
   "cell_type": "code",
   "execution_count": 27,
   "metadata": {},
   "outputs": [
    {
     "data": {
      "text/plain": [
       "80855"
      ]
     },
     "execution_count": 27,
     "metadata": {},
     "output_type": "execute_result"
    }
   ],
   "source": [
    "test_rows = x_test.shape[0]\n",
    "test_rows"
   ]
  },
  {
   "cell_type": "code",
   "execution_count": 28,
   "metadata": {
    "collapsed": true
   },
   "outputs": [],
   "source": [
    "y_train = y[:train_rows]\n",
    "y_test  = y[train_rows:]"
   ]
  },
  {
   "cell_type": "code",
   "execution_count": 29,
   "metadata": {},
   "outputs": [
    {
     "data": {
      "text/plain": [
       "80855"
      ]
     },
     "execution_count": 29,
     "metadata": {},
     "output_type": "execute_result"
    }
   ],
   "source": [
    "len(y_test)"
   ]
  },
  {
   "cell_type": "code",
   "execution_count": 30,
   "metadata": {},
   "outputs": [
    {
     "data": {
      "text/plain": [
       "(80855, 387)"
      ]
     },
     "execution_count": 30,
     "metadata": {},
     "output_type": "execute_result"
    }
   ],
   "source": [
    "x_test.shape"
   ]
  },
  {
   "cell_type": "code",
   "execution_count": 31,
   "metadata": {},
   "outputs": [
    {
     "name": "stderr",
     "output_type": "stream",
     "text": [
      "/Users/chaitanyapotnis/anaconda/lib/python3.6/site-packages/ipykernel_launcher.py:1: SettingWithCopyWarning: \n",
      "A value is trying to be set on a copy of a slice from a DataFrame.\n",
      "Try using .loc[row_indexer,col_indexer] = value instead\n",
      "\n",
      "See the caveats in the documentation: http://pandas.pydata.org/pandas-docs/stable/indexing.html#indexing-view-versus-copy\n",
      "  \"\"\"Entry point for launching an IPython kernel.\n"
     ]
    }
   ],
   "source": [
    "x_test[\"AmorTerm\"] = x_test[\"AmorTerm\"].fillna(360.0)"
   ]
  },
  {
   "cell_type": "markdown",
   "metadata": {},
   "source": [
    "\n",
    "\n",
    "\n",
    "## Model No 1 : Logistic Regression\n",
    "\n",
    "##### Training"
   ]
  },
  {
   "cell_type": "code",
   "execution_count": 32,
   "metadata": {},
   "outputs": [
    {
     "data": {
      "text/plain": [
       "LogisticRegression(C=1.0, class_weight=None, dual=False, fit_intercept=True,\n",
       "          intercept_scaling=1, max_iter=100, multi_class='ovr', n_jobs=1,\n",
       "          penalty='l2', random_state=None, solver='liblinear', tol=0.0001,\n",
       "          verbose=0, warm_start=False)"
      ]
     },
     "execution_count": 32,
     "metadata": {},
     "output_type": "execute_result"
    }
   ],
   "source": [
    "from sklearn.linear_model import LogisticRegression\n",
    "\n",
    "clf = LogisticRegression()\n",
    "clf.fit(x_train, y_train)"
   ]
  },
  {
   "cell_type": "markdown",
   "metadata": {},
   "source": [
    "##### Testing"
   ]
  },
  {
   "cell_type": "code",
   "execution_count": 33,
   "metadata": {},
   "outputs": [
    {
     "name": "stdout",
     "output_type": "stream",
     "text": [
      "Accuracy :  85.35526559891163 %\n",
      "\n",
      "\n",
      "\n",
      "Confusion Matrix : \n",
      " [[10622  3367]\n",
      " [ 8474 58392]]\n"
     ]
    }
   ],
   "source": [
    "pred = clf.predict(x_test)\n",
    "print(\"Accuracy : \", accuracy_score(y_test, pred)*100,\"%\")\n",
    "print(\"\\n\\n\")\n",
    "print(\"Confusion Matrix : \\n\", confusion_matrix(y_test, pred))"
   ]
  },
  {
   "cell_type": "markdown",
   "metadata": {},
   "source": [
    "## Model No 2 : Random Forest\n",
    "\n",
    "##### Training"
   ]
  },
  {
   "cell_type": "code",
   "execution_count": 34,
   "metadata": {},
   "outputs": [
    {
     "data": {
      "text/plain": [
       "RandomForestClassifier(bootstrap=True, class_weight=None, criterion='gini',\n",
       "            max_depth=None, max_features='auto', max_leaf_nodes=None,\n",
       "            min_impurity_split=1e-07, min_samples_leaf=1,\n",
       "            min_samples_split=2, min_weight_fraction_leaf=0.0,\n",
       "            n_estimators=10, n_jobs=1, oob_score=False, random_state=None,\n",
       "            verbose=0, warm_start=False)"
      ]
     },
     "execution_count": 34,
     "metadata": {},
     "output_type": "execute_result"
    }
   ],
   "source": [
    "from sklearn.ensemble import RandomForestClassifier\n",
    "\n",
    "clf = RandomForestClassifier()\n",
    "clf.fit(x_train, y_train)"
   ]
  },
  {
   "cell_type": "markdown",
   "metadata": {},
   "source": [
    "##### Testing:"
   ]
  },
  {
   "cell_type": "code",
   "execution_count": 35,
   "metadata": {},
   "outputs": [
    {
     "name": "stdout",
     "output_type": "stream",
     "text": [
      "Accuracy :  79.45581596685425 %\n",
      "\n",
      "\n",
      "\n",
      "Confusion Matrix : \n",
      " [[11330  2659]\n",
      " [13952 52914]]\n"
     ]
    }
   ],
   "source": [
    "pred = clf.predict(x_test)\n",
    "print(\"Accuracy : \", accuracy_score(y_test, pred)*100,\"%\")\n",
    "print(\"\\n\\n\")\n",
    "print(\"Confusion Matrix : \\n\", confusion_matrix(y_test, pred))"
   ]
  },
  {
   "cell_type": "markdown",
   "metadata": {},
   "source": [
    "## Model No 3 : AdaBoostClassifier\n",
    "\n",
    "##### Training"
   ]
  },
  {
   "cell_type": "code",
   "execution_count": 36,
   "metadata": {},
   "outputs": [
    {
     "data": {
      "text/plain": [
       "AdaBoostClassifier(algorithm='SAMME.R', base_estimator=None,\n",
       "          learning_rate=1.0, n_estimators=50, random_state=None)"
      ]
     },
     "execution_count": 36,
     "metadata": {},
     "output_type": "execute_result"
    }
   ],
   "source": [
    "from sklearn.ensemble import AdaBoostClassifier\n",
    "\n",
    "clf = AdaBoostClassifier()\n",
    "clf.fit(x_train, y_train)"
   ]
  },
  {
   "cell_type": "markdown",
   "metadata": {},
   "source": [
    "##### Testing"
   ]
  },
  {
   "cell_type": "code",
   "execution_count": 37,
   "metadata": {},
   "outputs": [
    {
     "name": "stdout",
     "output_type": "stream",
     "text": [
      "Accuracy :  84.1506400346299 %\n",
      "\n",
      "\n",
      "\n",
      "Confusion Matrix : \n",
      " [[10595  3394]\n",
      " [ 9421 57445]]\n"
     ]
    }
   ],
   "source": [
    "pred = clf.predict(x_test)\n",
    "print(\"Accuracy : \", accuracy_score(y_test, pred)*100,\"%\")\n",
    "print(\"\\n\\n\")\n",
    "print(\"Confusion Matrix : \\n\", confusion_matrix(y_test, pred))"
   ]
  },
  {
   "cell_type": "code",
   "execution_count": 47,
   "metadata": {},
   "outputs": [],
   "source": [
    "from sklearn.ensemble import RandomForestClassifier\n",
    "classifier = RandomForestClassifier(n_estimators = 100, criterion = 'entropy', random_state = 0)\n",
    "classifier.fit(x_train, y_train)\n",
    "\n",
    "# Predicting the Test set results\n",
    "y_pred = classifier.predict(x_test)"
   ]
  },
  {
   "cell_type": "code",
   "execution_count": 48,
   "metadata": {},
   "outputs": [
    {
     "name": "stdout",
     "output_type": "stream",
     "text": [
      "Accuracy :  85.35279203512461 %\n",
      "\n",
      "\n",
      "\n",
      "Confusion Matrix : \n",
      " [[11335  2654]\n",
      " [ 9189 57677]]\n"
     ]
    }
   ],
   "source": [
    "print(\"Accuracy : \", accuracy_score(y_test, y_pred)*100,\"%\")\n",
    "print(\"\\n\\n\")\n",
    "print(\"Confusion Matrix : \\n\", confusion_matrix(y_test, y_pred))"
   ]
  },
  {
   "cell_type": "markdown",
   "metadata": {},
   "source": [
    "## Model 4 : Deep Neural Network\n",
    "\n",
    "##### Training"
   ]
  },
  {
   "cell_type": "code",
   "execution_count": 52,
   "metadata": {},
   "outputs": [
    {
     "name": "stdout",
     "output_type": "stream",
     "text": [
      "Train on 230400 samples, validate on 57600 samples\n",
      "Epoch 1/5\n",
      "230400/230400 [==============================] - 38s - loss: 0.4332 - acc: 0.7847 - val_loss: 0.3866 - val_acc: 0.8104\n",
      "Epoch 2/5\n",
      "230400/230400 [==============================] - 36s - loss: 0.3900 - acc: 0.8005 - val_loss: 0.3783 - val_acc: 0.8101\n",
      "Epoch 3/5\n",
      "230400/230400 [==============================] - 35s - loss: 0.3834 - acc: 0.8031 - val_loss: 0.3674 - val_acc: 0.8124\n",
      "Epoch 4/5\n",
      "230400/230400 [==============================] - 36s - loss: 0.3777 - acc: 0.8059 - val_loss: 0.3627 - val_acc: 0.8127\n",
      "Epoch 5/5\n",
      "230400/230400 [==============================] - 36s - loss: 0.3751 - acc: 0.8072 - val_loss: 0.3668 - val_acc: 0.8141\n"
     ]
    }
   ],
   "source": [
    "Xtrain = np.array(x_train)\n",
    "ytrain = np.array(y_train)\n",
    "Xtest = np.array(x_test)\n",
    "ytest = np.array(y_test)\n",
    "\n",
    "classifier = 0\n",
    "import keras\n",
    "from keras.models import Sequential\n",
    "from keras.layers import Dense\n",
    "\n",
    "classifier = Sequential()\n",
    "\n",
    "classifier.add(Dense(units = 32, activation = 'relu', input_dim = 387))\n",
    "\n",
    "classifier.add(Dense(units = 64, activation = 'relu'))\n",
    "\n",
    "classifier.add(Dense(units = 1, activation = 'sigmoid'))\n",
    "\n",
    "classifier.compile(optimizer = 'adam', loss = 'binary_crossentropy', metrics = ['accuracy'])\n",
    "\n",
    "history = classifier.fit(Xtrain, ytrain, batch_size =64, epochs = 5, validation_split= 0.20)"
   ]
  },
  {
   "cell_type": "markdown",
   "metadata": {},
   "source": [
    "##### Testing"
   ]
  },
  {
   "cell_type": "code",
   "execution_count": 53,
   "metadata": {},
   "outputs": [
    {
     "name": "stdout",
     "output_type": "stream",
     "text": [
      "80320/80855 [============================>.] - ETA: 0s"
     ]
    },
    {
     "data": {
      "text/plain": [
       "[0.2918985077286456, 0.849013666442872]"
      ]
     },
     "execution_count": 53,
     "metadata": {},
     "output_type": "execute_result"
    }
   ],
   "source": [
    "score = classifier.evaluate(Xtest, ytest, batch_size=32)\n",
    "score"
   ]
  },
  {
   "cell_type": "code",
   "execution_count": 54,
   "metadata": {},
   "outputs": [
    {
     "data": {
      "image/png": "[encoded data removed]",
      "text/plain": [
       "<Figure size 432x288 with 1 Axes>"
      ]
     },
     "metadata": {},
     "output_type": "display_data"
    },
    {
     "data": {
      "image/png": "[encoded data removed]",
      "text/plain": [
       "<Figure size 432x288 with 1 Axes>"
      ]
     },
     "metadata": {},
     "output_type": "display_data"
    }
   ],
   "source": [
    "import matplotlib.pyplot as plt\n",
    "# summarize history for accuracy\n",
    "plt.plot(history.history['acc'])\n",
    "plt.plot(history.history['val_acc'])\n",
    "plt.title('model accuracy')\n",
    "plt.ylabel('accuracy')\n",
    "plt.xlabel('epoch')\n",
    "plt.legend(['Train', 'Validation'], loc='upper left')\n",
    "plt.show()\n",
    "# summarize history for loss\n",
    "plt.plot(history.history['loss'])\n",
    "plt.plot(history.history['val_loss'])\n",
    "plt.title('model loss')\n",
    "plt.ylabel('loss')\n",
    "plt.xlabel('epoch')\n",
    "plt.legend(['Train', 'Validation'], loc='upper left')\n",
    "plt.show()"
   ]
  },
  {
   "cell_type": "markdown",
   "metadata": {},
   "source": [
    "## Optimzing the the model to get better accuracy\n",
    "##### All the 3 Machine Learniing models are performing similar on default hyper-parameters , we will tune the hyper-parameters and optimize the the Logistic Regression model to find the model with highest accuracy\n",
    "\n",
    "##### Optimizing Logisitic Regression\n"
   ]
  },
  {
   "cell_type": "code",
   "execution_count": 62,
   "metadata": {
    "collapsed": true
   },
   "outputs": [],
   "source": [
    "from sklearn.model_selection import GridSearchCV\n",
    "from sklearn.metrics import make_scorer\n",
    "from sklearn.linear_model import LogisticRegression\n",
    "\n",
    "clf = LogisticRegression()\n",
    "\n",
    "parameters = {'C'       : [0.001, 0.01, 0.1, 1, 10, 100, 1000]\n",
    "             }\n",
    "\n",
    "\n",
    "scorer = make_scorer(accuracy_score)\n",
    "grid_obj = GridSearchCV(clf, parameters,scoring=scorer)\n",
    "grid_fit = grid_obj.fit(x_train, y_train)\n",
    "best_clf = grid_fit.best_estimator_\n"
   ]
  },
  {
   "cell_type": "code",
   "execution_count": 63,
   "metadata": {},
   "outputs": [
    {
     "data": {
      "text/plain": [
       "LogisticRegression(C=1000, class_weight=None, dual=False, fit_intercept=True,\n",
       "          intercept_scaling=1, max_iter=100, multi_class='ovr', n_jobs=1,\n",
       "          penalty='l2', random_state=None, solver='liblinear', tol=0.0001,\n",
       "          verbose=0, warm_start=False)"
      ]
     },
     "execution_count": 63,
     "metadata": {},
     "output_type": "execute_result"
    }
   ],
   "source": [
    "best_clf"
   ]
  },
  {
   "cell_type": "markdown",
   "metadata": {},
   "source": [
    "##### Testing"
   ]
  },
  {
   "cell_type": "code",
   "execution_count": 64,
   "metadata": {},
   "outputs": [
    {
     "name": "stdout",
     "output_type": "stream",
     "text": [
      "Accuracy :  85.84626801063632 %\n",
      "\n",
      "\n",
      "\n",
      "Confusion Matrix : \n",
      " [[10370  3619]\n",
      " [ 7825 59041]]\n"
     ]
    }
   ],
   "source": [
    "pred = best_clf.predict(x_test)\n",
    "print(\"Accuracy : \", accuracy_score(y_test, pred)*100,\"%\")\n",
    "print(\"\\n\\n\")\n",
    "print(\"Confusion Matrix : \\n\", confusion_matrix(y_test, pred))"
   ]
  },
  {
   "cell_type": "code",
   "execution_count": 61,
   "metadata": {},
   "outputs": [
    {
     "data": {
      "text/plain": [
       "0.8097881944444445"
      ]
     },
     "execution_count": 61,
     "metadata": {},
     "output_type": "execute_result"
    }
   ],
   "source": [
    "from sklearn import metrics, cross_validation\n",
    "predicted = cross_validation.cross_val_predict(LogisticRegression(), x_train, y_train, cv=25)\n",
    "metrics.accuracy_score(y_train, predicted)"
   ]
  },
  {
   "cell_type": "markdown",
   "metadata": {},
   "source": [
    "# Analysis No :2\n",
    "## Now lets trying training and testing 2014, 2015, 2016, 2017 data together\n",
    "#### Here in these analysis the whole data is shuffled and in previous analysi we trained on 2014, 2015, 106 and tested on 2017\n",
    "\n",
    "#### Here we will divide the whole data : 75% training and 25% testing and it will contain random years\n",
    "\n",
    "#### This analysis is totaly different from the above one! We will train a new model and test it"
   ]
  },
  {
   "cell_type": "code",
   "execution_count": 68,
   "metadata": {},
   "outputs": [
    {
     "data": {
      "text/plain": [
       "(368855, 388)"
      ]
     },
     "execution_count": 68,
     "metadata": {},
     "output_type": "execute_result"
    }
   ],
   "source": [
    "final.shape"
   ]
  },
  {
   "cell_type": "code",
   "execution_count": 69,
   "metadata": {},
   "outputs": [
    {
     "data": {
      "text/plain": [
       "368855"
      ]
     },
     "execution_count": 69,
     "metadata": {},
     "output_type": "execute_result"
    }
   ],
   "source": [
    "len(y)"
   ]
  },
  {
   "cell_type": "code",
   "execution_count": 76,
   "metadata": {},
   "outputs": [
    {
     "name": "stdout",
     "output_type": "stream",
     "text": [
      "Training set has 276641 samples.\n",
      "Testing set has 92214 samples.\n"
     ]
    }
   ],
   "source": [
    "X_train, X_test, y_train, y_test = train_test_split(final, \n",
    "                                                    y, \n",
    "                                                    test_size = 0.25, \n",
    "                                                    random_state = 0)\n",
    "\n",
    "\n",
    "print (\"Training set has {} samples.\".format(X_train.shape[0]))\n",
    "print (\"Testing set has {} samples.\".format(X_test.shape[0]))"
   ]
  },
  {
   "cell_type": "code",
   "execution_count": 77,
   "metadata": {
    "collapsed": true
   },
   "outputs": [],
   "source": [
    "del X_train['Year']"
   ]
  },
  {
   "cell_type": "code",
   "execution_count": 78,
   "metadata": {
    "collapsed": true
   },
   "outputs": [],
   "source": [
    "del X_test['Year']"
   ]
  },
  {
   "cell_type": "code",
   "execution_count": 84,
   "metadata": {},
   "outputs": [
    {
     "name": "stderr",
     "output_type": "stream",
     "text": [
      "/Users/chaitanyapotnis/anaconda/lib/python3.6/site-packages/ipykernel_launcher.py:1: SettingWithCopyWarning: \n",
      "A value is trying to be set on a copy of a slice from a DataFrame.\n",
      "Try using .loc[row_indexer,col_indexer] = value instead\n",
      "\n",
      "See the caveats in the documentation: http://pandas.pydata.org/pandas-docs/stable/indexing.html#indexing-view-versus-copy\n",
      "  \"\"\"Entry point for launching an IPython kernel.\n"
     ]
    }
   ],
   "source": [
    "x_test[\"AmorTerm\"] = x_test[\"AmorTerm\"].fillna(360.0)\n",
    "X_train[\"AmorTerm\"] = X_train[\"AmorTerm\"].fillna(360.0)"
   ]
  },
  {
   "cell_type": "markdown",
   "metadata": {},
   "source": [
    "### Lets try all the models again on these new split train test data"
   ]
  },
  {
   "cell_type": "markdown",
   "metadata": {},
   "source": [
    "### Model 1 : Logisitic Regression"
   ]
  },
  {
   "cell_type": "code",
   "execution_count": 106,
   "metadata": {},
   "outputs": [
    {
     "name": "stdout",
     "output_type": "stream",
     "text": [
      "Accuracy :  83.13813520723534 %\n",
      "\n",
      "\n",
      "\n",
      "Confusion Matrix : \n",
      " [[35806  3816]\n",
      " [11733 40859]]\n"
     ]
    }
   ],
   "source": [
    "from sklearn.linear_model import LogisticRegression\n",
    "\n",
    "clf = LogisticRegression()\n",
    "clf.fit(X_train, y_train)\n",
    "\n",
    "pred = clf.predict(X_test)\n",
    "lr_acc = accuracy_score(y_test, pred)*100\n",
    "print(\"Accuracy : \", accuracy_score(y_test, pred)*100,\"%\")\n",
    "print(\"\\n\\n\")\n",
    "print(\"Confusion Matrix : \\n\", confusion_matrix(y_test, pred))"
   ]
  },
  {
   "cell_type": "markdown",
   "metadata": {},
   "source": [
    "### Model 2 : Random Forest"
   ]
  },
  {
   "cell_type": "code",
   "execution_count": 107,
   "metadata": {},
   "outputs": [
    {
     "name": "stdout",
     "output_type": "stream",
     "text": [
      "Accuracy :  84.68779144164661 %\n",
      "\n",
      "\n",
      "\n",
      "Confusion Matrix : \n",
      " [[34995  4627]\n",
      " [ 9493 43099]]\n"
     ]
    }
   ],
   "source": [
    "from sklearn.ensemble import RandomForestClassifier\n",
    "\n",
    "clf = RandomForestClassifier()\n",
    "clf.fit(X_train, y_train)\n",
    "\n",
    "pred = clf.predict(X_test)\n",
    "rf_acc = accuracy_score(y_test, pred)*100\n",
    "print(\"Accuracy : \", accuracy_score(y_test, pred)*100,\"%\")\n",
    "print(\"\\n\\n\")\n",
    "print(\"Confusion Matrix : \\n\", confusion_matrix(y_test, pred))"
   ]
  },
  {
   "cell_type": "markdown",
   "metadata": {},
   "source": [
    "### Model 3 : Adaboost "
   ]
  },
  {
   "cell_type": "code",
   "execution_count": 108,
   "metadata": {},
   "outputs": [
    {
     "name": "stdout",
     "output_type": "stream",
     "text": [
      "Accuracy :  83.55022014010888 %\n",
      "\n",
      "\n",
      "\n",
      "Confusion Matrix : \n",
      " [[35505  4117]\n",
      " [11052 41540]]\n"
     ]
    }
   ],
   "source": [
    "from sklearn.ensemble import AdaBoostClassifier\n",
    "\n",
    "clf = AdaBoostClassifier()\n",
    "clf.fit(X_train, y_train)\n",
    "pred = clf.predict(X_test)\n",
    "\n",
    "ab_acc = accuracy_score(y_test, pred)*100\n",
    "print(\"Accuracy : \", accuracy_score(y_test, pred)*100,\"%\")\n",
    "print(\"\\n\\n\")\n",
    "print(\"Confusion Matrix : \\n\", confusion_matrix(y_test, pred))"
   ]
  },
  {
   "cell_type": "markdown",
   "metadata": {},
   "source": [
    "### Model 4 : Deep Neural Network"
   ]
  },
  {
   "cell_type": "code",
   "execution_count": 110,
   "metadata": {},
   "outputs": [
    {
     "name": "stdout",
     "output_type": "stream",
     "text": [
      "Train on 221312 samples, validate on 55329 samples\n",
      "Epoch 1/5\n",
      "221312/221312 [==============================] - 37s - loss: 0.4161 - acc: 0.7925 - val_loss: 0.4872 - val_acc: 0.7985\n",
      "Epoch 2/5\n",
      "221312/221312 [==============================] - 35s - loss: 0.3477 - acc: 0.8216 - val_loss: 0.3477 - val_acc: 0.8204\n",
      "Epoch 3/5\n",
      "221312/221312 [==============================] - 35s - loss: 0.3422 - acc: 0.8245 - val_loss: 0.3315 - val_acc: 0.8304\n",
      "Epoch 4/5\n",
      "221312/221312 [==============================] - 32s - loss: 0.3402 - acc: 0.8248 - val_loss: 0.3618 - val_acc: 0.7949\n",
      "Epoch 5/5\n",
      "221312/221312 [==============================] - 35s - loss: 0.3373 - acc: 0.8269 - val_loss: 0.3576 - val_acc: 0.8151\n"
     ]
    }
   ],
   "source": [
    "Xtrain = np.array(X_train)\n",
    "ytrain = np.array(y_train)\n",
    "Xtest = np.array(X_test)\n",
    "ytest = np.array(y_test)\n",
    "\n",
    "classifier = 0\n",
    "import keras\n",
    "from keras.models import Sequential\n",
    "from keras.layers import Dense\n",
    "\n",
    "classifier = Sequential()\n",
    "\n",
    "classifier.add(Dense(units = 32, activation = 'relu', input_dim = 387))\n",
    "\n",
    "classifier.add(Dense(units = 64, activation = 'relu'))\n",
    "\n",
    "classifier.add(Dense(units = 1, activation = 'sigmoid'))\n",
    "\n",
    "classifier.compile(optimizer = 'adam', loss = 'binary_crossentropy', metrics = ['accuracy'])\n",
    "\n",
    "history = classifier.fit(Xtrain, ytrain, batch_size =64, epochs = 5, validation_split= 0.20)"
   ]
  },
  {
   "cell_type": "code",
   "execution_count": 111,
   "metadata": {},
   "outputs": [
    {
     "name": "stdout",
     "output_type": "stream",
     "text": [
      "91744/92214 [============================>.] - ETA: 0s"
     ]
    }
   ],
   "source": [
    "score = classifier.evaluate(Xtest, ytest, batch_size=32)"
   ]
  },
  {
   "cell_type": "code",
   "execution_count": 117,
   "metadata": {},
   "outputs": [
    {
     "data": {
      "text/plain": [
       "81.19699828607713"
      ]
     },
     "execution_count": 117,
     "metadata": {},
     "output_type": "execute_result"
    }
   ],
   "source": [
    "nn_acc = score[1]\n",
    "nn_acc = nn_acc*100\n",
    "nn_acc"
   ]
  },
  {
   "cell_type": "code",
   "execution_count": 113,
   "metadata": {},
   "outputs": [
    {
     "data": {
      "image/png": "[encoded data removed]",
      "text/plain": [
       "<Figure size 432x288 with 1 Axes>"
      ]
     },
     "metadata": {},
     "output_type": "display_data"
    },
    {
     "data": {
      "image/png": "[encoded data removed]",
      "text/plain": [
       "<Figure size 432x288 with 1 Axes>"
      ]
     },
     "metadata": {},
     "output_type": "display_data"
    }
   ],
   "source": [
    "import matplotlib.pyplot as plt\n",
    "# summarize history for accuracy\n",
    "plt.plot(history.history['acc'])\n",
    "plt.plot(history.history['val_acc'])\n",
    "plt.title('model accuracy')\n",
    "plt.ylabel('accuracy')\n",
    "plt.xlabel('epoch')\n",
    "plt.legend(['Train', 'Validation'], loc='upper left')\n",
    "plt.show()\n",
    "# summarize history for loss\n",
    "plt.plot(history.history['loss'])\n",
    "plt.plot(history.history['val_loss'])\n",
    "plt.title('model loss')\n",
    "plt.ylabel('loss')\n",
    "plt.xlabel('epoch')\n",
    "plt.legend(['Train', 'Validation'], loc='upper left')\n",
    "plt.show()"
   ]
  },
  {
   "cell_type": "markdown",
   "metadata": {},
   "source": [
    "## Comparing Model Accuracy in Analysis 2"
   ]
  },
  {
   "cell_type": "code",
   "execution_count": 119,
   "metadata": {},
   "outputs": [
    {
     "data": {
      "text/plain": [
       "Text(0.5,1,'Model Accuracy Comparison')"
      ]
     },
     "execution_count": 119,
     "metadata": {},
     "output_type": "execute_result"
    },
    {
     "data": {
      "image/png": "[encoded data removed]",
      "text/plain": [
       "<Figure size 432x288 with 1 Axes>"
      ]
     },
     "metadata": {},
     "output_type": "display_data"
    }
   ],
   "source": [
    "objects = ('Logistic Regression', 'Random Forest', 'AdaBost', 'Neural Network')\n",
    "y_pos = np.arange(len(objects))\n",
    "performance = [lr_acc,rf_acc,ab_acc,nn_acc]\n",
    " \n",
    "plt.bar(y_pos, performance, align='center', alpha=0.8)\n",
    "plt.xticks(y_pos, objects)\n",
    "plt.ylabel('Accuracy')\n",
    "plt.title('Model Accuracy Comparison')"
   ]
  },
  {
   "cell_type": "markdown",
   "metadata": {},
   "source": [
    "# Analysis Number: 3\n",
    "#### In this analysis we will consider Year column as well (Year = [2014, 2015, 2016]) in the feature set and check how the models are perform if they know the year"
   ]
  },
  {
   "cell_type": "code",
   "execution_count": 122,
   "metadata": {},
   "outputs": [
    {
     "data": {
      "text/plain": [
       "(368855, 388)"
      ]
     },
     "execution_count": 122,
     "metadata": {},
     "output_type": "execute_result"
    }
   ],
   "source": [
    "final.shape"
   ]
  },
  {
   "cell_type": "code",
   "execution_count": 123,
   "metadata": {
    "collapsed": true
   },
   "outputs": [],
   "source": [
    "cat = ['Year']\n",
    "data = final\n",
    "pre = pd.get_dummies(data, columns=cat, drop_first=True)"
   ]
  },
  {
   "cell_type": "code",
   "execution_count": 124,
   "metadata": {},
   "outputs": [
    {
     "data": {
      "text/plain": [
       "(368855, 390)"
      ]
     },
     "execution_count": 124,
     "metadata": {},
     "output_type": "execute_result"
    }
   ],
   "source": [
    "pre.shape"
   ]
  },
  {
   "cell_type": "code",
   "execution_count": 126,
   "metadata": {},
   "outputs": [
    {
     "data": {
      "text/html": [
       "<div>\n",
       "<style scoped>\n",
       "    .dataframe tbody tr th:only-of-type {\n",
       "        vertical-align: middle;\n",
       "    }\n",
       "\n",
       "    .dataframe tbody tr th {\n",
       "        vertical-align: top;\n",
       "    }\n",
       "\n",
       "    .dataframe thead th {\n",
       "        text-align: right;\n",
       "    }\n",
       "</style>\n",
       "<table border=\"1\" class=\"dataframe\">\n",
       "  <thead>\n",
       "    <tr style=\"text-align: right;\">\n",
       "      <th></th>\n",
       "      <th>Amount</th>\n",
       "      <th>State_Code</th>\n",
       "      <th>Income</th>\n",
       "      <th>Purchaser_Type</th>\n",
       "      <th>GDP</th>\n",
       "      <th>Real_State_Growth_%</th>\n",
       "      <th>Rate</th>\n",
       "      <th>PMT</th>\n",
       "      <th>IncRat</th>\n",
       "      <th>Unemployemnt</th>\n",
       "      <th>...</th>\n",
       "      <th>County_Code_800</th>\n",
       "      <th>County_Code_810</th>\n",
       "      <th>County_Code_820</th>\n",
       "      <th>County_Code_830</th>\n",
       "      <th>County_Code_840</th>\n",
       "      <th>BoCreditScor_4</th>\n",
       "      <th>LTV_1.0</th>\n",
       "      <th>Year_2015</th>\n",
       "      <th>Year_2016</th>\n",
       "      <th>Year_2017</th>\n",
       "    </tr>\n",
       "  </thead>\n",
       "  <tbody>\n",
       "    <tr>\n",
       "      <th>0</th>\n",
       "      <td>0.00051</td>\n",
       "      <td>39</td>\n",
       "      <td>0.008502</td>\n",
       "      <td>0</td>\n",
       "      <td>0.209551</td>\n",
       "      <td>0.666667</td>\n",
       "      <td>1.0</td>\n",
       "      <td>0.000544</td>\n",
       "      <td>0.000252</td>\n",
       "      <td>0.422346</td>\n",
       "      <td>...</td>\n",
       "      <td>0</td>\n",
       "      <td>0</td>\n",
       "      <td>0</td>\n",
       "      <td>0</td>\n",
       "      <td>0</td>\n",
       "      <td>1</td>\n",
       "      <td>0</td>\n",
       "      <td>0</td>\n",
       "      <td>0</td>\n",
       "      <td>0</td>\n",
       "    </tr>\n",
       "    <tr>\n",
       "      <th>1</th>\n",
       "      <td>0.00454</td>\n",
       "      <td>48</td>\n",
       "      <td>0.052110</td>\n",
       "      <td>0</td>\n",
       "      <td>0.590777</td>\n",
       "      <td>0.739130</td>\n",
       "      <td>1.0</td>\n",
       "      <td>0.004834</td>\n",
       "      <td>0.000364</td>\n",
       "      <td>0.371161</td>\n",
       "      <td>...</td>\n",
       "      <td>0</td>\n",
       "      <td>0</td>\n",
       "      <td>0</td>\n",
       "      <td>0</td>\n",
       "      <td>0</td>\n",
       "      <td>1</td>\n",
       "      <td>0</td>\n",
       "      <td>0</td>\n",
       "      <td>0</td>\n",
       "      <td>0</td>\n",
       "    </tr>\n",
       "    <tr>\n",
       "      <th>2</th>\n",
       "      <td>0.00289</td>\n",
       "      <td>4</td>\n",
       "      <td>0.010602</td>\n",
       "      <td>6</td>\n",
       "      <td>0.093722</td>\n",
       "      <td>0.601449</td>\n",
       "      <td>1.0</td>\n",
       "      <td>0.003077</td>\n",
       "      <td>0.001131</td>\n",
       "      <td>0.495467</td>\n",
       "      <td>...</td>\n",
       "      <td>0</td>\n",
       "      <td>0</td>\n",
       "      <td>0</td>\n",
       "      <td>0</td>\n",
       "      <td>0</td>\n",
       "      <td>1</td>\n",
       "      <td>0</td>\n",
       "      <td>0</td>\n",
       "      <td>0</td>\n",
       "      <td>0</td>\n",
       "    </tr>\n",
       "    <tr>\n",
       "      <th>3</th>\n",
       "      <td>0.00113</td>\n",
       "      <td>16</td>\n",
       "      <td>0.008502</td>\n",
       "      <td>3</td>\n",
       "      <td>0.012638</td>\n",
       "      <td>0.644928</td>\n",
       "      <td>1.0</td>\n",
       "      <td>0.001204</td>\n",
       "      <td>0.000553</td>\n",
       "      <td>0.356537</td>\n",
       "      <td>...</td>\n",
       "      <td>0</td>\n",
       "      <td>0</td>\n",
       "      <td>0</td>\n",
       "      <td>0</td>\n",
       "      <td>0</td>\n",
       "      <td>1</td>\n",
       "      <td>0</td>\n",
       "      <td>0</td>\n",
       "      <td>0</td>\n",
       "      <td>0</td>\n",
       "    </tr>\n",
       "    <tr>\n",
       "      <th>4</th>\n",
       "      <td>0.00047</td>\n",
       "      <td>39</td>\n",
       "      <td>0.005501</td>\n",
       "      <td>0</td>\n",
       "      <td>0.209551</td>\n",
       "      <td>0.666667</td>\n",
       "      <td>1.0</td>\n",
       "      <td>0.000501</td>\n",
       "      <td>0.000358</td>\n",
       "      <td>0.422346</td>\n",
       "      <td>...</td>\n",
       "      <td>0</td>\n",
       "      <td>0</td>\n",
       "      <td>0</td>\n",
       "      <td>0</td>\n",
       "      <td>0</td>\n",
       "      <td>0</td>\n",
       "      <td>0</td>\n",
       "      <td>0</td>\n",
       "      <td>0</td>\n",
       "      <td>0</td>\n",
       "    </tr>\n",
       "  </tbody>\n",
       "</table>\n",
       "<p>5 rows × 390 columns</p>\n",
       "</div>"
      ],
      "text/plain": [
       "    Amount  State_Code    Income  Purchaser_Type        GDP  \\\n",
       "0  0.00051          39  0.008502                0  0.209551   \n",
       "1  0.00454          48  0.052110                0  0.590777   \n",
       "2  0.00289           4  0.010602                6  0.093722   \n",
       "3  0.00113          16  0.008502                3  0.012638   \n",
       "4  0.00047          39  0.005501                0  0.209551   \n",
       "\n",
       "   Real_State_Growth_%  Rate       PMT    IncRat  Unemployemnt    ...      \\\n",
       "0             0.666667   1.0  0.000544  0.000252      0.422346    ...       \n",
       "1             0.739130   1.0  0.004834  0.000364      0.371161    ...       \n",
       "2             0.601449   1.0  0.003077  0.001131      0.495467    ...       \n",
       "3             0.644928   1.0  0.001204  0.000553      0.356537    ...       \n",
       "4             0.666667   1.0  0.000501  0.000358      0.422346    ...       \n",
       "\n",
       "   County_Code_800  County_Code_810  County_Code_820  County_Code_830  \\\n",
       "0                0                0                0                0   \n",
       "1                0                0                0                0   \n",
       "2                0                0                0                0   \n",
       "3                0                0                0                0   \n",
       "4                0                0                0                0   \n",
       "\n",
       "   County_Code_840  BoCreditScor_4  LTV_1.0  Year_2015  Year_2016  Year_2017  \n",
       "0                0               1        0          0          0          0  \n",
       "1                0               1        0          0          0          0  \n",
       "2                0               1        0          0          0          0  \n",
       "3                0               1        0          0          0          0  \n",
       "4                0               0        0          0          0          0  \n",
       "\n",
       "[5 rows x 390 columns]"
      ]
     },
     "execution_count": 126,
     "metadata": {},
     "output_type": "execute_result"
    }
   ],
   "source": [
    "pre[(pre[\"Year_2015\"] == 0) & (pre[\"Year_2016\"] == 0) & (pre[\"Year_2017\"] == 0)].head()"
   ]
  },
  {
   "cell_type": "code",
   "execution_count": 127,
   "metadata": {},
   "outputs": [
    {
     "data": {
      "text/plain": [
       "(368855, 390)"
      ]
     },
     "execution_count": 127,
     "metadata": {},
     "output_type": "execute_result"
    }
   ],
   "source": [
    "pre.shape"
   ]
  },
  {
   "cell_type": "code",
   "execution_count": 129,
   "metadata": {},
   "outputs": [
    {
     "data": {
      "text/plain": [
       "368855"
      ]
     },
     "execution_count": 129,
     "metadata": {},
     "output_type": "execute_result"
    }
   ],
   "source": [
    "len(y)"
   ]
  },
  {
   "cell_type": "code",
   "execution_count": 132,
   "metadata": {
    "collapsed": true
   },
   "outputs": [],
   "source": [
    "del pre[\"AmorTerm\"]"
   ]
  },
  {
   "cell_type": "code",
   "execution_count": 133,
   "metadata": {},
   "outputs": [
    {
     "name": "stdout",
     "output_type": "stream",
     "text": [
      "Training set has 276641 samples.\n",
      "Testing set has 92214 samples.\n"
     ]
    }
   ],
   "source": [
    "X_train, X_test, y_train, y_test = train_test_split(pre, \n",
    "                                                    y, \n",
    "                                                    test_size = 0.25, \n",
    "                                                    random_state = 0)\n",
    "\n",
    "\n",
    "print (\"Training set has {} samples.\".format(X_train.shape[0]))\n",
    "print (\"Testing set has {} samples.\".format(X_test.shape[0]))"
   ]
  },
  {
   "cell_type": "markdown",
   "metadata": {},
   "source": [
    "### Model 1 : Logisitic Regression"
   ]
  },
  {
   "cell_type": "code",
   "execution_count": 134,
   "metadata": {},
   "outputs": [
    {
     "name": "stdout",
     "output_type": "stream",
     "text": [
      "Accuracy :  83.22055219381005 %\n",
      "\n",
      "\n",
      "\n",
      "Confusion Matrix : \n",
      " [[35769  3853]\n",
      " [11620 40972]]\n"
     ]
    }
   ],
   "source": [
    "from sklearn.linear_model import LogisticRegression\n",
    "\n",
    "clf = LogisticRegression()\n",
    "clf.fit(X_train, y_train)\n",
    "\n",
    "pred = clf.predict(X_test)\n",
    "lr_acc = accuracy_score(y_test, pred)*100\n",
    "print(\"Accuracy : \", accuracy_score(y_test, pred)*100,\"%\")\n",
    "print(\"\\n\\n\")\n",
    "print(\"Confusion Matrix : \\n\", confusion_matrix(y_test, pred))"
   ]
  },
  {
   "cell_type": "markdown",
   "metadata": {},
   "source": [
    "### Model 2 : Random Forest"
   ]
  },
  {
   "cell_type": "code",
   "execution_count": 135,
   "metadata": {},
   "outputs": [
    {
     "name": "stdout",
     "output_type": "stream",
     "text": [
      "Accuracy :  84.70622682022253 %\n",
      "\n",
      "\n",
      "\n",
      "Confusion Matrix : \n",
      " [[35006  4616]\n",
      " [ 9487 43105]]\n"
     ]
    }
   ],
   "source": [
    "from sklearn.ensemble import RandomForestClassifier\n",
    "\n",
    "clf = RandomForestClassifier()\n",
    "clf.fit(X_train, y_train)\n",
    "\n",
    "pred = clf.predict(X_test)\n",
    "rf_acc = accuracy_score(y_test, pred)*100\n",
    "print(\"Accuracy : \", accuracy_score(y_test, pred)*100,\"%\")\n",
    "print(\"\\n\\n\")\n",
    "print(\"Confusion Matrix : \\n\", confusion_matrix(y_test, pred))"
   ]
  },
  {
   "cell_type": "markdown",
   "metadata": {},
   "source": [
    "### Model 3 : Adaboost "
   ]
  },
  {
   "cell_type": "code",
   "execution_count": 136,
   "metadata": {},
   "outputs": [
    {
     "name": "stdout",
     "output_type": "stream",
     "text": [
      "Accuracy :  83.55022014010888 %\n",
      "\n",
      "\n",
      "\n",
      "Confusion Matrix : \n",
      " [[35505  4117]\n",
      " [11052 41540]]\n"
     ]
    }
   ],
   "source": [
    "from sklearn.ensemble import AdaBoostClassifier\n",
    "\n",
    "clf = AdaBoostClassifier()\n",
    "clf.fit(X_train, y_train)\n",
    "pred = clf.predict(X_test)\n",
    "\n",
    "ab_acc = accuracy_score(y_test, pred)*100\n",
    "print(\"Accuracy : \", accuracy_score(y_test, pred)*100,\"%\")\n",
    "print(\"\\n\\n\")\n",
    "print(\"Confusion Matrix : \\n\", confusion_matrix(y_test, pred))"
   ]
  },
  {
   "cell_type": "markdown",
   "metadata": {},
   "source": [
    "### Model 4 : Deep Neural Network"
   ]
  },
  {
   "cell_type": "code",
   "execution_count": 138,
   "metadata": {},
   "outputs": [
    {
     "name": "stdout",
     "output_type": "stream",
     "text": [
      "Train on 221312 samples, validate on 55329 samples\n",
      "Epoch 1/5\n",
      "221312/221312 [==============================] - 40s - loss: 0.3477 - acc: 0.8234 - val_loss: 0.3224 - val_acc: 0.8355\n",
      "Epoch 2/5\n",
      "221312/221312 [==============================] - 41s - loss: 0.3243 - acc: 0.8342 - val_loss: 0.3211 - val_acc: 0.8366\n",
      "Epoch 3/5\n",
      "221312/221312 [==============================] - 39s - loss: 0.3175 - acc: 0.8377 - val_loss: 0.3122 - val_acc: 0.8416\n",
      "Epoch 4/5\n",
      "221312/221312 [==============================] - 37s - loss: 0.3119 - acc: 0.8408 - val_loss: 0.3077 - val_acc: 0.8440\n",
      "Epoch 5/5\n",
      "221312/221312 [==============================] - 37s - loss: 0.3080 - acc: 0.8434 - val_loss: 0.3103 - val_acc: 0.8429\n"
     ]
    }
   ],
   "source": [
    "Xtrain = np.array(X_train)\n",
    "ytrain = np.array(y_train)\n",
    "Xtest = np.array(X_test)\n",
    "ytest = np.array(y_test)\n",
    "\n",
    "classifier = 0\n",
    "import keras\n",
    "from keras.models import Sequential\n",
    "from keras.layers import Dense\n",
    "\n",
    "classifier = Sequential()\n",
    "\n",
    "classifier.add(Dense(units = 32, activation = 'relu', input_dim = 389))\n",
    "\n",
    "classifier.add(Dense(units = 64, activation = 'relu'))\n",
    "\n",
    "classifier.add(Dense(units = 1, activation = 'sigmoid'))\n",
    "\n",
    "classifier.compile(optimizer = 'adam', loss = 'binary_crossentropy', metrics = ['accuracy'])\n",
    "\n",
    "history = classifier.fit(Xtrain, ytrain, batch_size =64, epochs = 5, validation_split= 0.20)"
   ]
  },
  {
   "cell_type": "code",
   "execution_count": 141,
   "metadata": {},
   "outputs": [
    {
     "name": "stdout",
     "output_type": "stream",
     "text": [
      "91616/92214 [============================>.] - ETA: 0s"
     ]
    },
    {
     "data": {
      "text/plain": [
       "84.07183290988695"
      ]
     },
     "execution_count": 141,
     "metadata": {},
     "output_type": "execute_result"
    }
   ],
   "source": [
    "score = classifier.evaluate(Xtest, ytest, batch_size=32)\n",
    "nn_acc = score[1]\n",
    "nn_acc = nn_acc*100\n",
    "nn_acc"
   ]
  },
  {
   "cell_type": "code",
   "execution_count": 142,
   "metadata": {},
   "outputs": [
    {
     "data": {
      "image/png": "[encoded data removed]",
      "text/plain": [
       "<Figure size 432x288 with 1 Axes>"
      ]
     },
     "metadata": {},
     "output_type": "display_data"
    },
    {
     "data": {
      "image/png": "[encoded data removed]",
      "text/plain": [
       "<Figure size 432x288 with 1 Axes>"
      ]
     },
     "metadata": {},
     "output_type": "display_data"
    }
   ],
   "source": [
    "import matplotlib.pyplot as plt\n",
    "# summarize history for accuracy\n",
    "plt.plot(history.history['acc'])\n",
    "plt.plot(history.history['val_acc'])\n",
    "plt.title('model accuracy')\n",
    "plt.ylabel('accuracy')\n",
    "plt.xlabel('epoch')\n",
    "plt.legend(['Train', 'Validation'], loc='upper left')\n",
    "plt.show()\n",
    "# summarize history for loss\n",
    "plt.plot(history.history['loss'])\n",
    "plt.plot(history.history['val_loss'])\n",
    "plt.title('model loss')\n",
    "plt.ylabel('loss')\n",
    "plt.xlabel('epoch')\n",
    "plt.legend(['Train', 'Validation'], loc='upper left')\n",
    "plt.show()"
   ]
  },
  {
   "cell_type": "markdown",
   "metadata": {},
   "source": [
    "## Comparing Model Accuracy in Analysis 3"
   ]
  },
  {
   "cell_type": "code",
   "execution_count": 143,
   "metadata": {},
   "outputs": [
    {
     "data": {
      "text/plain": [
       "Text(0.5,1,'Model Accuracy Comparison')"
      ]
     },
     "execution_count": 143,
     "metadata": {},
     "output_type": "execute_result"
    },
    {
     "data": {
      "image/png": "[encoded data removed]",
      "text/plain": [
       "<Figure size 432x288 with 1 Axes>"
      ]
     },
     "metadata": {},
     "output_type": "display_data"
    }
   ],
   "source": [
    "objects = ('Logistic Regression', 'Random Forest', 'AdaBost', 'Neural Network')\n",
    "y_pos = np.arange(len(objects))\n",
    "performance = [lr_acc,rf_acc,ab_acc,nn_acc]\n",
    " \n",
    "plt.bar(y_pos, performance, align='center', alpha=0.8)\n",
    "plt.xticks(y_pos, objects)\n",
    "plt.ylabel('Accuracy')\n",
    "plt.title('Model Accuracy Comparison')\n",
    "\n"
   ]
  },
  {
   "cell_type": "code",
   "execution_count": null,
   "metadata": {
    "collapsed": true
   },
   "outputs": [],
   "source": []
  }
 ],
 "metadata": {
  "kernelspec": {
   "display_name": "Python 3",
   "language": "python",
   "name": "python3"
  }
 },
 "nbformat": 4,
 "nbformat_minor": 2
}
