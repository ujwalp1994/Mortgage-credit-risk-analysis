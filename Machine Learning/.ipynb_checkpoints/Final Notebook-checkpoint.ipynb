{
 "cells": [
  {
   "cell_type": "markdown",
   "metadata": {},
   "source": [
    "### Importing Library"
   ]
  },
  {
   "cell_type": "code",
   "execution_count": 186,
   "metadata": {
    "collapsed": true
   },
   "outputs": [],
   "source": [
    "from time import time\n",
    "import pandas as pd\n",
    "import numpy as np\n",
    "import matplotlib.pyplot as plt\n",
    "import seaborn as sns\n",
    "from IPython.core.display import display, HTML\n",
    "from sklearn.metrics import accuracy_score\n",
    "from sklearn.metrics import confusion_matrix\n",
    "from sklearn.preprocessing import MinMaxScaler\n",
    "from sklearn.cross_validation import train_test_split\n",
    "\n",
    "%matplotlib inline"
   ]
  },
  {
   "cell_type": "markdown",
   "metadata": {},
   "source": [
    "### Loading 2014, 2015, 2016"
   ]
  },
  {
   "cell_type": "code",
   "execution_count": 187,
   "metadata": {
    "collapsed": true
   },
   "outputs": [],
   "source": [
    "df_2014 = pd.read_csv(\"2014_Declined.csv\")\n",
    "df_2015 = pd.read_csv(\"2015_Declined.csv\")\n",
    "df_2016 = pd.read_csv(\"2016_Declined.csv\")\n",
    "df_2017 = pd.read_csv(\"Decline_2017_Wells.csv\")"
   ]
  },
  {
   "cell_type": "code",
   "execution_count": 188,
   "metadata": {
    "collapsed": true
   },
   "outputs": [],
   "source": [
    "final = df_2014"
   ]
  },
  {
   "cell_type": "markdown",
   "metadata": {},
   "source": [
    "### Considering Action Type = 1, 2, 3, 6, 7\n",
    "#### Approved : Action Type 1,2,6\n",
    "#### Declined : Action Type : 3, 7"
   ]
  },
  {
   "cell_type": "code",
   "execution_count": 189,
   "metadata": {
    "collapsed": true
   },
   "outputs": [],
   "source": [
    "df = df_2017\n",
    "df_2017 = df = df[(df[\"Action_Type\"] == 1) | (df[\"Action_Type\"] == 2) | (df[\"Action_Type\"] == 3)| (df[\"Action_Type\"] == 6)|(df[\"Action_Type\"] == 7)]\n",
    "\n"
   ]
  },
  {
   "cell_type": "code",
   "execution_count": 190,
   "metadata": {
    "collapsed": true
   },
   "outputs": [],
   "source": [
    "final = final.append(df_2015)\n",
    "final = final.append(df_2016)\n",
    "final = final.append(df_2017)"
   ]
  },
  {
   "cell_type": "code",
   "execution_count": 191,
   "metadata": {},
   "outputs": [
    {
     "data": {
      "text/plain": [
       "(368855, 28)"
      ]
     },
     "execution_count": 191,
     "metadata": {},
     "output_type": "execute_result"
    }
   ],
   "source": [
    "final.shape"
   ]
  },
  {
   "cell_type": "code",
   "execution_count": 192,
   "metadata": {},
   "outputs": [
    {
     "data": {
      "text/plain": [
       "Index(['Action_Type', 'Agency_Code', 'AmorTer', 'AmorTerm', 'Amount',\n",
       "       'Application_Date_Indicator', 'BoCreditScor', 'County_Code',\n",
       "       'Denial_Reason_1', 'GDP', 'IncRat', 'Income', 'LTV', 'Loan_Purpose',\n",
       "       'Loan_Type', 'Occupancy', 'PMT', 'Property_Location', 'Property_Type',\n",
       "       'Purchaser_Type ', 'Rate', 'Real_State_Growth_%', 'Respondent_ID',\n",
       "       'State_Code', 'USPS_Code', 'Unemployemnt', 'Unnamed: 0', 'Year'],\n",
       "      dtype='object')"
      ]
     },
     "execution_count": 192,
     "metadata": {},
     "output_type": "execute_result"
    }
   ],
   "source": [
    "final.columns"
   ]
  },
  {
   "cell_type": "markdown",
   "metadata": {},
   "source": [
    "### All data is appended in Final Dataframe"
   ]
  },
  {
   "cell_type": "code",
   "execution_count": 193,
   "metadata": {
    "collapsed": true
   },
   "outputs": [],
   "source": [
    "interested = ['Agency_Code', 'Loan_Type','Property_Type', 'Loan_Purpose', 'Occupancy', 'Amount', 'Action_Type','State_Code', 'County_Code', 'Income', 'Purchaser_Type ','Property_Location', 'USPS_Code', 'GDP', 'Real_State_Growth_%', 'Rate','PMT', 'IncRat', 'Unemployemnt', 'AmorTerm', 'BoCreditScor', 'LTV', 'Year']\n",
    "data = final[interested]\n"
   ]
  },
  {
   "cell_type": "markdown",
   "metadata": {},
   "source": [
    "### Categorical data is hot one encoding\n",
    "### Continous data is Normalising "
   ]
  },
  {
   "cell_type": "code",
   "execution_count": 194,
   "metadata": {
    "collapsed": true
   },
   "outputs": [],
   "source": [
    "cat = ['Agency_Code', 'Loan_Type', 'Property_Type', 'Loan_Purpose','Occupancy','USPS_Code' , 'County_Code','BoCreditScor', 'LTV' ]\n",
    "\n",
    "no_cat = ['Amount', 'Income', 'GDP', 'Real_State_Growth_%', 'Rate', 'PMT', 'IncRat', 'Unemployemnt']"
   ]
  },
  {
   "cell_type": "code",
   "execution_count": 195,
   "metadata": {
    "collapsed": true
   },
   "outputs": [],
   "source": [
    "pre = pd.get_dummies(data, columns=cat, drop_first=True)"
   ]
  },
  {
   "cell_type": "code",
   "execution_count": 196,
   "metadata": {},
   "outputs": [
    {
     "data": {
      "text/plain": [
       "(368855, 390)"
      ]
     },
     "execution_count": 196,
     "metadata": {},
     "output_type": "execute_result"
    }
   ],
   "source": [
    "pre.shape"
   ]
  },
  {
   "cell_type": "code",
   "execution_count": 197,
   "metadata": {},
   "outputs": [
    {
     "data": {
      "text/html": [
       "<div>\n",
       "<style scoped>\n",
       "    .dataframe tbody tr th:only-of-type {\n",
       "        vertical-align: middle;\n",
       "    }\n",
       "\n",
       "    .dataframe tbody tr th {\n",
       "        vertical-align: top;\n",
       "    }\n",
       "\n",
       "    .dataframe thead th {\n",
       "        text-align: right;\n",
       "    }\n",
       "</style>\n",
       "<table border=\"1\" class=\"dataframe\">\n",
       "  <thead>\n",
       "    <tr style=\"text-align: right;\">\n",
       "      <th></th>\n",
       "      <th>Amount</th>\n",
       "      <th>Action_Type</th>\n",
       "      <th>State_Code</th>\n",
       "      <th>Income</th>\n",
       "      <th>Purchaser_Type</th>\n",
       "      <th>Property_Location</th>\n",
       "      <th>GDP</th>\n",
       "      <th>Real_State_Growth_%</th>\n",
       "      <th>Rate</th>\n",
       "      <th>PMT</th>\n",
       "      <th>...</th>\n",
       "      <th>County_Code_770</th>\n",
       "      <th>County_Code_775</th>\n",
       "      <th>County_Code_790</th>\n",
       "      <th>County_Code_800</th>\n",
       "      <th>County_Code_810</th>\n",
       "      <th>County_Code_820</th>\n",
       "      <th>County_Code_830</th>\n",
       "      <th>County_Code_840</th>\n",
       "      <th>BoCreditScor_4</th>\n",
       "      <th>LTV_1.0</th>\n",
       "    </tr>\n",
       "  </thead>\n",
       "  <tbody>\n",
       "    <tr>\n",
       "      <th>0</th>\n",
       "      <td>0.00051</td>\n",
       "      <td>3</td>\n",
       "      <td>39</td>\n",
       "      <td>0.008502</td>\n",
       "      <td>0</td>\n",
       "      <td>Ohio</td>\n",
       "      <td>0.209551</td>\n",
       "      <td>0.666667</td>\n",
       "      <td>1.0</td>\n",
       "      <td>0.000544</td>\n",
       "      <td>...</td>\n",
       "      <td>0</td>\n",
       "      <td>0</td>\n",
       "      <td>0</td>\n",
       "      <td>0</td>\n",
       "      <td>0</td>\n",
       "      <td>0</td>\n",
       "      <td>0</td>\n",
       "      <td>0</td>\n",
       "      <td>1</td>\n",
       "      <td>0</td>\n",
       "    </tr>\n",
       "    <tr>\n",
       "      <th>1</th>\n",
       "      <td>0.00454</td>\n",
       "      <td>2</td>\n",
       "      <td>48</td>\n",
       "      <td>0.052110</td>\n",
       "      <td>0</td>\n",
       "      <td>Texas</td>\n",
       "      <td>0.590777</td>\n",
       "      <td>0.739130</td>\n",
       "      <td>1.0</td>\n",
       "      <td>0.004834</td>\n",
       "      <td>...</td>\n",
       "      <td>0</td>\n",
       "      <td>0</td>\n",
       "      <td>0</td>\n",
       "      <td>0</td>\n",
       "      <td>0</td>\n",
       "      <td>0</td>\n",
       "      <td>0</td>\n",
       "      <td>0</td>\n",
       "      <td>1</td>\n",
       "      <td>0</td>\n",
       "    </tr>\n",
       "    <tr>\n",
       "      <th>2</th>\n",
       "      <td>0.00289</td>\n",
       "      <td>1</td>\n",
       "      <td>4</td>\n",
       "      <td>0.010602</td>\n",
       "      <td>6</td>\n",
       "      <td>Arizona</td>\n",
       "      <td>0.093722</td>\n",
       "      <td>0.601449</td>\n",
       "      <td>1.0</td>\n",
       "      <td>0.003077</td>\n",
       "      <td>...</td>\n",
       "      <td>0</td>\n",
       "      <td>0</td>\n",
       "      <td>0</td>\n",
       "      <td>0</td>\n",
       "      <td>0</td>\n",
       "      <td>0</td>\n",
       "      <td>0</td>\n",
       "      <td>0</td>\n",
       "      <td>1</td>\n",
       "      <td>0</td>\n",
       "    </tr>\n",
       "    <tr>\n",
       "      <th>3</th>\n",
       "      <td>0.00113</td>\n",
       "      <td>6</td>\n",
       "      <td>16</td>\n",
       "      <td>0.008502</td>\n",
       "      <td>3</td>\n",
       "      <td>Idaho</td>\n",
       "      <td>0.012638</td>\n",
       "      <td>0.644928</td>\n",
       "      <td>1.0</td>\n",
       "      <td>0.001204</td>\n",
       "      <td>...</td>\n",
       "      <td>0</td>\n",
       "      <td>0</td>\n",
       "      <td>0</td>\n",
       "      <td>0</td>\n",
       "      <td>0</td>\n",
       "      <td>0</td>\n",
       "      <td>0</td>\n",
       "      <td>0</td>\n",
       "      <td>1</td>\n",
       "      <td>0</td>\n",
       "    </tr>\n",
       "    <tr>\n",
       "      <th>4</th>\n",
       "      <td>0.00047</td>\n",
       "      <td>3</td>\n",
       "      <td>39</td>\n",
       "      <td>0.005501</td>\n",
       "      <td>0</td>\n",
       "      <td>Ohio</td>\n",
       "      <td>0.209551</td>\n",
       "      <td>0.666667</td>\n",
       "      <td>1.0</td>\n",
       "      <td>0.000501</td>\n",
       "      <td>...</td>\n",
       "      <td>0</td>\n",
       "      <td>0</td>\n",
       "      <td>0</td>\n",
       "      <td>0</td>\n",
       "      <td>0</td>\n",
       "      <td>0</td>\n",
       "      <td>0</td>\n",
       "      <td>0</td>\n",
       "      <td>0</td>\n",
       "      <td>0</td>\n",
       "    </tr>\n",
       "  </tbody>\n",
       "</table>\n",
       "<p>5 rows × 390 columns</p>\n",
       "</div>"
      ],
      "text/plain": [
       "    Amount  Action_Type  State_Code    Income  Purchaser_Type   \\\n",
       "0  0.00051            3          39  0.008502                0   \n",
       "1  0.00454            2          48  0.052110                0   \n",
       "2  0.00289            1           4  0.010602                6   \n",
       "3  0.00113            6          16  0.008502                3   \n",
       "4  0.00047            3          39  0.005501                0   \n",
       "\n",
       "  Property_Location       GDP  Real_State_Growth_%  Rate       PMT   ...     \\\n",
       "0              Ohio  0.209551             0.666667   1.0  0.000544   ...      \n",
       "1             Texas  0.590777             0.739130   1.0  0.004834   ...      \n",
       "2           Arizona  0.093722             0.601449   1.0  0.003077   ...      \n",
       "3             Idaho  0.012638             0.644928   1.0  0.001204   ...      \n",
       "4              Ohio  0.209551             0.666667   1.0  0.000501   ...      \n",
       "\n",
       "   County_Code_770  County_Code_775  County_Code_790  County_Code_800  \\\n",
       "0                0                0                0                0   \n",
       "1                0                0                0                0   \n",
       "2                0                0                0                0   \n",
       "3                0                0                0                0   \n",
       "4                0                0                0                0   \n",
       "\n",
       "   County_Code_810  County_Code_820  County_Code_830  County_Code_840  \\\n",
       "0                0                0                0                0   \n",
       "1                0                0                0                0   \n",
       "2                0                0                0                0   \n",
       "3                0                0                0                0   \n",
       "4                0                0                0                0   \n",
       "\n",
       "   BoCreditScor_4  LTV_1.0  \n",
       "0               1        0  \n",
       "1               1        0  \n",
       "2               1        0  \n",
       "3               1        0  \n",
       "4               0        0  \n",
       "\n",
       "[5 rows x 390 columns]"
      ]
     },
     "metadata": {},
     "output_type": "display_data"
    }
   ],
   "source": [
    "from sklearn.preprocessing import MinMaxScaler\n",
    "scaler = MinMaxScaler()\n",
    "scale = pd.DataFrame(data = pre)\n",
    "scale[no_cat] = scaler.fit_transform(pre[no_cat])\n",
    "\n",
    "# Show an example of a record with scaling applied\n",
    "display(scale.head())"
   ]
  },
  {
   "cell_type": "code",
   "execution_count": 198,
   "metadata": {
    "collapsed": true
   },
   "outputs": [],
   "source": [
    "final = scale"
   ]
  },
  {
   "cell_type": "code",
   "execution_count": 199,
   "metadata": {},
   "outputs": [
    {
     "data": {
      "text/plain": [
       "3    157887\n",
       "1    115358\n",
       "6     48000\n",
       "2     47508\n",
       "7       102\n",
       "Name: Action_Type, dtype: int64"
      ]
     },
     "execution_count": 199,
     "metadata": {},
     "output_type": "execute_result"
    }
   ],
   "source": [
    "scale[\"Action_Type\"].value_counts()"
   ]
  },
  {
   "cell_type": "code",
   "execution_count": 200,
   "metadata": {
    "collapsed": true
   },
   "outputs": [],
   "source": [
    "y = []\n",
    "a = 0\n",
    "d = 0\n",
    "for i in final[\"Action_Type\"]:\n",
    "    if i ==1 or i ==2 or i ==6:\n",
    "        a +=1\n",
    "        y.append(1)\n",
    "        \n",
    "    elif i ==3 or i==7:\n",
    "        d +=1\n",
    "        y.append(0)"
   ]
  },
  {
   "cell_type": "code",
   "execution_count": 201,
   "metadata": {
    "collapsed": true
   },
   "outputs": [],
   "source": [
    "del final[\"Action_Type\"]"
   ]
  },
  {
   "cell_type": "code",
   "execution_count": 202,
   "metadata": {
    "collapsed": true
   },
   "outputs": [],
   "source": [
    "del final['Property_Location']"
   ]
  },
  {
   "cell_type": "code",
   "execution_count": 203,
   "metadata": {},
   "outputs": [
    {
     "data": {
      "text/plain": [
       "(368855, 388)"
      ]
     },
     "execution_count": 203,
     "metadata": {},
     "output_type": "execute_result"
    }
   ],
   "source": [
    "final.shape"
   ]
  },
  {
   "cell_type": "markdown",
   "metadata": {},
   "source": [
    "# Analysis Number : 1\n",
    "\n",
    "### Train Data  = 2014, 2015, 2016 (288000 Sample)\n",
    "### Test Data = 2017 (80855 Sample)"
   ]
  },
  {
   "cell_type": "code",
   "execution_count": 204,
   "metadata": {
    "collapsed": true
   },
   "outputs": [],
   "source": [
    "x_train = final[(final[\"Year\"] == 2014) | (final[\"Year\"] == 2015) | (final[\"Year\"] == 2016)]"
   ]
  },
  {
   "cell_type": "code",
   "execution_count": 205,
   "metadata": {
    "collapsed": true
   },
   "outputs": [],
   "source": [
    "del x_train['Year']"
   ]
  },
  {
   "cell_type": "code",
   "execution_count": 206,
   "metadata": {},
   "outputs": [
    {
     "data": {
      "text/plain": [
       "(288000, 387)"
      ]
     },
     "execution_count": 206,
     "metadata": {},
     "output_type": "execute_result"
    }
   ],
   "source": [
    "x_train.shape"
   ]
  },
  {
   "cell_type": "code",
   "execution_count": 207,
   "metadata": {
    "collapsed": true
   },
   "outputs": [],
   "source": [
    "x_test =  final[(final[\"Year\"] == 2017)]"
   ]
  },
  {
   "cell_type": "code",
   "execution_count": 208,
   "metadata": {
    "collapsed": true
   },
   "outputs": [],
   "source": [
    "del x_test['Year']"
   ]
  },
  {
   "cell_type": "code",
   "execution_count": 209,
   "metadata": {},
   "outputs": [
    {
     "data": {
      "text/plain": [
       "(80855, 387)"
      ]
     },
     "execution_count": 209,
     "metadata": {},
     "output_type": "execute_result"
    }
   ],
   "source": [
    "x_test.shape"
   ]
  },
  {
   "cell_type": "code",
   "execution_count": 210,
   "metadata": {},
   "outputs": [
    {
     "data": {
      "text/plain": [
       "288000"
      ]
     },
     "execution_count": 210,
     "metadata": {},
     "output_type": "execute_result"
    }
   ],
   "source": [
    "train_rows = x_train.shape[0]\n",
    "train_rows"
   ]
  },
  {
   "cell_type": "code",
   "execution_count": 211,
   "metadata": {},
   "outputs": [
    {
     "data": {
      "text/plain": [
       "80855"
      ]
     },
     "execution_count": 211,
     "metadata": {},
     "output_type": "execute_result"
    }
   ],
   "source": [
    "test_rows = x_test.shape[0]\n",
    "test_rows"
   ]
  },
  {
   "cell_type": "code",
   "execution_count": 212,
   "metadata": {
    "collapsed": true
   },
   "outputs": [],
   "source": [
    "y_train = y[:train_rows]\n",
    "y_test  = y[train_rows:]"
   ]
  },
  {
   "cell_type": "code",
   "execution_count": 213,
   "metadata": {},
   "outputs": [
    {
     "data": {
      "text/plain": [
       "80855"
      ]
     },
     "execution_count": 213,
     "metadata": {},
     "output_type": "execute_result"
    }
   ],
   "source": [
    "len(y_test)"
   ]
  },
  {
   "cell_type": "code",
   "execution_count": 214,
   "metadata": {},
   "outputs": [
    {
     "data": {
      "text/plain": [
       "(80855, 387)"
      ]
     },
     "execution_count": 214,
     "metadata": {},
     "output_type": "execute_result"
    }
   ],
   "source": [
    "x_test.shape"
   ]
  },
  {
   "cell_type": "code",
   "execution_count": 215,
   "metadata": {},
   "outputs": [
    {
     "name": "stderr",
     "output_type": "stream",
     "text": [
      "/Users/chaitanyapotnis/anaconda/lib/python3.6/site-packages/ipykernel_launcher.py:1: SettingWithCopyWarning: \n",
      "A value is trying to be set on a copy of a slice from a DataFrame.\n",
      "Try using .loc[row_indexer,col_indexer] = value instead\n",
      "\n",
      "See the caveats in the documentation: http://pandas.pydata.org/pandas-docs/stable/indexing.html#indexing-view-versus-copy\n",
      "  \"\"\"Entry point for launching an IPython kernel.\n"
     ]
    }
   ],
   "source": [
    "x_test[\"AmorTerm\"] = x_test[\"AmorTerm\"].fillna(360.0)"
   ]
  },
  {
   "cell_type": "markdown",
   "metadata": {},
   "source": [
    "\n",
    "\n",
    "\n",
    "## Model No 1 : Logistic Regression\n",
    "\n",
    "##### Training"
   ]
  },
  {
   "cell_type": "code",
   "execution_count": 216,
   "metadata": {
    "collapsed": true
   },
   "outputs": [],
   "source": [
    "\n",
    "from sklearn.linear_model import LogisticRegression\n",
    "\n",
    "clf = LogisticRegression(C=1000)\n",
    "\n",
    "start = time()\n",
    "clf.fit(x_train, y_train)\n",
    "end = time()\n",
    "\n",
    "lr_time = end - start"
   ]
  },
  {
   "cell_type": "markdown",
   "metadata": {},
   "source": [
    "##### Testing"
   ]
  },
  {
   "cell_type": "code",
   "execution_count": 217,
   "metadata": {},
   "outputs": [
    {
     "name": "stdout",
     "output_type": "stream",
     "text": [
      "Accuracy :  85.84626801063632 %\n",
      "\n",
      "\n",
      "\n",
      "Confusion Matrix : \n",
      " [[10370  3619]\n",
      " [ 7825 59041]]\n"
     ]
    }
   ],
   "source": [
    "pred = clf.predict(x_test)\n",
    "lr_acc = accuracy_score(y_test, pred)*100\n",
    "print(\"Accuracy : \",lr_acc ,\"%\")\n",
    "print(\"\\n\\n\")\n",
    "print(\"Confusion Matrix : \\n\", confusion_matrix(y_test, pred))"
   ]
  },
  {
   "cell_type": "code",
   "execution_count": 218,
   "metadata": {},
   "outputs": [
    {
     "data": {
      "text/plain": [
       "array([0, 1])"
      ]
     },
     "execution_count": 218,
     "metadata": {},
     "output_type": "execute_result"
    }
   ],
   "source": [
    "clf.classes_"
   ]
  },
  {
   "cell_type": "code",
   "execution_count": 219,
   "metadata": {},
   "outputs": [
    {
     "name": "stdout",
     "output_type": "stream",
     "text": [
      "             precision    recall  f1-score   support\n",
      "\n",
      "   Declined       0.57      0.74      0.64     13989\n",
      "   Approved       0.94      0.88      0.91     66866\n",
      "\n",
      "avg / total       0.88      0.86      0.87     80855\n",
      "\n"
     ]
    }
   ],
   "source": [
    "from sklearn.metrics import classification_report\n",
    "target_names=[\"Declined\", \"Approved\"]\n",
    "print(classification_report(y_test, pred, target_names=target_names))"
   ]
  },
  {
   "cell_type": "markdown",
   "metadata": {},
   "source": [
    "## Model No 2 : Random Forest\n",
    "\n",
    "##### Training"
   ]
  },
  {
   "cell_type": "code",
   "execution_count": 93,
   "metadata": {
    "collapsed": true
   },
   "outputs": [],
   "source": [
    "from sklearn.ensemble import RandomForestClassifier\n",
    "classifier = RandomForestClassifier(n_estimators = 100, criterion = 'entropy', random_state = 0)\n",
    "\n",
    "start = time()\n",
    "classifier.fit(x_train, y_train)\n",
    "end = time()\n",
    "\n",
    "rf_time = end - start"
   ]
  },
  {
   "cell_type": "markdown",
   "metadata": {},
   "source": [
    "##### Testing:"
   ]
  },
  {
   "cell_type": "code",
   "execution_count": 94,
   "metadata": {},
   "outputs": [
    {
     "name": "stdout",
     "output_type": "stream",
     "text": [
      "Accuracy :  85.35279203512461 %\n",
      "\n",
      "\n",
      "\n",
      "Confusion Matrix : \n",
      " [[11335  2654]\n",
      " [ 9189 57677]]\n"
     ]
    }
   ],
   "source": [
    "pred = classifier.predict(x_test)\n",
    "rf_acc = accuracy_score(y_test, pred)*100\n",
    "print(\"Accuracy : \", rf_acc,\"%\")\n",
    "print(\"\\n\\n\")\n",
    "print(\"Confusion Matrix : \\n\", confusion_matrix(y_test, pred))"
   ]
  },
  {
   "cell_type": "code",
   "execution_count": 95,
   "metadata": {},
   "outputs": [
    {
     "name": "stdout",
     "output_type": "stream",
     "text": [
      "             precision    recall  f1-score   support\n",
      "\n",
      "   Declined       0.55      0.81      0.66     13989\n",
      "   Approved       0.96      0.86      0.91     66866\n",
      "\n",
      "avg / total       0.89      0.85      0.86     80855\n",
      "\n"
     ]
    }
   ],
   "source": [
    "from sklearn.metrics import classification_report\n",
    "target_names=[\"Declined\", \"Approved\"]\n",
    "print(classification_report(y_test, pred, target_names=target_names))"
   ]
  },
  {
   "cell_type": "markdown",
   "metadata": {},
   "source": [
    "## Model No 3 : AdaBoostClassifier\n",
    "\n",
    "##### Training"
   ]
  },
  {
   "cell_type": "code",
   "execution_count": 185,
   "metadata": {},
   "outputs": [
    {
     "ename": "KeyboardInterrupt",
     "evalue": "",
     "output_type": "error",
     "traceback": [
      "\u001b[0;31m---------------------------------------------------------------------------\u001b[0m",
      "\u001b[0;31mKeyboardInterrupt\u001b[0m                         Traceback (most recent call last)",
      "\u001b[0;32m<ipython-input-185-1923c77f2166>\u001b[0m in \u001b[0;36m<module>\u001b[0;34m()\u001b[0m\n\u001b[1;32m      3\u001b[0m \u001b[0mclf\u001b[0m \u001b[0;34m=\u001b[0m \u001b[0mAdaBoostClassifier\u001b[0m\u001b[0;34m(\u001b[0m\u001b[0;34m)\u001b[0m\u001b[0;34m\u001b[0m\u001b[0m\n\u001b[1;32m      4\u001b[0m \u001b[0mstart\u001b[0m \u001b[0;34m=\u001b[0m \u001b[0mtime\u001b[0m\u001b[0;34m(\u001b[0m\u001b[0;34m)\u001b[0m\u001b[0;34m\u001b[0m\u001b[0m\n\u001b[0;32m----> 5\u001b[0;31m \u001b[0mclf\u001b[0m\u001b[0;34m.\u001b[0m\u001b[0mfit\u001b[0m\u001b[0;34m(\u001b[0m\u001b[0mx_train\u001b[0m\u001b[0;34m,\u001b[0m \u001b[0my_train\u001b[0m\u001b[0;34m)\u001b[0m\u001b[0;34m\u001b[0m\u001b[0m\n\u001b[0m\u001b[1;32m      6\u001b[0m \u001b[0mend\u001b[0m \u001b[0;34m=\u001b[0m \u001b[0mtime\u001b[0m\u001b[0;34m(\u001b[0m\u001b[0;34m)\u001b[0m\u001b[0;34m\u001b[0m\u001b[0m\n\u001b[1;32m      7\u001b[0m \u001b[0;34m\u001b[0m\u001b[0m\n",
      "\u001b[0;32m/Users/chaitanyapotnis/anaconda/lib/python3.6/site-packages/sklearn/ensemble/weight_boosting.py\u001b[0m in \u001b[0;36mfit\u001b[0;34m(self, X, y, sample_weight)\u001b[0m\n\u001b[1;32m    409\u001b[0m \u001b[0;34m\u001b[0m\u001b[0m\n\u001b[1;32m    410\u001b[0m         \u001b[0;31m# Fit\u001b[0m\u001b[0;34m\u001b[0m\u001b[0;34m\u001b[0m\u001b[0m\n\u001b[0;32m--> 411\u001b[0;31m         \u001b[0;32mreturn\u001b[0m \u001b[0msuper\u001b[0m\u001b[0;34m(\u001b[0m\u001b[0mAdaBoostClassifier\u001b[0m\u001b[0;34m,\u001b[0m \u001b[0mself\u001b[0m\u001b[0;34m)\u001b[0m\u001b[0;34m.\u001b[0m\u001b[0mfit\u001b[0m\u001b[0;34m(\u001b[0m\u001b[0mX\u001b[0m\u001b[0;34m,\u001b[0m \u001b[0my\u001b[0m\u001b[0;34m,\u001b[0m \u001b[0msample_weight\u001b[0m\u001b[0;34m)\u001b[0m\u001b[0;34m\u001b[0m\u001b[0m\n\u001b[0m\u001b[1;32m    412\u001b[0m \u001b[0;34m\u001b[0m\u001b[0m\n\u001b[1;32m    413\u001b[0m     \u001b[0;32mdef\u001b[0m \u001b[0m_validate_estimator\u001b[0m\u001b[0;34m(\u001b[0m\u001b[0mself\u001b[0m\u001b[0;34m)\u001b[0m\u001b[0;34m:\u001b[0m\u001b[0;34m\u001b[0m\u001b[0m\n",
      "\u001b[0;32m/Users/chaitanyapotnis/anaconda/lib/python3.6/site-packages/sklearn/ensemble/weight_boosting.py\u001b[0m in \u001b[0;36mfit\u001b[0;34m(self, X, y, sample_weight)\u001b[0m\n\u001b[1;32m    141\u001b[0m                 \u001b[0mX\u001b[0m\u001b[0;34m,\u001b[0m \u001b[0my\u001b[0m\u001b[0;34m,\u001b[0m\u001b[0;34m\u001b[0m\u001b[0m\n\u001b[1;32m    142\u001b[0m                 \u001b[0msample_weight\u001b[0m\u001b[0;34m,\u001b[0m\u001b[0;34m\u001b[0m\u001b[0m\n\u001b[0;32m--> 143\u001b[0;31m                 random_state)\n\u001b[0m\u001b[1;32m    144\u001b[0m \u001b[0;34m\u001b[0m\u001b[0m\n\u001b[1;32m    145\u001b[0m             \u001b[0;31m# Early termination\u001b[0m\u001b[0;34m\u001b[0m\u001b[0;34m\u001b[0m\u001b[0m\n",
      "\u001b[0;32m/Users/chaitanyapotnis/anaconda/lib/python3.6/site-packages/sklearn/ensemble/weight_boosting.py\u001b[0m in \u001b[0;36m_boost\u001b[0;34m(self, iboost, X, y, sample_weight, random_state)\u001b[0m\n\u001b[1;32m    469\u001b[0m         \"\"\"\n\u001b[1;32m    470\u001b[0m         \u001b[0;32mif\u001b[0m \u001b[0mself\u001b[0m\u001b[0;34m.\u001b[0m\u001b[0malgorithm\u001b[0m \u001b[0;34m==\u001b[0m \u001b[0;34m'SAMME.R'\u001b[0m\u001b[0;34m:\u001b[0m\u001b[0;34m\u001b[0m\u001b[0m\n\u001b[0;32m--> 471\u001b[0;31m             \u001b[0;32mreturn\u001b[0m \u001b[0mself\u001b[0m\u001b[0;34m.\u001b[0m\u001b[0m_boost_real\u001b[0m\u001b[0;34m(\u001b[0m\u001b[0miboost\u001b[0m\u001b[0;34m,\u001b[0m \u001b[0mX\u001b[0m\u001b[0;34m,\u001b[0m \u001b[0my\u001b[0m\u001b[0;34m,\u001b[0m \u001b[0msample_weight\u001b[0m\u001b[0;34m,\u001b[0m \u001b[0mrandom_state\u001b[0m\u001b[0;34m)\u001b[0m\u001b[0;34m\u001b[0m\u001b[0m\n\u001b[0m\u001b[1;32m    472\u001b[0m \u001b[0;34m\u001b[0m\u001b[0m\n\u001b[1;32m    473\u001b[0m         \u001b[0;32melse\u001b[0m\u001b[0;34m:\u001b[0m  \u001b[0;31m# elif self.algorithm == \"SAMME\":\u001b[0m\u001b[0;34m\u001b[0m\u001b[0m\n",
      "\u001b[0;32m/Users/chaitanyapotnis/anaconda/lib/python3.6/site-packages/sklearn/ensemble/weight_boosting.py\u001b[0m in \u001b[0;36m_boost_real\u001b[0;34m(self, iboost, X, y, sample_weight, random_state)\u001b[0m\n\u001b[1;32m    479\u001b[0m         \u001b[0mestimator\u001b[0m \u001b[0;34m=\u001b[0m \u001b[0mself\u001b[0m\u001b[0;34m.\u001b[0m\u001b[0m_make_estimator\u001b[0m\u001b[0;34m(\u001b[0m\u001b[0mrandom_state\u001b[0m\u001b[0;34m=\u001b[0m\u001b[0mrandom_state\u001b[0m\u001b[0;34m)\u001b[0m\u001b[0;34m\u001b[0m\u001b[0m\n\u001b[1;32m    480\u001b[0m \u001b[0;34m\u001b[0m\u001b[0m\n\u001b[0;32m--> 481\u001b[0;31m         \u001b[0mestimator\u001b[0m\u001b[0;34m.\u001b[0m\u001b[0mfit\u001b[0m\u001b[0;34m(\u001b[0m\u001b[0mX\u001b[0m\u001b[0;34m,\u001b[0m \u001b[0my\u001b[0m\u001b[0;34m,\u001b[0m \u001b[0msample_weight\u001b[0m\u001b[0;34m=\u001b[0m\u001b[0msample_weight\u001b[0m\u001b[0;34m)\u001b[0m\u001b[0;34m\u001b[0m\u001b[0m\n\u001b[0m\u001b[1;32m    482\u001b[0m \u001b[0;34m\u001b[0m\u001b[0m\n\u001b[1;32m    483\u001b[0m         \u001b[0my_predict_proba\u001b[0m \u001b[0;34m=\u001b[0m \u001b[0mestimator\u001b[0m\u001b[0;34m.\u001b[0m\u001b[0mpredict_proba\u001b[0m\u001b[0;34m(\u001b[0m\u001b[0mX\u001b[0m\u001b[0;34m)\u001b[0m\u001b[0;34m\u001b[0m\u001b[0m\n",
      "\u001b[0;32m/Users/chaitanyapotnis/anaconda/lib/python3.6/site-packages/sklearn/tree/tree.py\u001b[0m in \u001b[0;36mfit\u001b[0;34m(self, X, y, sample_weight, check_input, X_idx_sorted)\u001b[0m\n\u001b[1;32m    737\u001b[0m             \u001b[0msample_weight\u001b[0m\u001b[0;34m=\u001b[0m\u001b[0msample_weight\u001b[0m\u001b[0;34m,\u001b[0m\u001b[0;34m\u001b[0m\u001b[0m\n\u001b[1;32m    738\u001b[0m             \u001b[0mcheck_input\u001b[0m\u001b[0;34m=\u001b[0m\u001b[0mcheck_input\u001b[0m\u001b[0;34m,\u001b[0m\u001b[0;34m\u001b[0m\u001b[0m\n\u001b[0;32m--> 739\u001b[0;31m             X_idx_sorted=X_idx_sorted)\n\u001b[0m\u001b[1;32m    740\u001b[0m         \u001b[0;32mreturn\u001b[0m \u001b[0mself\u001b[0m\u001b[0;34m\u001b[0m\u001b[0m\n\u001b[1;32m    741\u001b[0m \u001b[0;34m\u001b[0m\u001b[0m\n",
      "\u001b[0;32m/Users/chaitanyapotnis/anaconda/lib/python3.6/site-packages/sklearn/tree/tree.py\u001b[0m in \u001b[0;36mfit\u001b[0;34m(self, X, y, sample_weight, check_input, X_idx_sorted)\u001b[0m\n\u001b[1;32m    348\u001b[0m                                            self.min_impurity_split)\n\u001b[1;32m    349\u001b[0m \u001b[0;34m\u001b[0m\u001b[0m\n\u001b[0;32m--> 350\u001b[0;31m         \u001b[0mbuilder\u001b[0m\u001b[0;34m.\u001b[0m\u001b[0mbuild\u001b[0m\u001b[0;34m(\u001b[0m\u001b[0mself\u001b[0m\u001b[0;34m.\u001b[0m\u001b[0mtree_\u001b[0m\u001b[0;34m,\u001b[0m \u001b[0mX\u001b[0m\u001b[0;34m,\u001b[0m \u001b[0my\u001b[0m\u001b[0;34m,\u001b[0m \u001b[0msample_weight\u001b[0m\u001b[0;34m,\u001b[0m \u001b[0mX_idx_sorted\u001b[0m\u001b[0;34m)\u001b[0m\u001b[0;34m\u001b[0m\u001b[0m\n\u001b[0m\u001b[1;32m    351\u001b[0m \u001b[0;34m\u001b[0m\u001b[0m\n\u001b[1;32m    352\u001b[0m         \u001b[0;32mif\u001b[0m \u001b[0mself\u001b[0m\u001b[0;34m.\u001b[0m\u001b[0mn_outputs_\u001b[0m \u001b[0;34m==\u001b[0m \u001b[0;36m1\u001b[0m\u001b[0;34m:\u001b[0m\u001b[0;34m\u001b[0m\u001b[0m\n",
      "\u001b[0;31mKeyboardInterrupt\u001b[0m: "
     ]
    }
   ],
   "source": [
    "from sklearn.ensemble import AdaBoostClassifier\n",
    "\n",
    "clf = AdaBoostClassifier()\n",
    "start = time()\n",
    "clf.fit(x_train, y_train)\n",
    "end = time()\n",
    "\n",
    "ab_time = end - start"
   ]
  },
  {
   "cell_type": "code",
   "execution_count": 106,
   "metadata": {},
   "outputs": [
    {
     "data": {
      "text/plain": [
       "AdaBoostClassifier(algorithm='SAMME.R', base_estimator=None,\n",
       "          learning_rate=1.0, n_estimators=50, random_state=None)"
      ]
     },
     "execution_count": 106,
     "metadata": {},
     "output_type": "execute_result"
    }
   ],
   "source": [
    "clf = AdaBoostClassifier()\n",
    "clf"
   ]
  },
  {
   "cell_type": "markdown",
   "metadata": {},
   "source": [
    "##### Testing"
   ]
  },
  {
   "cell_type": "code",
   "execution_count": 97,
   "metadata": {},
   "outputs": [
    {
     "name": "stdout",
     "output_type": "stream",
     "text": [
      "Accuracy :  84.1506400346299 %\n",
      "\n",
      "\n",
      "\n",
      "Confusion Matrix : \n",
      " [[10595  3394]\n",
      " [ 9421 57445]]\n"
     ]
    }
   ],
   "source": [
    "pred = clf.predict(x_test)\n",
    "ab_acc = accuracy_score(y_test, pred)*100\n",
    "print(\"Accuracy : \", ab_acc,\"%\")\n",
    "print(\"\\n\\n\")\n",
    "print(\"Confusion Matrix : \\n\", confusion_matrix(y_test, pred))"
   ]
  },
  {
   "cell_type": "code",
   "execution_count": 98,
   "metadata": {},
   "outputs": [
    {
     "name": "stdout",
     "output_type": "stream",
     "text": [
      "             precision    recall  f1-score   support\n",
      "\n",
      "   Declined       0.53      0.76      0.62     13989\n",
      "   Approved       0.94      0.86      0.90     66866\n",
      "\n",
      "avg / total       0.87      0.84      0.85     80855\n",
      "\n"
     ]
    }
   ],
   "source": [
    "from sklearn.metrics import classification_report\n",
    "target_names=[\"Declined\", \"Approved\"]\n",
    "print(classification_report(y_test, pred, target_names=target_names))"
   ]
  },
  {
   "cell_type": "markdown",
   "metadata": {},
   "source": [
    "## Model 4 : Deep Neural Network\n",
    "\n",
    "##### Training"
   ]
  },
  {
   "cell_type": "code",
   "execution_count": 99,
   "metadata": {},
   "outputs": [
    {
     "name": "stderr",
     "output_type": "stream",
     "text": [
      "Using TensorFlow backend.\n"
     ]
    },
    {
     "name": "stdout",
     "output_type": "stream",
     "text": [
      "WARNING:tensorflow:From /Users/chaitanyapotnis/anaconda/lib/python3.6/site-packages/keras/backend/tensorflow_backend.py:1123: calling reduce_mean (from tensorflow.python.ops.math_ops) with keep_dims is deprecated and will be removed in a future version.\n",
      "Instructions for updating:\n",
      "keep_dims is deprecated, use keepdims instead\n",
      "Train on 230400 samples, validate on 57600 samples\n",
      "Epoch 1/5\n",
      "230400/230400 [==============================] - 51s - loss: 0.4329 - acc: 0.7849 - val_loss: 0.3766 - val_acc: 0.8097\n",
      "Epoch 2/5\n",
      "230400/230400 [==============================] - 38s - loss: 0.3904 - acc: 0.7996 - val_loss: 0.3649 - val_acc: 0.8132\n",
      "Epoch 3/5\n",
      "230400/230400 [==============================] - 36s - loss: 0.3823 - acc: 0.8031 - val_loss: 0.3725 - val_acc: 0.8115\n",
      "Epoch 4/5\n",
      "230400/230400 [==============================] - 36s - loss: 0.3807 - acc: 0.8045 - val_loss: 0.3691 - val_acc: 0.8117\n",
      "Epoch 5/5\n",
      "230400/230400 [==============================] - 39s - loss: 0.3765 - acc: 0.8062 - val_loss: 0.3633 - val_acc: 0.8134\n"
     ]
    }
   ],
   "source": [
    "Xtrain = np.array(x_train)\n",
    "ytrain = np.array(y_train)\n",
    "Xtest = np.array(x_test)\n",
    "ytest = np.array(y_test)\n",
    "\n",
    "classifier = 0\n",
    "import keras\n",
    "from keras.models import Sequential\n",
    "from keras.layers import Dense\n",
    "\n",
    "classifier = Sequential()\n",
    "\n",
    "classifier.add(Dense(units = 32, activation = 'relu', input_dim = 387))\n",
    "\n",
    "classifier.add(Dense(units = 64, activation = 'relu'))\n",
    "\n",
    "classifier.add(Dense(units = 1, activation = 'sigmoid'))\n",
    "\n",
    "classifier.compile(optimizer = 'adam', loss = 'binary_crossentropy', metrics = ['accuracy'])\n",
    "\n",
    "start = time()\n",
    "history = classifier.fit(Xtrain, ytrain, batch_size =64, epochs = 5, validation_split= 0.20)\n",
    "end = time()\n",
    "\n",
    "nn_time = end - start"
   ]
  },
  {
   "cell_type": "markdown",
   "metadata": {},
   "source": [
    "##### Testing"
   ]
  },
  {
   "cell_type": "code",
   "execution_count": 100,
   "metadata": {},
   "outputs": [
    {
     "name": "stdout",
     "output_type": "stream",
     "text": [
      "80576/80855 [============================>.] - ETA: 0s"
     ]
    },
    {
     "data": {
      "text/plain": [
       "[0.3015099513877943, 0.8482344938499587]"
      ]
     },
     "execution_count": 100,
     "metadata": {},
     "output_type": "execute_result"
    }
   ],
   "source": [
    "score = classifier.evaluate(Xtest, ytest, batch_size=32)\n",
    "score"
   ]
  },
  {
   "cell_type": "code",
   "execution_count": 101,
   "metadata": {},
   "outputs": [
    {
     "data": {
      "text/plain": [
       "84.82344938499587"
      ]
     },
     "execution_count": 101,
     "metadata": {},
     "output_type": "execute_result"
    }
   ],
   "source": [
    "nn_acc = score[1]\n",
    "nn_acc = nn_acc*100\n",
    "nn_acc"
   ]
  },
  {
   "cell_type": "code",
   "execution_count": 102,
   "metadata": {},
   "outputs": [
    {
     "data": {
      "image/png": "[encoded data removed]",
      "text/plain": [
       "<Figure size 432x288 with 1 Axes>"
      ]
     },
     "metadata": {},
     "output_type": "display_data"
    },
    {
     "data": {
      "image/png": "[encoded data removed]",
      "text/plain": [
       "<Figure size 432x288 with 1 Axes>"
      ]
     },
     "metadata": {},
     "output_type": "display_data"
    }
   ],
   "source": [
    "import matplotlib.pyplot as plt\n",
    "# summarize history for accuracy\n",
    "plt.plot(history.history['acc'])\n",
    "plt.plot(history.history['val_acc'])\n",
    "plt.title('model accuracy')\n",
    "plt.ylabel('accuracy')\n",
    "plt.xlabel('epoch')\n",
    "plt.legend(['Train', 'Validation'], loc='upper left')\n",
    "plt.show()\n",
    "# summarize history for loss\n",
    "plt.plot(history.history['loss'])\n",
    "plt.plot(history.history['val_loss'])\n",
    "plt.title('model loss')\n",
    "plt.ylabel('loss')\n",
    "plt.xlabel('epoch')\n",
    "plt.legend(['Train', 'Validation'], loc='upper left')\n",
    "plt.show()"
   ]
  },
  {
   "cell_type": "code",
   "execution_count": 103,
   "metadata": {},
   "outputs": [
    {
     "name": "stdout",
     "output_type": "stream",
     "text": [
      "             precision    recall  f1-score   support\n",
      "\n",
      "   Declined       0.53      0.76      0.62     13989\n",
      "   Approved       0.94      0.86      0.90     66866\n",
      "\n",
      "avg / total       0.87      0.84      0.85     80855\n",
      "\n"
     ]
    }
   ],
   "source": [
    "from sklearn.metrics import classification_report\n",
    "target_names=[\"Declined\", \"Approved\"]\n",
    "print(classification_report(y_test, pred, target_names=target_names))"
   ]
  },
  {
   "cell_type": "markdown",
   "metadata": {},
   "source": [
    "## Comparing Model Accuracy in Analysis 1"
   ]
  },
  {
   "cell_type": "code",
   "execution_count": 104,
   "metadata": {},
   "outputs": [
    {
     "data": {
      "text/plain": [
       "Text(0.5,1,'Model Accuracy Comparison')"
      ]
     },
     "execution_count": 104,
     "metadata": {},
     "output_type": "execute_result"
    },
    {
     "data": {
      "image/png": "[encoded data removed]",
      "text/plain": [
       "<Figure size 432x288 with 1 Axes>"
      ]
     },
     "metadata": {},
     "output_type": "display_data"
    }
   ],
   "source": [
    "objects = ('Logistic Regression', 'Random Forest', 'AdaBost', 'Neural Network')\n",
    "y_pos = np.arange(len(objects))\n",
    "performance = [lr_acc,rf_acc,ab_acc,nn_acc]\n",
    " \n",
    "plt.bar(y_pos, performance, align='center', alpha=0.8)\n",
    "plt.xticks(y_pos, objects)\n",
    "plt.ylabel('Accuracy')\n",
    "plt.title('Model Accuracy Comparison')"
   ]
  },
  {
   "cell_type": "markdown",
   "metadata": {},
   "source": [
    "## Comparing Model Training Time in Analysis 1"
   ]
  },
  {
   "cell_type": "code",
   "execution_count": 105,
   "metadata": {},
   "outputs": [
    {
     "data": {
      "text/plain": [
       "Text(0.5,1,'Model Accuracy Comparison')"
      ]
     },
     "execution_count": 105,
     "metadata": {},
     "output_type": "execute_result"
    },
    {
     "data": {
      "image/png": "[encoded data removed]",
      "text/plain": [
       "<Figure size 432x288 with 1 Axes>"
      ]
     },
     "metadata": {},
     "output_type": "display_data"
    }
   ],
   "source": [
    "objects = ('Logistic Regression', 'Random Forest', 'AdaBost', 'Neural Network')\n",
    "y_pos = np.arange(len(objects))\n",
    "performance = [lr_time,rf_time,ab_time,nn_time]\n",
    " \n",
    "plt.bar(y_pos, performance, align='center', alpha=0.8)\n",
    "plt.xticks(y_pos, objects)\n",
    "plt.ylabel('Accuracy')\n",
    "plt.title('Model Accuracy Comparison')"
   ]
  },
  {
   "cell_type": "code",
   "execution_count": 184,
   "metadata": {},
   "outputs": [
    {
     "data": {
      "text/plain": [
       "[62.010624170303345, 174.8533010482788, 61.19217371940613, 204.06402921676636]"
      ]
     },
     "execution_count": 184,
     "metadata": {},
     "output_type": "execute_result"
    }
   ],
   "source": [
    "performance"
   ]
  },
  {
   "cell_type": "markdown",
   "metadata": {},
   "source": [
    "# Report\n",
    "\n",
    "##### Total 9 Supervised Classification model were tested on this data and these were the top 4 model which performed well the data.\n",
    "\n",
    "### Model 1 Logistic Regression\n",
    "\t\n",
    "Hyper parameters : C =1000, <br>\n",
    "1) max_iter =100, <br>\n",
    "2) solver =liblinear, <br>\n",
    "3) penalty = l2<br>\n",
    "\n",
    "### Model 2 Random Forest Classifier\n",
    "\t\n",
    "Hyper parameters : <br>\n",
    "1) n_estimators =100, <br>\n",
    "2) criterion = 'entropy'<br>\n",
    "\n",
    "### Model 3 AdaBoost Classifier\n",
    "\t\n",
    "Hyper parameters : <br>\n",
    "1) algorithm='SAMME.R',<br>\n",
    "2) base_estimator=None,<br>\n",
    "3) learning_rate=1.0,<br>\n",
    "4) n_estimators=50<br>\n",
    "\n",
    "### Model 4 Deep Neural Network:\n",
    "\t\n",
    "1) Layer 1 : 32 units Dense Layer with activation ‘relu’<br>\n",
    "2) Layer 2 : 64 units Dense Layer with activation ‘relu’<br>\n",
    "3) Layer 3 : 1 units Dense Layer with activation ‘sigmoid<br>\n",
    "4) Loss Function : binary_crossentropy<br>\n",
    "5) Optimizer : ADAM<br>\n",
    "6) Epochs: 5<br>\n",
    "7) Batch Size : 64<br>\n",
    "8) Validation split : 0.20<br>\n",
    "\n",
    "\n",
    "##### All these parameters are choose  after tuning and testing, performing hyperparamter tuning, cross-validation, etc  and this parameter are the best parameter for our data.\n",
    "\n",
    "\n",
    "\n",
    "\n",
    "\n",
    "\n",
    "\n",
    "## Analysis \n",
    "\n",
    "Train Data   =  2014, 2015, 2016 (288000 Sample)<br>\n",
    "Test Data     =  2017 (80855 Sample)<br><br><br>\n",
    "<br>\n",
    "\n",
    "## Results:\n",
    "\n",
    "### Model 1 Logistic Regression:\n",
    "\n",
    "1) Accuracy: Accuracy :  85.84 %\n",
    "\n",
    "2) Confusion Matrix : [[10370  3619]\n",
    " \t\t\t[ 7825 59041]]\n",
    "3) Precision : 0.88\n",
    "\n",
    "4) Recall : 0.86\n",
    "\n",
    "5) F1-Score : 0.87\n",
    "\n",
    "\n",
    "\n",
    "### Model 2 Random Forest:\n",
    "\n",
    "1) Accuracy: Accuracy :  85.35%\n",
    "\n",
    "2) Confusion Matrix : [[11335  2654]\n",
    " [ 9189 57677]]\n",
    "\n",
    "3) Precision : 0.89\n",
    "\n",
    "4) Recall : 0.85\n",
    "\n",
    "5) F1-Score : 0.86\n",
    "\n",
    "\n",
    "\n",
    "\n",
    "\n",
    "\n",
    "\n",
    "\n",
    "\n",
    "\n",
    "### Model 3 Adaboost Classifier: \n",
    "1) Accuracy: Accuracy :  84.15 %\n",
    "\n",
    "2) Confusion Matrix : [[10595  3394]\n",
    " \t\t\t[ 9421 57445]]\n",
    "\n",
    "3) Precision : 0.87\n",
    "\n",
    "4) Recall : 0.84\n",
    "\n",
    "5) F1-Score : 0.85\n",
    "\n",
    "\n",
    "\n",
    "\n",
    "### Model 4 Deep Neural Network:\n",
    "\n",
    "1) Accuracy: Accuracy :  84.82 %\n",
    "\n",
    "2) Loss : 0.30\n",
    "\n",
    "3) Precision : 0.87\n",
    "\n",
    "4) Recall : 0.84\n",
    "\n",
    "4) F1-Score : 0.85\n",
    "\n",
    "\n",
    "\n",
    "\t\n",
    "\n",
    "\n",
    "## Comparing Model Accuracy in Analysis:\n",
    "\n",
    "\n",
    "\n",
    "\n",
    "| Model | Accuracy | Precision | Recall   | F1- Score   |\n",
    "|------|------|------|------|------|------|\n",
    "|   Logistic Regression  | 85.84%|0.88|   0.86 | 0.87|\n",
    "|   Random Forest Classifier  | 85.35%|0.89|   0.85  | 0.86|\n",
    "|   AdaBoost Classifier  | 84.15%|0.87| 0.84|   0.85  |\n",
    "|   Deep Neural Network  | 84.82%|0.87| 0.84|   0.85  |\n",
    "\n",
    "\n",
    "\n",
    "\n",
    "\n",
    "\n",
    "\n",
    "\n",
    "\n",
    "\n",
    "\n",
    "\n",
    "## Comparing Model Training Time:\n",
    "\n",
    "| Model | Training Time | \n",
    "|------|------|\n",
    "|   Logistic Regression  | 64.01|\n",
    "|   Random Forest Classifier  |174.85|\n",
    "|   AdaBoost Classifier  | 61.19|\n",
    "|   Deep Neural Network  | 204.06|\n",
    "\n",
    "\n",
    "\n",
    "\n",
    "\n",
    "\n",
    "## Model Of Choice :\n",
    "If we compare accuracy and f1score all the 4 model got a accuracy greater than 84% and f1score greater than 0.85.\n",
    "\n",
    "But some model have a trade off of time vs accuracy like, Random Forest and Deep Neural Network.\n",
    "\n",
    "Therefore Model of Choice will be Logistic Regression as it takes 64.01 seconds to train the model and has the highest accur"
   ]
  },
  {
   "cell_type": "code",
   "execution_count": null,
   "metadata": {
    "collapsed": true
   },
   "outputs": [],
   "source": []
  }
 ],
 "metadata": {
  "kernelspec": {
   "display_name": "Python 3",
   "language": "python",
   "name": "python3"
  },
  "language_info": {
   "codemirror_mode": {
    "name": "ipython",
    "version": 3
   },
   "file_extension": ".py",
   "mimetype": "text/x-python",
   "name": "python",
   "nbconvert_exporter": "python",
   "pygments_lexer": "ipython3",
   "version": "3.6.4"
  }
 },
 "nbformat": 4,
 "nbformat_minor": 2
}
