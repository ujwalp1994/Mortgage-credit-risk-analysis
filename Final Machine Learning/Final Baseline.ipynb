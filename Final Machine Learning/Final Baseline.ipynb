{
 "cells": [
  {
   "cell_type": "code",
   "execution_count": 36,
   "metadata": {
    "collapsed": true
   },
   "outputs": [],
   "source": [
    "import pandas as pd\n",
    "import numpy as np\n",
    "import matplotlib as mlt\n",
    "import seaborn as sns\n",
    "import matplotlib.pyplot as plt\n",
    "from IPython.core.display import display, HTML\n",
    "import statistics"
   ]
  },
  {
   "cell_type": "code",
   "execution_count": 37,
   "metadata": {
    "collapsed": true
   },
   "outputs": [],
   "source": [
    "df = pd.read_csv(\"Baseline_Dataframe.csv\")"
   ]
  },
  {
   "cell_type": "code",
   "execution_count": 38,
   "metadata": {
    "collapsed": true
   },
   "outputs": [],
   "source": [
    "def createBaseLine(year):\n",
    "    ### Year comes in the \n",
    "    b_year = df[df[\"Year\"] == year]\n",
    "    b_year_temp = b_year.groupby(\"StateName\").agg(lambda x: x.value_counts().index[0])\n",
    "    byear = b_year_temp[[\"Income\" , \"IncRat\", \"Amount\", \"PMT\"]]\n",
    "    byear[\"Rate\"] = b_year[\"Rate\"].groupby(df[\"StateName\"]).mean()\n",
    "    byear[\"LTV\"] = b_year[\"LTV\"].groupby(df[\"StateName\"]).mean()\n",
    "    return byear"
   ]
  },
  {
   "cell_type": "code",
   "execution_count": 39,
   "metadata": {},
   "outputs": [
    {
     "name": "stderr",
     "output_type": "stream",
     "text": [
      "/Users/chaitanyapotnis/anaconda/lib/python3.6/site-packages/ipykernel_launcher.py:6: SettingWithCopyWarning: \n",
      "A value is trying to be set on a copy of a slice from a DataFrame.\n",
      "Try using .loc[row_indexer,col_indexer] = value instead\n",
      "\n",
      "See the caveats in the documentation: http://pandas.pydata.org/pandas-docs/stable/indexing.html#indexing-view-versus-copy\n",
      "  \n",
      "/Users/chaitanyapotnis/anaconda/lib/python3.6/site-packages/ipykernel_launcher.py:7: SettingWithCopyWarning: \n",
      "A value is trying to be set on a copy of a slice from a DataFrame.\n",
      "Try using .loc[row_indexer,col_indexer] = value instead\n",
      "\n",
      "See the caveats in the documentation: http://pandas.pydata.org/pandas-docs/stable/indexing.html#indexing-view-versus-copy\n",
      "  import sys\n"
     ]
    }
   ],
   "source": [
    "baseline_2010 =  createBaseLine(2010)\n",
    "baseline_2011 =  createBaseLine(2011)\n",
    "baseline_2012 =  createBaseLine(2012)\n",
    "baseline_2013 =  createBaseLine(2013)\n",
    "baseline_2014 =  createBaseLine(2014)\n",
    "baseline_2015 =  createBaseLine(2015)\n",
    "baseline_2016 =  createBaseLine(2016)\n",
    "baseline_2017 =  createBaseLine(2017)"
   ]
  },
  {
   "cell_type": "code",
   "execution_count": 40,
   "metadata": {},
   "outputs": [
    {
     "name": "stdout",
     "output_type": "stream",
     "text": [
      "Baseline profile Perstate for year:  2010\n",
      "            Income  IncRat  Amount      PMT      Rate       LTV\n",
      "StateName                                                      \n",
      "Alabama      77424  0.5070  136248   761.61  0.043421  0.874993\n",
      "Arizona      75000  1.1261  222010  1092.16  0.044488  0.840673\n",
      "Arkansas     61776  4.1420   83000   494.98  0.042739  0.687122\n",
      "California  120000  2.0823  417000  3645.69  0.044400  0.771651\n",
      "Colorado     37440  1.2451  100000   733.69  0.044517  0.720947\n",
      "\n",
      "\n",
      "\n",
      "Baseline profile Perstate for year:  2011\n",
      "            Income  IncRat  Amount      PMT      Rate       LTV\n",
      "StateName                                                      \n",
      "Alabama     150000  1.0993   79310   993.72  0.042770  0.733950\n",
      "Arizona     120000  4.0194  417000   983.88  0.043811  0.716071\n",
      "Arkansas     92500  0.7386   80000  1533.42  0.041213  0.730817\n",
      "California  185004  1.2145  697500  3484.57  0.043698  0.692842\n",
      "Colorado     60000  1.2276  417000  2175.27  0.043472  0.763464\n",
      "\n",
      "\n",
      "\n",
      "Baseline profile Perstate for year:  2012\n",
      "            Income  IncRat  Amount      PMT      Rate       LTV\n",
      "StateName                                                      \n",
      "Alabama      91248  1.0806   83000  1270.67  0.036095  0.774500\n",
      "Alaska       79071  1.3405  256677  1490.20  0.038625  0.845000\n",
      "Arizona     113000  1.7018  417000  2022.20  0.036726  0.715677\n",
      "Arkansas    112668  3.8331   80000  1418.01  0.034210  0.699126\n",
      "California  155000  1.9070  625500  2607.88  0.038451  0.677531\n",
      "\n",
      "\n",
      "\n",
      "Baseline profile Perstate for year:  2013\n",
      "            Income  IncRat  Amount      PMT      Rate       LTV\n",
      "StateName                                                      \n",
      "Alabama     140703  1.2792  111300  1271.17  0.034447  0.730000\n",
      "Alaska      117022  1.6459  357000  1629.11  0.036300  0.840000\n",
      "Arizona      90000  1.4469  272000  1139.55  0.039524  0.738714\n",
      "Arkansas    274516  2.6974  300000   420.93  0.036095  0.723810\n",
      "California   69412  0.6739  417000  1814.81  0.038204  0.668797\n",
      "\n",
      "\n",
      "\n",
      "Baseline profile Perstate for year:  2014\n",
      "            Income  IncRat  Amount      PMT      Rate       LTV\n",
      "StateName                                                      \n",
      "Alabama      20703  0.3474  230200  1575.47  0.040083  0.769444\n",
      "Arizona      62832  1.0102  417000   432.08  0.041381  0.745106\n",
      "Arkansas    175423  1.7465  180000  1088.51  0.039716  0.770400\n",
      "California  120000  1.6506  625500  3169.32  0.041197  0.692497\n",
      "Colorado    160000  0.4328  417000  2051.39  0.042282  0.735619\n",
      "\n",
      "\n",
      "\n",
      "Baseline profile Perstate for year:  2015\n",
      "            Income  IncRat  Amount      PMT      Rate       LTV\n",
      "StateName                                                      \n",
      "Alabama      80796  2.0414  151850  1549.20  0.034956  0.797778\n",
      "Arizona     107520  1.7220  417000  1962.08  0.037852  0.755463\n",
      "Arkansas     97087  2.6973  417000   510.48  0.035743  0.770000\n",
      "California  120000  1.7172  417000  1931.19  0.038176  0.657485\n",
      "Colorado     60000  0.9836  417000  1962.08  0.038658  0.748236\n",
      "\n",
      "\n",
      "\n",
      "Baseline profile Perstate for year:  2016\n",
      "            Income  IncRat  Amount      PMT      Rate       LTV\n",
      "StateName                                                      \n",
      "Alabama     185340  2.7630  268000  1740.83  0.032795  0.790635\n",
      "Alaska      104964  1.2105  196500  1615.42  0.036283  0.811667\n",
      "Arizona      48000  1.0714  417000  1962.08  0.035033  0.730826\n",
      "Arkansas    119487  3.0456   70000  1128.05  0.034043  0.745217\n",
      "California  120000  1.1650  417000  1872.52  0.036507  0.621480\n",
      "\n",
      "\n",
      "\n",
      "Baseline profile Perstate for year:  2017\n",
      "            Income  IncRat  Amount      PMT      Rate       LTV\n",
      "StateName                                                      \n",
      "Alabama     158000  1.2275  424100  1629.01  0.039576  0.831129\n",
      "Alaska      254328  2.8385  340500  1852.46  0.037517  0.735000\n",
      "Arizona      99996  0.7119  424100  1964.07  0.040066  0.736221\n",
      "Arkansas     42494  1.8832  424000  1995.02  0.040468  0.797826\n",
      "California  120000  1.2917  636150  3129.48  0.041253  0.669279\n",
      "\n",
      "\n",
      "\n"
     ]
    }
   ],
   "source": [
    "b = [baseline_2010,baseline_2011,baseline_2012,baseline_2013,baseline_2014,baseline_2015,baseline_2016,baseline_2017]\n",
    "year = [2010,2011,2012,2013,2014,2015,2016,2017]\n",
    "for base,year in zip(b,year):\n",
    "    \n",
    "    print(\"Baseline profile Perstate for year: \",year)\n",
    "    print(base.head())\n",
    "    print(\"\\n\\n\")"
   ]
  },
  {
   "cell_type": "markdown",
   "metadata": {},
   "source": [
    "# Baseline Model Definition"
   ]
  },
  {
   "cell_type": "code",
   "execution_count": 41,
   "metadata": {
    "collapsed": true
   },
   "outputs": [],
   "source": [
    "def scoreIncome(income, baseline_income):\n",
    "    if income >= baseline_income:\n",
    "        return 10\n",
    "    else:\n",
    "        return 5\n",
    "\n",
    "def scoreCredit(credit):\n",
    "    if credit >= 4:\n",
    "        return 10\n",
    "    else:\n",
    "        return 5\n",
    "\n",
    "def scoreIncRatio(IncRat, baseline_IncRat):\n",
    "    if IncRat > baseline_IncRat:\n",
    "        return 10\n",
    "    else:\n",
    "        return 5\n",
    "\n",
    "def scoreLoanAmount(loan_amount, baseline_loan_amount):\n",
    "    if loan_amount < baseline_loan_amount+5000.0:\n",
    "        return 10\n",
    "    else:\n",
    "        return 5\n",
    "\n",
    "def scoreLTV(ltv, baseline_ltv):\n",
    "    if income > baseline_income:\n",
    "        return 10\n",
    "    else:\n",
    "        return 5\n",
    "    \n",
    "def cartModel(baseline_income,baseline_IncRat, baseline_loan_amount, baseline_ltv, income, credit, IncRat,loan_amount, ltv):\n",
    "    profile_score = 0 \n",
    "    profile_score += scoreIncome(income, baseline_income)\n",
    "    profile_score += scoreCredit(credit)\n",
    "    profile_score += scoreIncRatio(IncRat, baseline_IncRat)\n",
    "    profile_score += scoreLoanAmount(loan_amount, baseline_loan_amount)\n",
    "    profile_score += scoreLTV(ltv, baseline_ltv)\n",
    "    return profile_score\n",
    "\n",
    "\n",
    "\n",
    "def evaluatorApplication(profile_score):\n",
    "    if profile_score >= 30:\n",
    "        return \"Approved\"\n",
    "    else:\n",
    "        return \"Declined\""
   ]
  },
  {
   "cell_type": "markdown",
   "metadata": {},
   "source": [
    "## Testing the Baseline Model with a application (for mrotagage)"
   ]
  },
  {
   "cell_type": "code",
   "execution_count": 60,
   "metadata": {},
   "outputs": [
    {
     "name": "stdout",
     "output_type": "stream",
     "text": [
      "Enter Income\n",
      "Income between 10000 to 400000\n",
      "10000\n"
     ]
    }
   ],
   "source": [
    "print(\"Enter Income\")\n",
    "print(\"Income between 10000 to 400000\")\n",
    "income = input()\n",
    "income = float(income)"
   ]
  },
  {
   "cell_type": "code",
   "execution_count": 61,
   "metadata": {},
   "outputs": [
    {
     "name": "stdout",
     "output_type": "stream",
     "text": [
      "Enter Credit Score\n",
      "in between 0 to 7 Eg: 6\n",
      "3\n"
     ]
    }
   ],
   "source": [
    "print(\"Enter Credit Score\")\n",
    "print('in between 0 to 7 Eg: 6')\n",
    "credit = input()\n",
    "credit = int(credit)"
   ]
  },
  {
   "cell_type": "code",
   "execution_count": 62,
   "metadata": {},
   "outputs": [
    {
     "name": "stdout",
     "output_type": "stream",
     "text": [
      "Enter Income Ratio\n",
      "In between 0 to 2 Eg: 1.27\n",
      "0.5\n"
     ]
    }
   ],
   "source": [
    "print(\"Enter Income Ratio\")\n",
    "print(\"In between 0 to 2 Eg: 1.27\")\n",
    "IncRat = input()\n",
    "IncRat = float(IncRat)"
   ]
  },
  {
   "cell_type": "code",
   "execution_count": 63,
   "metadata": {},
   "outputs": [
    {
     "name": "stdout",
     "output_type": "stream",
     "text": [
      "Enter Loan Amount\n",
      "500000\n"
     ]
    }
   ],
   "source": [
    "print(\"Enter Loan Amount\")\n",
    "loan_amount = input()\n",
    "loan_amount = float(loan_amount)"
   ]
  },
  {
   "cell_type": "code",
   "execution_count": 64,
   "metadata": {},
   "outputs": [
    {
     "name": "stdout",
     "output_type": "stream",
     "text": [
      "Enter LTV \n",
      "In between 0 to 1 Eg: 0.75\n",
      "0.95\n"
     ]
    }
   ],
   "source": [
    "print(\"Enter LTV \")\n",
    "print((\"In between 0 to 1 Eg: 0.75\"))\n",
    "ltv = input()\n",
    "ltv = float(ltv)"
   ]
  },
  {
   "cell_type": "code",
   "execution_count": 65,
   "metadata": {},
   "outputs": [
    {
     "name": "stdout",
     "output_type": "stream",
     "text": [
      "Enter Year\n",
      "in between 2010 to 2018 Eg: 0.75\n",
      "2017\n"
     ]
    }
   ],
   "source": [
    "print(\"Enter Year\")\n",
    "print('in between 2010 to 2018 Eg: 0.75')\n",
    "year = input()\n",
    "year = int(year)"
   ]
  },
  {
   "cell_type": "code",
   "execution_count": 66,
   "metadata": {},
   "outputs": [
    {
     "name": "stdout",
     "output_type": "stream",
     "text": [
      "Enter State\n",
      "New York\n"
     ]
    }
   ],
   "source": [
    "print(\"Enter State\")\n",
    "state = input()"
   ]
  },
  {
   "cell_type": "code",
   "execution_count": 67,
   "metadata": {},
   "outputs": [
    {
     "name": "stdout",
     "output_type": "stream",
     "text": [
      "YOU ENTER THESE :\n",
      "\n",
      "Income as : 10000.0 \n",
      "Credit as : 3 \n",
      "Income Ratio as : 0.5 \n",
      "Loan Amount as : 500000.0 \n",
      "LTV as : 0.95 \n",
      "Year as : 2017 \n",
      "State as : New York\n"
     ]
    }
   ],
   "source": [
    "print(\"YOU ENTER THESE :\\n\\nIncome as :\", income,\\\n",
    "      \"\\nCredit as :\", credit,\\\n",
    "      \"\\nIncome Ratio as :\", IncRat,\\\n",
    "      \"\\nLoan Amount as :\", loan_amount,\\\n",
    "      \"\\nLTV as :\", ltv,\\\n",
    "      \"\\nYear as :\", year,\\\n",
    "      \"\\nState as :\", state\n",
    "     )"
   ]
  },
  {
   "cell_type": "markdown",
   "metadata": {},
   "source": [
    "## Feeding the above value into baseline Model"
   ]
  },
  {
   "cell_type": "code",
   "execution_count": 68,
   "metadata": {
    "collapsed": true
   },
   "outputs": [],
   "source": [
    "baseline_dict = {\n",
    "                 2010: baseline_2010,\\\n",
    "                 2011: baseline_2011,\\\n",
    "                 2012: baseline_2012,\\\n",
    "                 2013: baseline_2013,\\\n",
    "                 2014: baseline_2014,\\\n",
    "                 2015: baseline_2015,\\\n",
    "                 2016: baseline_2016,\\\n",
    "                 2017: baseline_2017\n",
    "                }"
   ]
  },
  {
   "cell_type": "code",
   "execution_count": 69,
   "metadata": {},
   "outputs": [],
   "source": [
    "baseline_df = baseline_dict[year]"
   ]
  },
  {
   "cell_type": "code",
   "execution_count": 70,
   "metadata": {},
   "outputs": [],
   "source": [
    "basline_variable_list = [baseline_income,baseline_IncRat, baseline_loan_amount, baseline_ltv, income, credit, IncRat,loan_amount, ltv ]"
   ]
  },
  {
   "cell_type": "code",
   "execution_count": 71,
   "metadata": {},
   "outputs": [
    {
     "data": {
      "text/plain": [
       "Income    120000.000000\n",
       "IncRat         1.033400\n",
       "Amount    100000.000000\n",
       "PMT          581.930000\n",
       "Rate           0.039401\n",
       "LTV            0.755788\n",
       "Name: New York, dtype: float64"
      ]
     },
     "execution_count": 71,
     "metadata": {},
     "output_type": "execute_result"
    }
   ],
   "source": [
    "baseline_df.loc[state]"
   ]
  },
  {
   "cell_type": "code",
   "execution_count": 72,
   "metadata": {},
   "outputs": [],
   "source": [
    "baseline_income       = float(baseline_df.loc[state][0])\n",
    "baseline_IncRat       = float(baseline_df.loc[state][1])\n",
    "baseline_loan_amount  = float(baseline_df.loc[state][2])\n",
    "baseline_ltv          = float(baseline_df.loc[state][5])"
   ]
  },
  {
   "cell_type": "markdown",
   "metadata": {},
   "source": [
    "### Calculating the Basline Score"
   ]
  },
  {
   "cell_type": "code",
   "execution_count": 73,
   "metadata": {},
   "outputs": [
    {
     "name": "stdout",
     "output_type": "stream",
     "text": [
      "25\n"
     ]
    }
   ],
   "source": [
    "score = cartModel(baseline_income,baseline_IncRat, baseline_loan_amount, baseline_ltv, income, credit, IncRat,loan_amount, ltv)\n",
    "print(score)"
   ]
  },
  {
   "cell_type": "markdown",
   "metadata": {},
   "source": [
    "### Result:"
   ]
  },
  {
   "cell_type": "code",
   "execution_count": 74,
   "metadata": {},
   "outputs": [
    {
     "data": {
      "text/plain": [
       "'Declined'"
      ]
     },
     "execution_count": 74,
     "metadata": {},
     "output_type": "execute_result"
    }
   ],
   "source": [
    "evaluatorApplication(score)"
   ]
  },
  {
   "cell_type": "code",
   "execution_count": null,
   "metadata": {
    "collapsed": true
   },
   "outputs": [],
   "source": []
  }
 ],
 "metadata": {
  "kernelspec": {
   "display_name": "Python 3",
   "language": "python",
   "name": "python3"
  },
  "language_info": {
   "codemirror_mode": {
    "name": "ipython",
    "version": 3
   },
   "file_extension": ".py",
   "mimetype": "text/x-python",
   "name": "python",
   "nbconvert_exporter": "python",
   "pygments_lexer": "ipython3",
   "version": "3.6.4"
  }
 },
 "nbformat": 4,
 "nbformat_minor": 2
}
