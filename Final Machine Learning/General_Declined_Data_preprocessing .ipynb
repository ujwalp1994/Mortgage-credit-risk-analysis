{
 "cells": [
  {
   "cell_type": "code",
   "execution_count": 1,
   "metadata": {},
   "outputs": [],
   "source": [
    "import pandas as pd \n",
    "import numpy as np\n",
    "from IPython.core.display import display, HTML"
   ]
  },
  {
   "cell_type": "code",
   "execution_count": 2,
   "metadata": {},
   "outputs": [
    {
     "name": "stderr",
     "output_type": "stream",
     "text": [
      "/Users/meganpolak/anaconda3/lib/python3.6/site-packages/IPython/core/interactiveshell.py:2785: DtypeWarning: Columns (1,10,12,13,38,39,40,41,42,43) have mixed types. Specify dtype option on import or set low_memory=False.\n",
      "  interactivity=interactivity, compiler=compiler, result=result)\n"
     ]
    }
   ],
   "source": [
    "df = pd.read_csv('/Users/meganpolak/Downloads/2016.csv', names=('Year','Respondent_ID','Agency_Code','Loan_Type','Property_Type','Loan_Purpose','Occupancy','Loan_Amount','Preapproval','Action_Type','MSA-MD','State_Code','County_Code','Census_Tract_Number','Applicant_Ethnicity','Co_Applicant_Ethnicity','Applicant_Race_1','Applicant_Race_2','Applicant_Race_3','Applicant_Race_4','Applicant_Race_5','Co_Applicant_Race_1','Co_Applicant_Race_2','Co_Applicant_Race_3','Co_Applicant_Race_4','Co_Applicant_Race_5','Applicant_Sex','Co_Applicant_Sex','Applicant_Income','Purchaser_Type ','Denial_Reason_1','Denial_Reason_2','Denial_Reason_3','Rate_Spread','HOEPA_Status','Lien_Status','Edit_Status','Sequence_Number','Population','Minority_Population_%','FFIEC_Median_Family_Income','Tract_to_MSA/MD_Income_%','Number_of_Owner-occupied_units','Number_of_1-to_4-Family_units','Application_Date_Indicator'),header=None)\n"
   ]
  },
  {
   "cell_type": "code",
   "execution_count": 3,
   "metadata": {},
   "outputs": [
    {
     "data": {
      "text/plain": [
       "Year                                   0\n",
       "Respondent_ID                          0\n",
       "Agency_Code                            0\n",
       "Loan_Type                              0\n",
       "Property_Type                          0\n",
       "Loan_Purpose                           0\n",
       "Occupancy                              0\n",
       "Loan_Amount                            0\n",
       "Preapproval                            0\n",
       "Action_Type                            0\n",
       "MSA-MD                                 0\n",
       "State_Code                        254571\n",
       "County_Code                            0\n",
       "Census_Tract_Number                    0\n",
       "Applicant_Ethnicity                    0\n",
       "Co_Applicant_Ethnicity                 0\n",
       "Applicant_Race_1                       0\n",
       "Applicant_Race_2                       0\n",
       "Applicant_Race_3                       0\n",
       "Applicant_Race_4                       0\n",
       "Applicant_Race_5                       0\n",
       "Co_Applicant_Race_1                    0\n",
       "Co_Applicant_Race_2                    0\n",
       "Co_Applicant_Race_3                    0\n",
       "Co_Applicant_Race_4                    0\n",
       "Co_Applicant_Race_5                    0\n",
       "Applicant_Sex                          0\n",
       "Co_Applicant_Sex                       0\n",
       "Applicant_Income                       0\n",
       "Purchaser_Type                         0\n",
       "Denial_Reason_1                        0\n",
       "Denial_Reason_2                        0\n",
       "Denial_Reason_3                        0\n",
       "Rate_Spread                            0\n",
       "HOEPA_Status                           0\n",
       "Lien_Status                            0\n",
       "Edit_Status                            0\n",
       "Sequence_Number                        0\n",
       "Population                             0\n",
       "Minority_Population_%                  0\n",
       "FFIEC_Median_Family_Income             0\n",
       "Tract_to_MSA/MD_Income_%               0\n",
       "Number_of_Owner-occupied_units         0\n",
       "Number_of_1-to_4-Family_units          0\n",
       "Application_Date_Indicator             0\n",
       "dtype: int64"
      ]
     },
     "execution_count": 3,
     "metadata": {},
     "output_type": "execute_result"
    }
   ],
   "source": [
    "df.isnull().sum()"
   ]
  },
  {
   "cell_type": "code",
   "execution_count": 4,
   "metadata": {},
   "outputs": [],
   "source": [
    "\n",
    "df=df.dropna(subset=['State_Code'])"
   ]
  },
  {
   "cell_type": "code",
   "execution_count": 5,
   "metadata": {},
   "outputs": [
    {
     "data": {
      "text/plain": [
       "Year                              0\n",
       "Respondent_ID                     0\n",
       "Agency_Code                       0\n",
       "Loan_Type                         0\n",
       "Property_Type                     0\n",
       "Loan_Purpose                      0\n",
       "Occupancy                         0\n",
       "Loan_Amount                       0\n",
       "Preapproval                       0\n",
       "Action_Type                       0\n",
       "MSA-MD                            0\n",
       "State_Code                        0\n",
       "County_Code                       0\n",
       "Census_Tract_Number               0\n",
       "Applicant_Ethnicity               0\n",
       "Co_Applicant_Ethnicity            0\n",
       "Applicant_Race_1                  0\n",
       "Applicant_Race_2                  0\n",
       "Applicant_Race_3                  0\n",
       "Applicant_Race_4                  0\n",
       "Applicant_Race_5                  0\n",
       "Co_Applicant_Race_1               0\n",
       "Co_Applicant_Race_2               0\n",
       "Co_Applicant_Race_3               0\n",
       "Co_Applicant_Race_4               0\n",
       "Co_Applicant_Race_5               0\n",
       "Applicant_Sex                     0\n",
       "Co_Applicant_Sex                  0\n",
       "Applicant_Income                  0\n",
       "Purchaser_Type                    0\n",
       "Denial_Reason_1                   0\n",
       "Denial_Reason_2                   0\n",
       "Denial_Reason_3                   0\n",
       "Rate_Spread                       0\n",
       "HOEPA_Status                      0\n",
       "Lien_Status                       0\n",
       "Edit_Status                       0\n",
       "Sequence_Number                   0\n",
       "Population                        0\n",
       "Minority_Population_%             0\n",
       "FFIEC_Median_Family_Income        0\n",
       "Tract_to_MSA/MD_Income_%          0\n",
       "Number_of_Owner-occupied_units    0\n",
       "Number_of_1-to_4-Family_units     0\n",
       "Application_Date_Indicator        0\n",
       "dtype: int64"
      ]
     },
     "execution_count": 5,
     "metadata": {},
     "output_type": "execute_result"
    }
   ],
   "source": [
    "df.isnull().sum()"
   ]
  },
  {
   "cell_type": "code",
   "execution_count": 6,
   "metadata": {},
   "outputs": [
    {
     "name": "stdout",
     "output_type": "stream",
     "text": [
      "<class 'pandas.core.frame.DataFrame'>\n",
      "Int64Index: 16078416 entries, 0 to 16078415\n",
      "Data columns (total 45 columns):\n",
      "Year                              int64\n",
      "Respondent_ID                     object\n",
      "Agency_Code                       int64\n",
      "Loan_Type                         int64\n",
      "Property_Type                     int64\n",
      "Loan_Purpose                      int64\n",
      "Occupancy                         int64\n",
      "Loan_Amount                       int64\n",
      "Preapproval                       int64\n",
      "Action_Type                       int64\n",
      "MSA-MD                            object\n",
      "State_Code                        float64\n",
      "County_Code                       object\n",
      "Census_Tract_Number               object\n",
      "Applicant_Ethnicity               int64\n",
      "Co_Applicant_Ethnicity            int64\n",
      "Applicant_Race_1                  int64\n",
      "Applicant_Race_2                  object\n",
      "Applicant_Race_3                  object\n",
      "Applicant_Race_4                  object\n",
      "Applicant_Race_5                  object\n",
      "Co_Applicant_Race_1               int64\n",
      "Co_Applicant_Race_2               object\n",
      "Co_Applicant_Race_3               object\n",
      "Co_Applicant_Race_4               object\n",
      "Co_Applicant_Race_5               object\n",
      "Applicant_Sex                     int64\n",
      "Co_Applicant_Sex                  int64\n",
      "Applicant_Income                  object\n",
      "Purchaser_Type                    int64\n",
      "Denial_Reason_1                   object\n",
      "Denial_Reason_2                   object\n",
      "Denial_Reason_3                   object\n",
      "Rate_Spread                       object\n",
      "HOEPA_Status                      int64\n",
      "Lien_Status                       int64\n",
      "Edit_Status                       object\n",
      "Sequence_Number                   int64\n",
      "Population                        object\n",
      "Minority_Population_%             object\n",
      "FFIEC_Median_Family_Income        object\n",
      "Tract_to_MSA/MD_Income_%          object\n",
      "Number_of_Owner-occupied_units    object\n",
      "Number_of_1-to_4-Family_units     object\n",
      "Application_Date_Indicator        int64\n",
      "dtypes: float64(1), int64(20), object(24)\n",
      "memory usage: 5.5+ GB\n"
     ]
    }
   ],
   "source": [
    "df.info()"
   ]
  },
  {
   "cell_type": "code",
   "execution_count": 7,
   "metadata": {},
   "outputs": [],
   "source": [
    "interested = ['Year', 'Respondent_ID', 'Agency_Code', 'Loan_Type', 'Property_Type','Loan_Purpose','Occupancy', 'Loan_Amount', 'Action_Type', 'State_Code', 'County_Code','Applicant_Income', 'Purchaser_Type ','Denial_Reason_1', 'Application_Date_Indicator']\n",
    "df = df[interested]"
   ]
  },
  {
   "cell_type": "code",
   "execution_count": 8,
   "metadata": {},
   "outputs": [
    {
     "name": "stdout",
     "output_type": "stream",
     "text": [
      "<class 'pandas.core.frame.DataFrame'>\n",
      "Int64Index: 16078416 entries, 0 to 16078415\n",
      "Data columns (total 15 columns):\n",
      "Year                          int64\n",
      "Respondent_ID                 object\n",
      "Agency_Code                   int64\n",
      "Loan_Type                     int64\n",
      "Property_Type                 int64\n",
      "Loan_Purpose                  int64\n",
      "Occupancy                     int64\n",
      "Loan_Amount                   int64\n",
      "Action_Type                   int64\n",
      "State_Code                    float64\n",
      "County_Code                   object\n",
      "Applicant_Income              object\n",
      "Purchaser_Type                int64\n",
      "Denial_Reason_1               object\n",
      "Application_Date_Indicator    int64\n",
      "dtypes: float64(1), int64(10), object(4)\n",
      "memory usage: 1.9+ GB\n"
     ]
    }
   ],
   "source": [
    "df.info()"
   ]
  },
  {
   "cell_type": "code",
   "execution_count": 9,
   "metadata": {},
   "outputs": [],
   "source": [
    "\n",
    "df['Applicant_Income'] = pd.to_numeric(df['Applicant_Income'].str.replace(' ',''), errors='force')"
   ]
  },
  {
   "cell_type": "code",
   "execution_count": 10,
   "metadata": {},
   "outputs": [],
   "source": [
    "df['County_Code'] = pd.to_numeric(df['County_Code'].str.replace(' ',''), errors='force')"
   ]
  },
  {
   "cell_type": "code",
   "execution_count": 11,
   "metadata": {},
   "outputs": [
    {
     "data": {
      "text/plain": [
       "Year                                 0\n",
       "Respondent_ID                        0\n",
       "Agency_Code                          0\n",
       "Loan_Type                            0\n",
       "Property_Type                        0\n",
       "Loan_Purpose                         0\n",
       "Occupancy                            0\n",
       "Loan_Amount                          0\n",
       "Action_Type                          0\n",
       "State_Code                           0\n",
       "County_Code                   13687433\n",
       "Applicant_Income               2474078\n",
       "Purchaser_Type                       0\n",
       "Denial_Reason_1                      0\n",
       "Application_Date_Indicator           0\n",
       "dtype: int64"
      ]
     },
     "execution_count": 11,
     "metadata": {},
     "output_type": "execute_result"
    }
   ],
   "source": [
    "df.isnull().sum()"
   ]
  },
  {
   "cell_type": "code",
   "execution_count": 12,
   "metadata": {},
   "outputs": [],
   "source": [
    "df=df.dropna(subset=['County_Code'])"
   ]
  },
  {
   "cell_type": "code",
   "execution_count": 13,
   "metadata": {},
   "outputs": [],
   "source": [
    "# replace missing values with mean \n",
    "df['Applicant_Income'].fillna(df['Applicant_Income'].mean(), inplace = True)"
   ]
  },
  {
   "cell_type": "code",
   "execution_count": 14,
   "metadata": {},
   "outputs": [
    {
     "data": {
      "text/plain": [
       "Year                          0\n",
       "Respondent_ID                 0\n",
       "Agency_Code                   0\n",
       "Loan_Type                     0\n",
       "Property_Type                 0\n",
       "Loan_Purpose                  0\n",
       "Occupancy                     0\n",
       "Loan_Amount                   0\n",
       "Action_Type                   0\n",
       "State_Code                    0\n",
       "County_Code                   0\n",
       "Applicant_Income              0\n",
       "Purchaser_Type                0\n",
       "Denial_Reason_1               0\n",
       "Application_Date_Indicator    0\n",
       "dtype: int64"
      ]
     },
     "execution_count": 14,
     "metadata": {},
     "output_type": "execute_result"
    }
   ],
   "source": [
    "df.isnull().sum()"
   ]
  },
  {
   "cell_type": "code",
   "execution_count": 15,
   "metadata": {},
   "outputs": [
    {
     "name": "stdout",
     "output_type": "stream",
     "text": [
      "<class 'pandas.core.frame.DataFrame'>\n",
      "Int64Index: 2390983 entries, 16384 to 16078415\n",
      "Data columns (total 15 columns):\n",
      "Year                          int64\n",
      "Respondent_ID                 object\n",
      "Agency_Code                   int64\n",
      "Loan_Type                     int64\n",
      "Property_Type                 int64\n",
      "Loan_Purpose                  int64\n",
      "Occupancy                     int64\n",
      "Loan_Amount                   int64\n",
      "Action_Type                   int64\n",
      "State_Code                    float64\n",
      "County_Code                   float64\n",
      "Applicant_Income              float64\n",
      "Purchaser_Type                int64\n",
      "Denial_Reason_1               object\n",
      "Application_Date_Indicator    int64\n",
      "dtypes: float64(3), int64(10), object(2)\n",
      "memory usage: 291.9+ MB\n"
     ]
    }
   ],
   "source": [
    "df.info()"
   ]
  },
  {
   "cell_type": "code",
   "execution_count": 16,
   "metadata": {},
   "outputs": [],
   "source": [
    "cols1=['State_Code','County_Code','Applicant_Income']"
   ]
  },
  {
   "cell_type": "code",
   "execution_count": 17,
   "metadata": {},
   "outputs": [],
   "source": [
    "df[cols1]=df[cols1].applymap(np.int64)"
   ]
  },
  {
   "cell_type": "code",
   "execution_count": 18,
   "metadata": {
    "scrolled": true
   },
   "outputs": [
    {
     "data": {
      "text/html": [
       "<div>\n",
       "<style scoped>\n",
       "    .dataframe tbody tr th:only-of-type {\n",
       "        vertical-align: middle;\n",
       "    }\n",
       "\n",
       "    .dataframe tbody tr th {\n",
       "        vertical-align: top;\n",
       "    }\n",
       "\n",
       "    .dataframe thead th {\n",
       "        text-align: right;\n",
       "    }\n",
       "</style>\n",
       "<table border=\"1\" class=\"dataframe\">\n",
       "  <thead>\n",
       "    <tr style=\"text-align: right;\">\n",
       "      <th></th>\n",
       "      <th>Name</th>\n",
       "      <th>FIPS State Numeric Code</th>\n",
       "      <th>Official�USPS Code</th>\n",
       "    </tr>\n",
       "  </thead>\n",
       "  <tbody>\n",
       "    <tr>\n",
       "      <th>0</th>\n",
       "      <td>Alabama</td>\n",
       "      <td>1</td>\n",
       "      <td>AL</td>\n",
       "    </tr>\n",
       "    <tr>\n",
       "      <th>1</th>\n",
       "      <td>Alaska</td>\n",
       "      <td>2</td>\n",
       "      <td>AK</td>\n",
       "    </tr>\n",
       "    <tr>\n",
       "      <th>2</th>\n",
       "      <td>Arizona</td>\n",
       "      <td>4</td>\n",
       "      <td>AZ</td>\n",
       "    </tr>\n",
       "    <tr>\n",
       "      <th>3</th>\n",
       "      <td>Arkansas</td>\n",
       "      <td>5</td>\n",
       "      <td>AR</td>\n",
       "    </tr>\n",
       "    <tr>\n",
       "      <th>4</th>\n",
       "      <td>California</td>\n",
       "      <td>6</td>\n",
       "      <td>CA</td>\n",
       "    </tr>\n",
       "    <tr>\n",
       "      <th>5</th>\n",
       "      <td>Colorado</td>\n",
       "      <td>8</td>\n",
       "      <td>CO</td>\n",
       "    </tr>\n",
       "    <tr>\n",
       "      <th>6</th>\n",
       "      <td>Connecticut</td>\n",
       "      <td>9</td>\n",
       "      <td>CT</td>\n",
       "    </tr>\n",
       "    <tr>\n",
       "      <th>7</th>\n",
       "      <td>Delaware</td>\n",
       "      <td>10</td>\n",
       "      <td>DE</td>\n",
       "    </tr>\n",
       "    <tr>\n",
       "      <th>8</th>\n",
       "      <td>District of Columbia</td>\n",
       "      <td>11</td>\n",
       "      <td>DC</td>\n",
       "    </tr>\n",
       "    <tr>\n",
       "      <th>9</th>\n",
       "      <td>Florida</td>\n",
       "      <td>12</td>\n",
       "      <td>FL</td>\n",
       "    </tr>\n",
       "    <tr>\n",
       "      <th>10</th>\n",
       "      <td>Georgia</td>\n",
       "      <td>13</td>\n",
       "      <td>GA</td>\n",
       "    </tr>\n",
       "    <tr>\n",
       "      <th>11</th>\n",
       "      <td>Hawaii</td>\n",
       "      <td>15</td>\n",
       "      <td>HI</td>\n",
       "    </tr>\n",
       "    <tr>\n",
       "      <th>12</th>\n",
       "      <td>Idaho</td>\n",
       "      <td>16</td>\n",
       "      <td>ID</td>\n",
       "    </tr>\n",
       "    <tr>\n",
       "      <th>13</th>\n",
       "      <td>Illinois</td>\n",
       "      <td>17</td>\n",
       "      <td>IL</td>\n",
       "    </tr>\n",
       "    <tr>\n",
       "      <th>14</th>\n",
       "      <td>Indiana</td>\n",
       "      <td>18</td>\n",
       "      <td>IN</td>\n",
       "    </tr>\n",
       "    <tr>\n",
       "      <th>15</th>\n",
       "      <td>Iowa</td>\n",
       "      <td>19</td>\n",
       "      <td>IA</td>\n",
       "    </tr>\n",
       "    <tr>\n",
       "      <th>16</th>\n",
       "      <td>Kansas</td>\n",
       "      <td>20</td>\n",
       "      <td>KS</td>\n",
       "    </tr>\n",
       "    <tr>\n",
       "      <th>17</th>\n",
       "      <td>Kentucky</td>\n",
       "      <td>21</td>\n",
       "      <td>KY</td>\n",
       "    </tr>\n",
       "    <tr>\n",
       "      <th>18</th>\n",
       "      <td>Louisiana</td>\n",
       "      <td>22</td>\n",
       "      <td>LA</td>\n",
       "    </tr>\n",
       "    <tr>\n",
       "      <th>19</th>\n",
       "      <td>Maine</td>\n",
       "      <td>23</td>\n",
       "      <td>ME</td>\n",
       "    </tr>\n",
       "    <tr>\n",
       "      <th>20</th>\n",
       "      <td>Maryland</td>\n",
       "      <td>24</td>\n",
       "      <td>MD</td>\n",
       "    </tr>\n",
       "    <tr>\n",
       "      <th>21</th>\n",
       "      <td>Massachusetts</td>\n",
       "      <td>25</td>\n",
       "      <td>MA</td>\n",
       "    </tr>\n",
       "    <tr>\n",
       "      <th>22</th>\n",
       "      <td>Michigan</td>\n",
       "      <td>26</td>\n",
       "      <td>MI</td>\n",
       "    </tr>\n",
       "    <tr>\n",
       "      <th>23</th>\n",
       "      <td>Minnesota</td>\n",
       "      <td>27</td>\n",
       "      <td>MN</td>\n",
       "    </tr>\n",
       "    <tr>\n",
       "      <th>24</th>\n",
       "      <td>Mississippi</td>\n",
       "      <td>28</td>\n",
       "      <td>MS</td>\n",
       "    </tr>\n",
       "    <tr>\n",
       "      <th>25</th>\n",
       "      <td>Missouri</td>\n",
       "      <td>29</td>\n",
       "      <td>MO</td>\n",
       "    </tr>\n",
       "    <tr>\n",
       "      <th>26</th>\n",
       "      <td>Montana</td>\n",
       "      <td>30</td>\n",
       "      <td>MT</td>\n",
       "    </tr>\n",
       "    <tr>\n",
       "      <th>27</th>\n",
       "      <td>Nebraska</td>\n",
       "      <td>31</td>\n",
       "      <td>NE</td>\n",
       "    </tr>\n",
       "    <tr>\n",
       "      <th>28</th>\n",
       "      <td>Nevada</td>\n",
       "      <td>32</td>\n",
       "      <td>NV</td>\n",
       "    </tr>\n",
       "    <tr>\n",
       "      <th>29</th>\n",
       "      <td>New Hampshire</td>\n",
       "      <td>33</td>\n",
       "      <td>NH</td>\n",
       "    </tr>\n",
       "    <tr>\n",
       "      <th>30</th>\n",
       "      <td>New Jersey</td>\n",
       "      <td>34</td>\n",
       "      <td>NJ</td>\n",
       "    </tr>\n",
       "    <tr>\n",
       "      <th>31</th>\n",
       "      <td>New Mexico</td>\n",
       "      <td>35</td>\n",
       "      <td>NM</td>\n",
       "    </tr>\n",
       "    <tr>\n",
       "      <th>32</th>\n",
       "      <td>New York</td>\n",
       "      <td>36</td>\n",
       "      <td>NY</td>\n",
       "    </tr>\n",
       "    <tr>\n",
       "      <th>33</th>\n",
       "      <td>North Carolina</td>\n",
       "      <td>37</td>\n",
       "      <td>NC</td>\n",
       "    </tr>\n",
       "    <tr>\n",
       "      <th>34</th>\n",
       "      <td>North Dakota</td>\n",
       "      <td>38</td>\n",
       "      <td>ND</td>\n",
       "    </tr>\n",
       "    <tr>\n",
       "      <th>35</th>\n",
       "      <td>Ohio</td>\n",
       "      <td>39</td>\n",
       "      <td>OH</td>\n",
       "    </tr>\n",
       "    <tr>\n",
       "      <th>36</th>\n",
       "      <td>Oklahoma</td>\n",
       "      <td>40</td>\n",
       "      <td>OK</td>\n",
       "    </tr>\n",
       "    <tr>\n",
       "      <th>37</th>\n",
       "      <td>Oregon</td>\n",
       "      <td>41</td>\n",
       "      <td>OR</td>\n",
       "    </tr>\n",
       "    <tr>\n",
       "      <th>38</th>\n",
       "      <td>Pennsylvania</td>\n",
       "      <td>42</td>\n",
       "      <td>PA</td>\n",
       "    </tr>\n",
       "    <tr>\n",
       "      <th>39</th>\n",
       "      <td>Rhode Island</td>\n",
       "      <td>44</td>\n",
       "      <td>RI</td>\n",
       "    </tr>\n",
       "    <tr>\n",
       "      <th>40</th>\n",
       "      <td>South Carolina</td>\n",
       "      <td>45</td>\n",
       "      <td>SC</td>\n",
       "    </tr>\n",
       "    <tr>\n",
       "      <th>41</th>\n",
       "      <td>South Dakota</td>\n",
       "      <td>46</td>\n",
       "      <td>SD</td>\n",
       "    </tr>\n",
       "    <tr>\n",
       "      <th>42</th>\n",
       "      <td>Tennessee</td>\n",
       "      <td>47</td>\n",
       "      <td>TN</td>\n",
       "    </tr>\n",
       "    <tr>\n",
       "      <th>43</th>\n",
       "      <td>Texas</td>\n",
       "      <td>48</td>\n",
       "      <td>TX</td>\n",
       "    </tr>\n",
       "    <tr>\n",
       "      <th>44</th>\n",
       "      <td>Utah</td>\n",
       "      <td>49</td>\n",
       "      <td>UT</td>\n",
       "    </tr>\n",
       "    <tr>\n",
       "      <th>45</th>\n",
       "      <td>Vermont</td>\n",
       "      <td>50</td>\n",
       "      <td>VT</td>\n",
       "    </tr>\n",
       "    <tr>\n",
       "      <th>46</th>\n",
       "      <td>Virginia</td>\n",
       "      <td>51</td>\n",
       "      <td>VA</td>\n",
       "    </tr>\n",
       "    <tr>\n",
       "      <th>47</th>\n",
       "      <td>Washington</td>\n",
       "      <td>53</td>\n",
       "      <td>WA</td>\n",
       "    </tr>\n",
       "    <tr>\n",
       "      <th>48</th>\n",
       "      <td>West Virginia</td>\n",
       "      <td>54</td>\n",
       "      <td>WV</td>\n",
       "    </tr>\n",
       "    <tr>\n",
       "      <th>49</th>\n",
       "      <td>Wisconsin</td>\n",
       "      <td>55</td>\n",
       "      <td>WI</td>\n",
       "    </tr>\n",
       "    <tr>\n",
       "      <th>50</th>\n",
       "      <td>Wyoming</td>\n",
       "      <td>56</td>\n",
       "      <td>WY</td>\n",
       "    </tr>\n",
       "    <tr>\n",
       "      <th>51</th>\n",
       "      <td>Guam</td>\n",
       "      <td>66</td>\n",
       "      <td>GU</td>\n",
       "    </tr>\n",
       "    <tr>\n",
       "      <th>52</th>\n",
       "      <td>Puerto Rico</td>\n",
       "      <td>72</td>\n",
       "      <td>PR</td>\n",
       "    </tr>\n",
       "    <tr>\n",
       "      <th>53</th>\n",
       "      <td>Virgin Islands</td>\n",
       "      <td>78</td>\n",
       "      <td>VI</td>\n",
       "    </tr>\n",
       "  </tbody>\n",
       "</table>\n",
       "</div>"
      ],
      "text/plain": [
       "                    Name  FIPS State Numeric Code Official�USPS Code\n",
       "0                Alabama                        1                 AL\n",
       "1                 Alaska                        2                 AK\n",
       "2                Arizona                        4                 AZ\n",
       "3               Arkansas                        5                 AR\n",
       "4             California                        6                 CA\n",
       "5               Colorado                        8                 CO\n",
       "6            Connecticut                        9                 CT\n",
       "7               Delaware                       10                 DE\n",
       "8   District of Columbia                       11                 DC\n",
       "9                Florida                       12                 FL\n",
       "10               Georgia                       13                 GA\n",
       "11                Hawaii                       15                 HI\n",
       "12                 Idaho                       16                 ID\n",
       "13              Illinois                       17                 IL\n",
       "14               Indiana                       18                 IN\n",
       "15                  Iowa                       19                 IA\n",
       "16                Kansas                       20                 KS\n",
       "17              Kentucky                       21                 KY\n",
       "18             Louisiana                       22                 LA\n",
       "19                 Maine                       23                 ME\n",
       "20              Maryland                       24                 MD\n",
       "21         Massachusetts                       25                 MA\n",
       "22              Michigan                       26                 MI\n",
       "23             Minnesota                       27                 MN\n",
       "24           Mississippi                       28                 MS\n",
       "25              Missouri                       29                 MO\n",
       "26               Montana                       30                 MT\n",
       "27              Nebraska                       31                 NE\n",
       "28                Nevada                       32                 NV\n",
       "29         New Hampshire                       33                 NH\n",
       "30            New Jersey                       34                 NJ\n",
       "31            New Mexico                       35                 NM\n",
       "32              New York                       36                 NY\n",
       "33        North Carolina                       37                 NC\n",
       "34          North Dakota                       38                 ND\n",
       "35                  Ohio                       39                 OH\n",
       "36              Oklahoma                       40                 OK\n",
       "37                Oregon                       41                 OR\n",
       "38          Pennsylvania                       42                 PA\n",
       "39          Rhode Island                       44                 RI\n",
       "40        South Carolina                       45                 SC\n",
       "41          South Dakota                       46                 SD\n",
       "42             Tennessee                       47                 TN\n",
       "43                 Texas                       48                 TX\n",
       "44                  Utah                       49                 UT\n",
       "45               Vermont                       50                 VT\n",
       "46              Virginia                       51                 VA\n",
       "47            Washington                       53                 WA\n",
       "48         West Virginia                       54                 WV\n",
       "49             Wisconsin                       55                 WI\n",
       "50               Wyoming                       56                 WY\n",
       "51                  Guam                       66                 GU\n",
       "52           Puerto Rico                       72                 PR\n",
       "53        Virgin Islands                       78                 VI"
      ]
     },
     "execution_count": 18,
     "metadata": {},
     "output_type": "execute_result"
    }
   ],
   "source": [
    "# load state codes data \n",
    "state= pd.read_csv('/Users/meganpolak/Downloads/StateCodes.csv', sep=',', engine='python')\n",
    "state"
   ]
  },
  {
   "cell_type": "code",
   "execution_count": 19,
   "metadata": {},
   "outputs": [],
   "source": [
    "state= state.rename(columns={'FIPS State Numeric Code':'State_Code'})"
   ]
  },
  {
   "cell_type": "code",
   "execution_count": 20,
   "metadata": {},
   "outputs": [],
   "source": [
    "df=df.merge(state,how='left')"
   ]
  },
  {
   "cell_type": "code",
   "execution_count": 21,
   "metadata": {},
   "outputs": [
    {
     "name": "stdout",
     "output_type": "stream",
     "text": [
      "<class 'pandas.core.frame.DataFrame'>\n",
      "Int64Index: 2390983 entries, 0 to 2390982\n",
      "Data columns (total 17 columns):\n",
      "Year                          int64\n",
      "Respondent_ID                 object\n",
      "Agency_Code                   int64\n",
      "Loan_Type                     int64\n",
      "Property_Type                 int64\n",
      "Loan_Purpose                  int64\n",
      "Occupancy                     int64\n",
      "Loan_Amount                   int64\n",
      "Action_Type                   int64\n",
      "State_Code                    int64\n",
      "County_Code                   int64\n",
      "Applicant_Income              int64\n",
      "Purchaser_Type                int64\n",
      "Denial_Reason_1               object\n",
      "Application_Date_Indicator    int64\n",
      "Name                          object\n",
      "Official�USPS Code            object\n",
      "dtypes: int64(13), object(4)\n",
      "memory usage: 328.4+ MB\n"
     ]
    }
   ],
   "source": [
    "df.info()"
   ]
  },
  {
   "cell_type": "code",
   "execution_count": 22,
   "metadata": {},
   "outputs": [],
   "source": [
    "df=df.rename(columns={'Name':'Property_Location','Official�USPS Code':'USPS_Code'})"
   ]
  },
  {
   "cell_type": "code",
   "execution_count": 23,
   "metadata": {},
   "outputs": [
    {
     "data": {
      "text/plain": [
       "Year                          0\n",
       "Respondent_ID                 0\n",
       "Agency_Code                   0\n",
       "Loan_Type                     0\n",
       "Property_Type                 0\n",
       "Loan_Purpose                  0\n",
       "Occupancy                     0\n",
       "Loan_Amount                   0\n",
       "Action_Type                   0\n",
       "State_Code                    0\n",
       "County_Code                   0\n",
       "Applicant_Income              0\n",
       "Purchaser_Type                0\n",
       "Denial_Reason_1               0\n",
       "Application_Date_Indicator    0\n",
       "Property_Location             0\n",
       "USPS_Code                     0\n",
       "dtype: int64"
      ]
     },
     "execution_count": 23,
     "metadata": {},
     "output_type": "execute_result"
    }
   ],
   "source": [
    "df.isnull().sum()"
   ]
  },
  {
   "cell_type": "code",
   "execution_count": 24,
   "metadata": {},
   "outputs": [
    {
     "data": {
      "text/plain": [
       "(2390983, 17)"
      ]
     },
     "execution_count": 24,
     "metadata": {},
     "output_type": "execute_result"
    }
   ],
   "source": [
    "df.shape "
   ]
  },
  {
   "cell_type": "code",
   "execution_count": 25,
   "metadata": {},
   "outputs": [],
   "source": [
    "gdp= pd.read_csv('/Users/meganpolak/Downloads/GDP_all_states.csv')"
   ]
  },
  {
   "cell_type": "code",
   "execution_count": 26,
   "metadata": {},
   "outputs": [
    {
     "data": {
      "text/plain": [
       "StateName                         0\n",
       "Year                              0\n",
       "Gross_State_Product_in_bilions    0\n",
       "Real_State_Growth_%               0\n",
       "dtype: int64"
      ]
     },
     "execution_count": 26,
     "metadata": {},
     "output_type": "execute_result"
    }
   ],
   "source": [
    "gdp.isnull().sum()"
   ]
  },
  {
   "cell_type": "code",
   "execution_count": 27,
   "metadata": {},
   "outputs": [],
   "source": [
    "# rename \n",
    "gdp= gdp.rename(columns={'StateName':'Property_Location'})"
   ]
  },
  {
   "cell_type": "code",
   "execution_count": 28,
   "metadata": {},
   "outputs": [
    {
     "data": {
      "text/plain": [
       "Index(['Year', 'Respondent_ID', 'Agency_Code', 'Loan_Type', 'Property_Type',\n",
       "       'Loan_Purpose', 'Occupancy', 'Loan_Amount', 'Action_Type', 'State_Code',\n",
       "       'County_Code', 'Applicant_Income', 'Purchaser_Type ', 'Denial_Reason_1',\n",
       "       'Application_Date_Indicator', 'Property_Location', 'USPS_Code'],\n",
       "      dtype='object')"
      ]
     },
     "execution_count": 28,
     "metadata": {},
     "output_type": "execute_result"
    }
   ],
   "source": [
    "df.columns"
   ]
  },
  {
   "cell_type": "code",
   "execution_count": 29,
   "metadata": {},
   "outputs": [],
   "source": [
    "new_df = pd.merge(df, gdp,  how='left', left_on=['Property_Location','Year'], right_on = ['Property_Location','Year'])"
   ]
  },
  {
   "cell_type": "code",
   "execution_count": 30,
   "metadata": {},
   "outputs": [
    {
     "data": {
      "text/plain": [
       "Year                              0\n",
       "Respondent_ID                     0\n",
       "Agency_Code                       0\n",
       "Loan_Type                         0\n",
       "Property_Type                     0\n",
       "Loan_Purpose                      0\n",
       "Occupancy                         0\n",
       "Loan_Amount                       0\n",
       "Action_Type                       0\n",
       "State_Code                        0\n",
       "County_Code                       0\n",
       "Applicant_Income                  0\n",
       "Purchaser_Type                    0\n",
       "Denial_Reason_1                   0\n",
       "Application_Date_Indicator        0\n",
       "Property_Location                 0\n",
       "USPS_Code                         0\n",
       "Gross_State_Product_in_bilions    0\n",
       "Real_State_Growth_%               0\n",
       "dtype: int64"
      ]
     },
     "execution_count": 30,
     "metadata": {},
     "output_type": "execute_result"
    }
   ],
   "source": [
    "new_df.isnull().sum()"
   ]
  },
  {
   "cell_type": "code",
   "execution_count": 31,
   "metadata": {},
   "outputs": [],
   "source": [
    "# load intrest rate data per year \n",
    "intRate=pd.read_csv('/Users/meganpolak/Desktop/InterestRateByYear.csv')"
   ]
  },
  {
   "cell_type": "code",
   "execution_count": 32,
   "metadata": {},
   "outputs": [
    {
     "data": {
      "text/html": [
       "<div>\n",
       "<style scoped>\n",
       "    .dataframe tbody tr th:only-of-type {\n",
       "        vertical-align: middle;\n",
       "    }\n",
       "\n",
       "    .dataframe tbody tr th {\n",
       "        vertical-align: top;\n",
       "    }\n",
       "\n",
       "    .dataframe thead th {\n",
       "        text-align: right;\n",
       "    }\n",
       "</style>\n",
       "<table border=\"1\" class=\"dataframe\">\n",
       "  <thead>\n",
       "    <tr style=\"text-align: right;\">\n",
       "      <th></th>\n",
       "      <th>Year</th>\n",
       "      <th>US_30_yr_FRM</th>\n",
       "    </tr>\n",
       "  </thead>\n",
       "  <tbody>\n",
       "    <tr>\n",
       "      <th>0</th>\n",
       "      <td>2010</td>\n",
       "      <td>4.689808</td>\n",
       "    </tr>\n",
       "    <tr>\n",
       "      <th>1</th>\n",
       "      <td>2011</td>\n",
       "      <td>4.447885</td>\n",
       "    </tr>\n",
       "    <tr>\n",
       "      <th>2</th>\n",
       "      <td>2012</td>\n",
       "      <td>3.657500</td>\n",
       "    </tr>\n",
       "    <tr>\n",
       "      <th>3</th>\n",
       "      <td>2013</td>\n",
       "      <td>3.975577</td>\n",
       "    </tr>\n",
       "    <tr>\n",
       "      <th>4</th>\n",
       "      <td>2014</td>\n",
       "      <td>4.168868</td>\n",
       "    </tr>\n",
       "    <tr>\n",
       "      <th>5</th>\n",
       "      <td>2015</td>\n",
       "      <td>3.850577</td>\n",
       "    </tr>\n",
       "    <tr>\n",
       "      <th>6</th>\n",
       "      <td>2016</td>\n",
       "      <td>3.654038</td>\n",
       "    </tr>\n",
       "    <tr>\n",
       "      <th>7</th>\n",
       "      <td>2017</td>\n",
       "      <td>3.989808</td>\n",
       "    </tr>\n",
       "  </tbody>\n",
       "</table>\n",
       "</div>"
      ],
      "text/plain": [
       "   Year  US_30_yr_FRM\n",
       "0  2010      4.689808\n",
       "1  2011      4.447885\n",
       "2  2012      3.657500\n",
       "3  2013      3.975577\n",
       "4  2014      4.168868\n",
       "5  2015      3.850577\n",
       "6  2016      3.654038\n",
       "7  2017      3.989808"
      ]
     },
     "execution_count": 32,
     "metadata": {},
     "output_type": "execute_result"
    }
   ],
   "source": [
    "intRate = intRate[['Year', 'US_30_yr_FRM']]\n",
    "intRate"
   ]
  },
  {
   "cell_type": "code",
   "execution_count": 33,
   "metadata": {},
   "outputs": [],
   "source": [
    "# merge data on Year \n",
    "new_df = pd.merge(new_df,intRate, how='left', left_on=['Year'], right_on = ['Year'])"
   ]
  },
  {
   "cell_type": "code",
   "execution_count": 34,
   "metadata": {},
   "outputs": [],
   "source": [
    "# caluclate PMT for 30 years \n",
    "new_df['PMT_30yr']=-np.pmt((new_df.US_30_yr_FRM/100)/12,360,new_df.Loan_Amount*1000)"
   ]
  },
  {
   "cell_type": "code",
   "execution_count": 35,
   "metadata": {},
   "outputs": [],
   "source": [
    "# calculate DTI for 30 \n",
    "\n",
    "new_df['DTI_30yr']= new_df.PMT_30yr/(new_df.Applicant_Income/12)"
   ]
  },
  {
   "cell_type": "code",
   "execution_count": 36,
   "metadata": {},
   "outputs": [],
   "source": [
    "new_df['Gross_State_Product_in_bilions'] = new_df.Gross_State_Product_in_bilions.str.replace(r'\\s+','').astype(float)\n",
    "#new_df['Gross State Product(in billions)'] = pd.to(new_df['Gross State Product(in billions)'].str.replace(' ',''), errors='force')"
   ]
  },
  {
   "cell_type": "code",
   "execution_count": 37,
   "metadata": {},
   "outputs": [
    {
     "name": "stdout",
     "output_type": "stream",
     "text": [
      "<class 'pandas.core.frame.DataFrame'>\n",
      "Int64Index: 2390983 entries, 0 to 2390982\n",
      "Data columns (total 22 columns):\n",
      "Year                              int64\n",
      "Respondent_ID                     object\n",
      "Agency_Code                       int64\n",
      "Loan_Type                         int64\n",
      "Property_Type                     int64\n",
      "Loan_Purpose                      int64\n",
      "Occupancy                         int64\n",
      "Loan_Amount                       int64\n",
      "Action_Type                       int64\n",
      "State_Code                        int64\n",
      "County_Code                       int64\n",
      "Applicant_Income                  int64\n",
      "Purchaser_Type                    int64\n",
      "Denial_Reason_1                   object\n",
      "Application_Date_Indicator        int64\n",
      "Property_Location                 object\n",
      "USPS_Code                         object\n",
      "Gross_State_Product_in_bilions    float64\n",
      "Real_State_Growth_%               float64\n",
      "US_30_yr_FRM                      float64\n",
      "PMT_30yr                          float64\n",
      "DTI_30yr                          float64\n",
      "dtypes: float64(5), int64(13), object(4)\n",
      "memory usage: 419.6+ MB\n"
     ]
    }
   ],
   "source": [
    "new_df.info()"
   ]
  },
  {
   "cell_type": "code",
   "execution_count": 38,
   "metadata": {},
   "outputs": [
    {
     "data": {
      "text/plain": [
       "Year                              0\n",
       "Respondent_ID                     0\n",
       "Agency_Code                       0\n",
       "Loan_Type                         0\n",
       "Property_Type                     0\n",
       "Loan_Purpose                      0\n",
       "Occupancy                         0\n",
       "Loan_Amount                       0\n",
       "Action_Type                       0\n",
       "State_Code                        0\n",
       "County_Code                       0\n",
       "Applicant_Income                  0\n",
       "Purchaser_Type                    0\n",
       "Denial_Reason_1                   0\n",
       "Application_Date_Indicator        0\n",
       "Property_Location                 0\n",
       "USPS_Code                         0\n",
       "Gross_State_Product_in_bilions    0\n",
       "Real_State_Growth_%               0\n",
       "US_30_yr_FRM                      0\n",
       "PMT_30yr                          0\n",
       "DTI_30yr                          0\n",
       "dtype: int64"
      ]
     },
     "execution_count": 38,
     "metadata": {},
     "output_type": "execute_result"
    }
   ],
   "source": [
    "new_df.isnull().sum()"
   ]
  },
  {
   "cell_type": "code",
   "execution_count": 39,
   "metadata": {},
   "outputs": [],
   "source": [
    "# load unemployment rate per state and year \n",
    "Unemploy=pd.read_csv('/Users/meganpolak/Documents/Unemp.csv')"
   ]
  },
  {
   "cell_type": "code",
   "execution_count": 40,
   "metadata": {},
   "outputs": [],
   "source": [
    "# rename state col to property location \n",
    "Unemploy=Unemploy.rename(columns={'State':'Property_Location'})"
   ]
  },
  {
   "cell_type": "code",
   "execution_count": 41,
   "metadata": {},
   "outputs": [],
   "source": [
    "# add unemployment rate to the df \n",
    "new_df = pd.merge(new_df,Unemploy,  how='left', left_on=['Property_Location','Year'], right_on = ['Property_Location','Year'])\n"
   ]
  },
  {
   "cell_type": "code",
   "execution_count": 42,
   "metadata": {},
   "outputs": [
    {
     "name": "stdout",
     "output_type": "stream",
     "text": [
      "<class 'pandas.core.frame.DataFrame'>\n",
      "Int64Index: 2390983 entries, 0 to 2390982\n",
      "Data columns (total 23 columns):\n",
      "Year                              int64\n",
      "Respondent_ID                     object\n",
      "Agency_Code                       int64\n",
      "Loan_Type                         int64\n",
      "Property_Type                     int64\n",
      "Loan_Purpose                      int64\n",
      "Occupancy                         int64\n",
      "Loan_Amount                       int64\n",
      "Action_Type                       int64\n",
      "State_Code                        int64\n",
      "County_Code                       int64\n",
      "Applicant_Income                  int64\n",
      "Purchaser_Type                    int64\n",
      "Denial_Reason_1                   object\n",
      "Application_Date_Indicator        int64\n",
      "Property_Location                 object\n",
      "USPS_Code                         object\n",
      "Gross_State_Product_in_bilions    float64\n",
      "Real_State_Growth_%               float64\n",
      "US_30_yr_FRM                      float64\n",
      "PMT_30yr                          float64\n",
      "DTI_30yr                          float64\n",
      "Unemployemnt                      float64\n",
      "dtypes: float64(6), int64(13), object(4)\n",
      "memory usage: 437.8+ MB\n"
     ]
    }
   ],
   "source": [
    "new_df.info()"
   ]
  },
  {
   "cell_type": "code",
   "execution_count": 43,
   "metadata": {},
   "outputs": [],
   "source": [
    "new_df=new_df.rename(columns={'US_30_yr_FRM':'Rate','PMT_30yr':'PMT','DTI_30yr':'IncRat', 'Gross_State_Product_in_bilions':'GDP', 'Applicant_Income':'Income', 'Loan_Amount':'Amount'})\n",
    "new_df[\"AmorTerm\"] = 360"
   ]
  },
  {
   "cell_type": "code",
   "execution_count": 44,
   "metadata": {},
   "outputs": [],
   "source": [
    "new_df = new_df[(new_df[\"Action_Type\"] == 1) | (new_df[\"Action_Type\"] == 2) | (new_df[\"Action_Type\"] == 3)| (new_df[\"Action_Type\"] == 6)|(new_df[\"Action_Type\"] == 7)]"
   ]
  },
  {
   "cell_type": "code",
   "execution_count": 45,
   "metadata": {},
   "outputs": [],
   "source": [
    "new_df = new_df[(new_df[\"Loan_Type\"] == 1)]"
   ]
  },
  {
   "cell_type": "code",
   "execution_count": 46,
   "metadata": {},
   "outputs": [
    {
     "data": {
      "text/plain": [
       "(1397641, 24)"
      ]
     },
     "execution_count": 46,
     "metadata": {},
     "output_type": "execute_result"
    }
   ],
   "source": [
    "new_df.shape "
   ]
  },
  {
   "cell_type": "code",
   "execution_count": 47,
   "metadata": {},
   "outputs": [],
   "source": [
    "new_df = new_df[(new_df[\"Loan_Purpose\"] == 1)]"
   ]
  },
  {
   "cell_type": "code",
   "execution_count": 48,
   "metadata": {},
   "outputs": [],
   "source": [
    "new_df = new_df[(new_df[\"Property_Type\"] == 1)]"
   ]
  },
  {
   "cell_type": "code",
   "execution_count": 49,
   "metadata": {},
   "outputs": [],
   "source": [
    "#df = new_df[(new_df[\"Action_Type\"] == 3) | (new_df[\"Action_Type\"] == 7) ]"
   ]
  },
  {
   "cell_type": "code",
   "execution_count": null,
   "metadata": {},
   "outputs": [],
   "source": []
  },
  {
   "cell_type": "code",
   "execution_count": 50,
   "metadata": {},
   "outputs": [
    {
     "data": {
      "text/plain": [
       "(496685, 24)"
      ]
     },
     "execution_count": 50,
     "metadata": {},
     "output_type": "execute_result"
    }
   ],
   "source": [
    "new_df.shape"
   ]
  },
  {
   "cell_type": "code",
   "execution_count": null,
   "metadata": {},
   "outputs": [],
   "source": [
    "#break"
   ]
  },
  {
   "cell_type": "code",
   "execution_count": 51,
   "metadata": {},
   "outputs": [],
   "source": [
    "def conditions(s):\n",
    "    if (s['Denial_Reason_1'] == '3'):\n",
    "        return 1\n",
    "    else:\n",
    "         return 4"
   ]
  },
  {
   "cell_type": "code",
   "execution_count": null,
   "metadata": {},
   "outputs": [],
   "source": []
  },
  {
   "cell_type": "code",
   "execution_count": 52,
   "metadata": {},
   "outputs": [],
   "source": [
    "new_df['BoCreditScor'] = new_df.apply(conditions, axis=1)"
   ]
  },
  {
   "cell_type": "code",
   "execution_count": 53,
   "metadata": {},
   "outputs": [],
   "source": [
    "def conditions(s):\n",
    "    if (s['Denial_Reason_1'] == '8'):\n",
    "        return 1\n",
    "    else:\n",
    "         return 0.75\n"
   ]
  },
  {
   "cell_type": "code",
   "execution_count": 54,
   "metadata": {},
   "outputs": [],
   "source": [
    "new_df['LTV'] = new_df.apply(conditions, axis=1)"
   ]
  },
  {
   "cell_type": "code",
   "execution_count": 55,
   "metadata": {},
   "outputs": [
    {
     "data": {
      "text/plain": [
       "(496685, 26)"
      ]
     },
     "execution_count": 55,
     "metadata": {},
     "output_type": "execute_result"
    }
   ],
   "source": [
    "new_df.shape"
   ]
  },
  {
   "cell_type": "code",
   "execution_count": 56,
   "metadata": {},
   "outputs": [],
   "source": [
    "scale = pd.DataFrame(data = new_df)"
   ]
  },
  {
   "cell_type": "code",
   "execution_count": 57,
   "metadata": {},
   "outputs": [],
   "source": [
    "## Balancing the Dataframe with 7K approved and 7K declined\n",
    "s1 = scale[scale[\"Action_Type\"] == 1]\n",
    "s2 = scale[scale[\"Action_Type\"] == 2]\n",
    "s6 = scale[scale[\"Action_Type\"] == 6]\n",
    "s3 = scale[scale[\"Action_Type\"] == 3]\n",
    "s7 = scale[scale[\"Action_Type\"] == 7]"
   ]
  },
  {
   "cell_type": "code",
   "execution_count": 58,
   "metadata": {},
   "outputs": [
    {
     "data": {
      "text/plain": [
       "(368860, 26)"
      ]
     },
     "execution_count": 58,
     "metadata": {},
     "output_type": "execute_result"
    }
   ],
   "source": [
    "s1.shape"
   ]
  },
  {
   "cell_type": "code",
   "execution_count": 59,
   "metadata": {},
   "outputs": [
    {
     "data": {
      "text/plain": [
       "(17798, 26)"
      ]
     },
     "execution_count": 59,
     "metadata": {},
     "output_type": "execute_result"
    }
   ],
   "source": [
    "s2.shape"
   ]
  },
  {
   "cell_type": "code",
   "execution_count": 60,
   "metadata": {},
   "outputs": [
    {
     "data": {
      "text/plain": [
       "(60357, 26)"
      ]
     },
     "execution_count": 60,
     "metadata": {},
     "output_type": "execute_result"
    }
   ],
   "source": [
    "s6.shape"
   ]
  },
  {
   "cell_type": "code",
   "execution_count": 61,
   "metadata": {},
   "outputs": [
    {
     "data": {
      "text/plain": [
       "(24, 26)"
      ]
     },
     "execution_count": 61,
     "metadata": {},
     "output_type": "execute_result"
    }
   ],
   "source": [
    "s7.shape"
   ]
  },
  {
   "cell_type": "code",
   "execution_count": 62,
   "metadata": {},
   "outputs": [
    {
     "data": {
      "text/plain": [
       "(49646, 26)"
      ]
     },
     "execution_count": 62,
     "metadata": {},
     "output_type": "execute_result"
    }
   ],
   "source": [
    "s3.shape"
   ]
  },
  {
   "cell_type": "code",
   "execution_count": null,
   "metadata": {},
   "outputs": [],
   "source": []
  },
  {
   "cell_type": "code",
   "execution_count": 67,
   "metadata": {},
   "outputs": [],
   "source": [
    "\n",
    "a = s1.head(17000)\n",
    "a= a.append(s2.head(16000))\n",
    "a= a.append(s6.head(16000))"
   ]
  },
  {
   "cell_type": "code",
   "execution_count": 71,
   "metadata": {},
   "outputs": [],
   "source": [
    "d = s3.head(48976)\n",
    "d = d.append(s7.head(24))"
   ]
  },
  {
   "cell_type": "code",
   "execution_count": 72,
   "metadata": {},
   "outputs": [
    {
     "data": {
      "text/plain": [
       "(49000, 26)"
      ]
     },
     "execution_count": 72,
     "metadata": {},
     "output_type": "execute_result"
    }
   ],
   "source": [
    "a.shape"
   ]
  },
  {
   "cell_type": "code",
   "execution_count": 73,
   "metadata": {},
   "outputs": [
    {
     "data": {
      "text/plain": [
       "(49000, 26)"
      ]
     },
     "execution_count": 73,
     "metadata": {},
     "output_type": "execute_result"
    }
   ],
   "source": [
    "d.shape"
   ]
  },
  {
   "cell_type": "code",
   "execution_count": 163,
   "metadata": {},
   "outputs": [],
   "source": []
  },
  {
   "cell_type": "code",
   "execution_count": 74,
   "metadata": {},
   "outputs": [],
   "source": [
    "# Appedning the dataframe\n",
    "final = a.append(d)\n",
    "\n",
    "#Shuffling the dataframe\n",
    "df = final.sample(frac=1).reset_index(drop=True)"
   ]
  },
  {
   "cell_type": "code",
   "execution_count": 75,
   "metadata": {},
   "outputs": [],
   "source": [
    "y = []\n",
    "a = 0\n",
    "d = 0\n",
    "for i in final[\"Action_Type\"]:\n",
    "    if i ==1 or i ==2 or i ==6:\n",
    "        a +=1\n",
    "        y.append(1)\n",
    "        \n",
    "    elif i ==3 or i==7:\n",
    "        d +=1\n",
    "        y.append(0)"
   ]
  },
  {
   "cell_type": "code",
   "execution_count": 76,
   "metadata": {},
   "outputs": [],
   "source": [
    "del final[\"Action_Type\"]"
   ]
  },
  {
   "cell_type": "code",
   "execution_count": 77,
   "metadata": {},
   "outputs": [],
   "source": [
    "del final['Property_Location']"
   ]
  },
  {
   "cell_type": "code",
   "execution_count": 78,
   "metadata": {},
   "outputs": [
    {
     "data": {
      "text/plain": [
       "Index(['Year', 'Respondent_ID', 'Agency_Code', 'Loan_Type', 'Property_Type',\n",
       "       'Loan_Purpose', 'Occupancy', 'Amount', 'State_Code', 'County_Code',\n",
       "       'Income', 'Purchaser_Type ', 'Denial_Reason_1',\n",
       "       'Application_Date_Indicator', 'USPS_Code', 'GDP', 'Real_State_Growth_%',\n",
       "       'Rate', 'PMT', 'IncRat', 'Unemployemnt', 'AmorTerm', 'BoCreditScor',\n",
       "       'LTV'],\n",
       "      dtype='object')"
      ]
     },
     "execution_count": 78,
     "metadata": {},
     "output_type": "execute_result"
    }
   ],
   "source": [
    "final.columns"
   ]
  },
  {
   "cell_type": "code",
   "execution_count": 79,
   "metadata": {},
   "outputs": [
    {
     "data": {
      "text/plain": [
       "(98000, 26)"
      ]
     },
     "execution_count": 79,
     "metadata": {},
     "output_type": "execute_result"
    }
   ],
   "source": [
    "df.shape"
   ]
  },
  {
   "cell_type": "code",
   "execution_count": 60,
   "metadata": {},
   "outputs": [
    {
     "data": {
      "text/plain": [
       "0.75    1822835\n",
       "1.00        261\n",
       "Name: LTV, dtype: int64"
      ]
     },
     "execution_count": 60,
     "metadata": {},
     "output_type": "execute_result"
    }
   ],
   "source": [
    "new_df.LTV.value_counts()"
   ]
  },
  {
   "cell_type": "code",
   "execution_count": null,
   "metadata": {},
   "outputs": [],
   "source": []
  },
  {
   "cell_type": "code",
   "execution_count": 63,
   "metadata": {
    "scrolled": true
   },
   "outputs": [
    {
     "data": {
      "text/plain": [
       "Index(['Year', 'Respondent_ID', 'Agency_Code', 'Loan_Type', 'Property_Type',\n",
       "       'Loan_Purpose', 'Occupancy', 'Amount', 'Action_Type', 'State_Code',\n",
       "       'County_Code', 'Income', 'Purchaser_Type ', 'Denial_Reason_1',\n",
       "       'Application_Date_Indicator', 'Property_Location', 'USPS_Code', 'GDP',\n",
       "       'Real_State_Growth_%', 'Rate', 'PMT', 'IncRat', 'Unemployemnt',\n",
       "       'AmorTerm', 'BoCreditScor', 'LTV'],\n",
       "      dtype='object')"
      ]
     },
     "execution_count": 63,
     "metadata": {},
     "output_type": "execute_result"
    }
   ],
   "source": [
    "new_df.columns"
   ]
  },
  {
   "cell_type": "code",
   "execution_count": 62,
   "metadata": {},
   "outputs": [
    {
     "data": {
      "text/plain": [
       "1    1064965\n",
       "3     411037\n",
       "6     256370\n",
       "2      90572\n",
       "7        152\n",
       "Name: Action_Type, dtype: int64"
      ]
     },
     "execution_count": 62,
     "metadata": {},
     "output_type": "execute_result"
    }
   ],
   "source": [
    "new_df.Action_Type.value_counts()"
   ]
  },
  {
   "cell_type": "code",
   "execution_count": 80,
   "metadata": {},
   "outputs": [],
   "source": [
    "df.to_csv('/Users/meganpolak/Documents/2016_Declined.csv')"
   ]
  },
  {
   "cell_type": "code",
   "execution_count": null,
   "metadata": {},
   "outputs": [],
   "source": []
  }
 ],
 "metadata": {
  "kernelspec": {
   "display_name": "Python 3",
   "language": "python",
   "name": "python3"
  },
  "language_info": {
   "codemirror_mode": {
    "name": "ipython",
    "version": 3
   },
   "file_extension": ".py",
   "mimetype": "text/x-python",
   "name": "python",
   "nbconvert_exporter": "python",
   "pygments_lexer": "ipython3",
   "version": "3.6.5"
  }
 },
 "nbformat": 4,
 "nbformat_minor": 2
}
