{
 "cells": [
  {
   "cell_type": "code",
   "execution_count": 1,
   "metadata": {},
   "outputs": [
    {
     "name": "stderr",
     "output_type": "stream",
     "text": [
      "/Users/chaitanyapotnis/anaconda/lib/python3.6/site-packages/sklearn/cross_validation.py:44: DeprecationWarning: This module was deprecated in version 0.18 in favor of the model_selection module into which all the refactored classes and functions are moved. Also note that the interface of the new CV iterators are different from that of this module. This module will be removed in 0.20.\n",
      "  \"This module will be removed in 0.20.\", DeprecationWarning)\n"
     ]
    },
    {
     "data": {
      "text/html": [
       "<table border=\"1\" class=\"dataframe\">\n",
       "  <thead>\n",
       "    <tr style=\"text-align: right;\">\n",
       "      <th></th>\n",
       "      <th>Unnamed: 0</th>\n",
       "      <th>Year</th>\n",
       "      <th>Respondent_ID</th>\n",
       "      <th>Agency_Code</th>\n",
       "      <th>Loan_Type</th>\n",
       "      <th>Property_Type</th>\n",
       "      <th>Loan_Purpose</th>\n",
       "      <th>Occupancy</th>\n",
       "      <th>Amount</th>\n",
       "      <th>Action_Type</th>\n",
       "      <th>State_Code</th>\n",
       "      <th>County_Code</th>\n",
       "      <th>Income</th>\n",
       "      <th>Purchaser_Type</th>\n",
       "      <th>Denial_Reason_1</th>\n",
       "      <th>Rate_Spread</th>\n",
       "      <th>Application_Date_Indicator</th>\n",
       "      <th>Property_Location</th>\n",
       "      <th>USPS_Code</th>\n",
       "      <th>GDP</th>\n",
       "      <th>Real State Growth %</th>\n",
       "      <th>Rate</th>\n",
       "      <th>PMT</th>\n",
       "      <th>IncRat</th>\n",
       "      <th>Unemployemnt</th>\n",
       "      <th>AmorTerm</th>\n",
       "      <th>BoCreditScor</th>\n",
       "      <th>LTV</th>\n",
       "    </tr>\n",
       "  </thead>\n",
       "  <tbody>\n",
       "    <tr>\n",
       "      <th>0</th>\n",
       "      <td>0</td>\n",
       "      <td>2015</td>\n",
       "      <td>659855</td>\n",
       "      <td>2</td>\n",
       "      <td>1</td>\n",
       "      <td>1</td>\n",
       "      <td>1</td>\n",
       "      <td>2</td>\n",
       "      <td>113</td>\n",
       "      <td>1</td>\n",
       "      <td>2</td>\n",
       "      <td>20</td>\n",
       "      <td>61</td>\n",
       "      <td>7</td>\n",
       "      <td></td>\n",
       "      <td>NA</td>\n",
       "      <td>0</td>\n",
       "      <td>Alaska</td>\n",
       "      <td>AK</td>\n",
       "      <td>53.4</td>\n",
       "      <td>0.6</td>\n",
       "      <td>3.850577</td>\n",
       "      <td>529.790534</td>\n",
       "      <td>0.104221</td>\n",
       "      <td>6.5</td>\n",
       "      <td>360</td>\n",
       "      <td>4</td>\n",
       "      <td>0.75</td>\n",
       "    </tr>\n",
       "    <tr>\n",
       "      <th>1</th>\n",
       "      <td>1</td>\n",
       "      <td>2015</td>\n",
       "      <td>2888798</td>\n",
       "      <td>2</td>\n",
       "      <td>1</td>\n",
       "      <td>1</td>\n",
       "      <td>1</td>\n",
       "      <td>1</td>\n",
       "      <td>351</td>\n",
       "      <td>1</td>\n",
       "      <td>2</td>\n",
       "      <td>20</td>\n",
       "      <td>125</td>\n",
       "      <td>3</td>\n",
       "      <td></td>\n",
       "      <td>NA</td>\n",
       "      <td>0</td>\n",
       "      <td>Alaska</td>\n",
       "      <td>AK</td>\n",
       "      <td>53.4</td>\n",
       "      <td>0.6</td>\n",
       "      <td>3.850577</td>\n",
       "      <td>1645.632542</td>\n",
       "      <td>0.157981</td>\n",
       "      <td>6.5</td>\n",
       "      <td>360</td>\n",
       "      <td>4</td>\n",
       "      <td>0.75</td>\n",
       "    </tr>\n",
       "    <tr>\n",
       "      <th>2</th>\n",
       "      <td>2</td>\n",
       "      <td>2015</td>\n",
       "      <td>2888798</td>\n",
       "      <td>2</td>\n",
       "      <td>1</td>\n",
       "      <td>1</td>\n",
       "      <td>1</td>\n",
       "      <td>1</td>\n",
       "      <td>148</td>\n",
       "      <td>2</td>\n",
       "      <td>2</td>\n",
       "      <td>20</td>\n",
       "      <td>69</td>\n",
       "      <td>0</td>\n",
       "      <td></td>\n",
       "      <td>NA</td>\n",
       "      <td>0</td>\n",
       "      <td>Alaska</td>\n",
       "      <td>AK</td>\n",
       "      <td>53.4</td>\n",
       "      <td>0.6</td>\n",
       "      <td>3.850577</td>\n",
       "      <td>693.884947</td>\n",
       "      <td>0.120676</td>\n",
       "      <td>6.5</td>\n",
       "      <td>360</td>\n",
       "      <td>4</td>\n",
       "      <td>0.75</td>\n",
       "    </tr>\n",
       "    <tr>\n",
       "      <th>3</th>\n",
       "      <td>3</td>\n",
       "      <td>2015</td>\n",
       "      <td>2888798</td>\n",
       "      <td>2</td>\n",
       "      <td>1</td>\n",
       "      <td>1</td>\n",
       "      <td>1</td>\n",
       "      <td>1</td>\n",
       "      <td>167</td>\n",
       "      <td>2</td>\n",
       "      <td>2</td>\n",
       "      <td>20</td>\n",
       "      <td>69</td>\n",
       "      <td>0</td>\n",
       "      <td></td>\n",
       "      <td>NA</td>\n",
       "      <td>0</td>\n",
       "      <td>Alaska</td>\n",
       "      <td>AK</td>\n",
       "      <td>53.4</td>\n",
       "      <td>0.6</td>\n",
       "      <td>3.850577</td>\n",
       "      <td>782.964771</td>\n",
       "      <td>0.136168</td>\n",
       "      <td>6.5</td>\n",
       "      <td>360</td>\n",
       "      <td>4</td>\n",
       "      <td>0.75</td>\n",
       "    </tr>\n",
       "    <tr>\n",
       "      <th>4</th>\n",
       "      <td>4</td>\n",
       "      <td>2015</td>\n",
       "      <td>2888798</td>\n",
       "      <td>2</td>\n",
       "      <td>1</td>\n",
       "      <td>1</td>\n",
       "      <td>1</td>\n",
       "      <td>1</td>\n",
       "      <td>197</td>\n",
       "      <td>1</td>\n",
       "      <td>2</td>\n",
       "      <td>20</td>\n",
       "      <td>43</td>\n",
       "      <td>6</td>\n",
       "      <td></td>\n",
       "      <td>NA</td>\n",
       "      <td>0</td>\n",
       "      <td>Alaska</td>\n",
       "      <td>AK</td>\n",
       "      <td>53.4</td>\n",
       "      <td>0.6</td>\n",
       "      <td>3.850577</td>\n",
       "      <td>923.617125</td>\n",
       "      <td>0.257754</td>\n",
       "      <td>6.5</td>\n",
       "      <td>360</td>\n",
       "      <td>4</td>\n",
       "      <td>0.75</td>\n",
       "    </tr>\n",
       "  </tbody>\n",
       "</table>"
      ],
      "text/plain": [
       "<IPython.core.display.HTML object>"
      ]
     },
     "metadata": {},
     "output_type": "display_data"
    }
   ],
   "source": [
    "import pandas as pd\n",
    "import numpy as np\n",
    "from sklearn.preprocessing import MinMaxScaler\n",
    "from sklearn.cross_validation import train_test_split\n",
    "\n",
    "from IPython.core.display import display, HTML\n",
    "\n",
    "df = pd.read_csv(\"ML_Processed_Data.csv\")\n",
    "display(HTML(df.head().to_html()))"
   ]
  },
  {
   "cell_type": "code",
   "execution_count": 2,
   "metadata": {},
   "outputs": [],
   "source": [
    "interested = ['Agency_Code', 'Loan_Type','Property_Type', 'Loan_Purpose', 'Occupancy', 'Amount', 'Action_Type','State_Code', 'County_Code', 'Income', 'Purchaser_Type ','Application_Date_Indicator','Property_Location', 'USPS_Code', 'GDP', 'Real State Growth %', 'Rate','PMT', 'IncRat', 'Unemployemnt', 'AmorTerm', 'BoCreditScor', 'LTV']\n",
    "data = df[interested]\n",
    "\n",
    "cat = ['Agency_Code', 'Loan_Type', 'Property_Type', 'Loan_Purpose','Occupancy','USPS_Code' , 'County_Code','BoCreditScor', 'LTV' ]\n",
    "\n",
    "no_cat = ['Amount', 'Income', 'GDP', 'Real State Growth %', 'Rate', 'PMT', 'IncRat', 'Unemployemnt']\n",
    "\n",
    "pre = pd.get_dummies(data, columns=cat, drop_first=True)\n",
    "\n",
    "scaler = MinMaxScaler()\n",
    "scale = pd.DataFrame(data = pre)\n",
    "scale[no_cat] = scaler.fit_transform(pre[no_cat])\n",
    "\n",
    "s1 = scale[scale[\"Action_Type\"] == 1]\n",
    "s2 = scale[scale[\"Action_Type\"] == 2]\n",
    "s6 = scale[scale[\"Action_Type\"] == 6]\n",
    "s3 = scale[scale[\"Action_Type\"] == 3]\n",
    "s7 = scale[scale[\"Action_Type\"] == 7]\n",
    "\n",
    "a = s1.head(6000)\n",
    "a= a.append(s2.head(500))\n",
    "a= a.append(s6.head(500))\n",
    "\n",
    "d = s3.head(6997)\n",
    "d = d.append(s7.head(3))\n",
    "\n",
    "final = a.append(d)\n",
    "\n",
    "#Shuffling the dataframe\n",
    "df = final.sample(frac=1).reset_index(drop=True)\n",
    "\n",
    "y = []\n",
    "a = 0\n",
    "d = 0\n",
    "for i in final[\"Action_Type\"]:\n",
    "    if i ==1 or i ==2 or i ==6:\n",
    "        a +=1\n",
    "        y.append(1)\n",
    "        \n",
    "    elif i ==3 or i==7:\n",
    "        d +=1\n",
    "        y.append(0)"
   ]
  },
  {
   "cell_type": "code",
   "execution_count": 3,
   "metadata": {
    "collapsed": true
   },
   "outputs": [],
   "source": [
    "del final[\"Action_Type\"]\n",
    "del final['Property_Location']"
   ]
  },
  {
   "cell_type": "code",
   "execution_count": 4,
   "metadata": {},
   "outputs": [
    {
     "name": "stdout",
     "output_type": "stream",
     "text": [
      "Training set has 9800 samples.\n",
      "Testing set has 4200 samples.\n"
     ]
    }
   ],
   "source": [
    "X_train, X_test, y_train, y_test = train_test_split(final, \n",
    "                                                    y, \n",
    "                                                    test_size = 0.3, \n",
    "                                                    random_state = 0)\n",
    "\n",
    "\n",
    "print (\"Training set has {} samples.\".format(X_train.shape[0]))\n",
    "print (\"Testing set has {} samples.\".format(X_test.shape[0]))"
   ]
  },
  {
   "cell_type": "code",
   "execution_count": 5,
   "metadata": {},
   "outputs": [],
   "source": [
    "X_train\n",
    "Xtrain = X_train.reset_index(drop=True)"
   ]
  },
  {
   "cell_type": "code",
   "execution_count": 6,
   "metadata": {},
   "outputs": [],
   "source": [
    "Xtrain = np.array(X_train)\n",
    "ytrain = np.array(y_train)\n",
    "Xtest = np.array(X_test)\n",
    "ytest = np.array(y_test)\n"
   ]
  },
  {
   "cell_type": "code",
   "execution_count": 13,
   "metadata": {},
   "outputs": [
    {
     "name": "stdout",
     "output_type": "stream",
     "text": [
      "Train on 6860 samples, validate on 2940 samples\n",
      "Epoch 1/20\n",
      "6860/6860 [==============================] - 1s - loss: 0.4933 - acc: 0.7532 - val_loss: 0.4068 - val_acc: 0.7952\n",
      "Epoch 2/20\n",
      "6860/6860 [==============================] - 1s - loss: 0.3299 - acc: 0.8662 - val_loss: 0.2642 - val_acc: 0.9156\n",
      "Epoch 3/20\n",
      "6860/6860 [==============================] - 1s - loss: 0.2107 - acc: 0.9389 - val_loss: 0.1758 - val_acc: 0.9582\n",
      "Epoch 4/20\n",
      "6860/6860 [==============================] - 1s - loss: 0.1464 - acc: 0.9612 - val_loss: 0.1317 - val_acc: 0.9636\n",
      "Epoch 5/20\n",
      "6860/6860 [==============================] - 1s - loss: 0.1145 - acc: 0.9676 - val_loss: 0.1114 - val_acc: 0.9653\n",
      "Epoch 6/20\n",
      "6860/6860 [==============================] - 1s - loss: 0.0995 - acc: 0.9706 - val_loss: 0.1253 - val_acc: 0.9503\n",
      "Epoch 7/20\n",
      "6860/6860 [==============================] - 1s - loss: 0.0903 - acc: 0.9716 - val_loss: 0.1202 - val_acc: 0.9514\n",
      "Epoch 8/20\n",
      "6860/6860 [==============================] - 1s - loss: 0.0886 - acc: 0.9711 - val_loss: 0.1286 - val_acc: 0.9469\n",
      "Epoch 9/20\n",
      "6860/6860 [==============================] - 1s - loss: 0.0817 - acc: 0.9707 - val_loss: 0.0898 - val_acc: 0.9663\n",
      "Epoch 10/20\n",
      "6860/6860 [==============================] - 1s - loss: 0.0810 - acc: 0.9720 - val_loss: 0.1016 - val_acc: 0.9673\n",
      "Epoch 11/20\n",
      "6860/6860 [==============================] - 1s - loss: 0.0800 - acc: 0.9719 - val_loss: 0.0882 - val_acc: 0.9677\n",
      "Epoch 12/20\n",
      "6860/6860 [==============================] - 1s - loss: 0.0796 - acc: 0.9717 - val_loss: 0.0914 - val_acc: 0.9616\n",
      "Epoch 13/20\n",
      "6860/6860 [==============================] - 1s - loss: 0.0745 - acc: 0.9736 - val_loss: 0.0850 - val_acc: 0.9660\n",
      "Epoch 14/20\n",
      "6860/6860 [==============================] - 1s - loss: 0.0754 - acc: 0.9711 - val_loss: 0.0858 - val_acc: 0.9656\n",
      "Epoch 15/20\n",
      "6860/6860 [==============================] - 1s - loss: 0.0739 - acc: 0.9724 - val_loss: 0.0849 - val_acc: 0.9663\n",
      "Epoch 16/20\n",
      "6860/6860 [==============================] - 1s - loss: 0.0705 - acc: 0.9730 - val_loss: 0.0884 - val_acc: 0.9595\n",
      "Epoch 17/20\n",
      "6860/6860 [==============================] - 1s - loss: 0.0726 - acc: 0.9733 - val_loss: 0.0880 - val_acc: 0.9595\n",
      "Epoch 18/20\n",
      "6860/6860 [==============================] - ETA: 0s - loss: 0.0664 - acc: 0.973 - 1s - loss: 0.0669 - acc: 0.9736 - val_loss: 0.0946 - val_acc: 0.9677\n",
      "Epoch 19/20\n",
      "6860/6860 [==============================] - 1s - loss: 0.0710 - acc: 0.9733 - val_loss: 0.0880 - val_acc: 0.9588\n",
      "Epoch 20/20\n",
      "6860/6860 [==============================] - 1s - loss: 0.0774 - acc: 0.9707 - val_loss: 0.0867 - val_acc: 0.9585\n"
     ]
    }
   ],
   "source": [
    "classifier = 0\n",
    "import keras\n",
    "from keras.models import Sequential\n",
    "from keras.layers import Dense\n",
    "\n",
    "classifier = Sequential()\n",
    "\n",
    "classifier.add(Dense(units = 6, activation = 'relu', input_dim = 339))\n",
    "\n",
    "classifier.add(Dense(units = 6, activation = 'relu'))\n",
    "\n",
    "classifier.add(Dense(units = 1, activation = 'sigmoid'))\n",
    "\n",
    "classifier.compile(optimizer = 'adam', loss = 'binary_crossentropy', metrics = ['accuracy'])\n",
    "\n",
    "history = classifier.fit(Xtrain, ytrain, batch_size =32, epochs = 20, validation_split= 0.30)"
   ]
  },
  {
   "cell_type": "code",
   "execution_count": 15,
   "metadata": {},
   "outputs": [
    {
     "name": "stdout",
     "output_type": "stream",
     "text": [
      "4160/4200 [============================>.] - ETA: 0s"
     ]
    }
   ],
   "source": [
    "# Predicting the Test set results\n",
    "score = classifier.evaluate(Xtest, ytest, batch_size=32)\n",
    "\n"
   ]
  },
  {
   "cell_type": "code",
   "execution_count": 16,
   "metadata": {},
   "outputs": [
    {
     "data": {
      "text/plain": [
       "[0.08232805326581001, 0.9621428571428572]"
      ]
     },
     "execution_count": 16,
     "metadata": {},
     "output_type": "execute_result"
    }
   ],
   "source": [
    "score"
   ]
  },
  {
   "cell_type": "code",
   "execution_count": 18,
   "metadata": {},
   "outputs": [
    {
     "data": {
      "image/png": "[encoded data removed]",
      "text/plain": [
       "<Figure size 432x288 with 1 Axes>"
      ]
     },
     "metadata": {},
     "output_type": "display_data"
    },
    {
     "data": {
      "image/png": "[encoded data removed]",
      "text/plain": [
       "<Figure size 432x288 with 1 Axes>"
      ]
     },
     "metadata": {},
     "output_type": "display_data"
    }
   ],
   "source": [
    "import matplotlib.pyplot as plt\n",
    "# summarize history for accuracy\n",
    "plt.plot(history.history['acc'])\n",
    "plt.plot(history.history['val_acc'])\n",
    "plt.title('model accuracy')\n",
    "plt.ylabel('accuracy')\n",
    "plt.xlabel('epoch')\n",
    "plt.legend(['Train', 'Validation'], loc='upper left')\n",
    "plt.show()\n",
    "# summarize history for loss\n",
    "plt.plot(history.history['loss'])\n",
    "plt.plot(history.history['val_loss'])\n",
    "plt.title('model loss')\n",
    "plt.ylabel('loss')\n",
    "plt.xlabel('epoch')\n",
    "plt.legend(['Train', 'Validation'], loc='upper left')\n",
    "plt.show()"
   ]
  },
  {
   "cell_type": "code",
   "execution_count": null,
   "metadata": {
    "collapsed": true
   },
   "outputs": [],
   "source": []
  }
 ],
 "metadata": {
  "kernelspec": {
   "display_name": "Python 3",
   "language": "python",
   "name": "python3"
  },
  "language_info": {
   "codemirror_mode": {
    "name": "ipython",
    "version": 3
   },
   "file_extension": ".py",
   "mimetype": "text/x-python",
   "name": "python",
   "nbconvert_exporter": "python",
   "pygments_lexer": "ipython3",
   "version": "3.6.4"
  }
 },
 "nbformat": 4,
 "nbformat_minor": 2
}
